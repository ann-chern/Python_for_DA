{
  "cells": [
    {
      "cell_type": "markdown",
      "metadata": {
        "id": "mByPWiidS8Z5"
      },
      "source": [
        "# Лабораторная работа №2. Pandas"
      ]
    },
    {
      "cell_type": "markdown",
      "metadata": {
        "id": "SSasC_JtTK6r"
      },
      "source": [
        "*Версия от 29.09.2024*\n",
        "\n",
        "**Мягкий дедлайн** ~ 10.10.24\n",
        "\n",
        "**Жесткий дедлайн** ~ 24.10.24"
      ]
    },
    {
      "cell_type": "markdown",
      "metadata": {
        "id": "xTNbV6c6CEbV"
      },
      "source": [
        "Вам предстоит поработать с большим датасетом, содержащим логи пользователей на сайте магазина по продаже косметики. Записи собраны с октября 2019 г. по февраль 2020 г.\n",
        "\n",
        "https://www.kaggle.com/datasets/mkechinov/ecommerce-events-history-in-cosmetics-shop\n",
        "\n",
        "Каждая строка в файле представляет лог-событие. Все события связаны с товарами и пользователями.\n",
        "\n",
        "Описание столбцов:\n",
        "\n",
        "`event_time` - время события\n",
        "\n",
        "`event_type` - тип события (**view** - просмотр товара, **cart** - добавление/просмотр корзины, **remove_from_cart** - удаление из корзины, **purchase** - покупка)\n",
        "\n",
        "`product_id` - уникальный идентификатор товара\n",
        "\n",
        "`category_id` - уникальный идентификатор категории, к которой принадлежит продукт\n",
        "\n",
        "`category_code` - название категории\n",
        "\n",
        "`brand` - компания, которая выпускает товар\n",
        "\n",
        "`price` - цена продукта\n",
        "\n",
        "`user_id` - уникальный идентификатор пользователя\n",
        "\n",
        "`user_session` - уникальный индентификатор сессии пользователя, в течение которое происходят события"
      ]
    },
    {
      "cell_type": "markdown",
      "metadata": {
        "id": "cDCVM7gZQ16r"
      },
      "source": [
        "Импортируйте необходимые библиотеки:"
      ]
    },
    {
      "cell_type": "code",
      "execution_count": 1,
      "metadata": {
        "id": "XKuUUJrPQ7CN"
      },
      "outputs": [],
      "source": [
        "import numpy as np\n",
        "import pandas as pd\n",
        "\n",
        "import matplotlib.pyplot as plt"
      ]
    },
    {
      "cell_type": "markdown",
      "metadata": {
        "id": "2neR_Q1ATs45"
      },
      "source": [
        "## Задание 1. Подготовка данных\n",
        "(0.5 баллов)"
      ]
    },
    {
      "cell_type": "markdown",
      "metadata": {
        "id": "Alx62m0wIUHj"
      },
      "source": [
        "1) Имеется 5 файлов, в каждом из которых пользовательские сессии за каждый месяц с октября по февраль.\n",
        "\n",
        "Создайте один большой датасет `events_data` объединив все имеющиеся (`2019-Oct.csv`,`2019-Nov.csv`, `2019-Dec.csv`, `2020-Jan.csv`, `2020-Feb.csv`)\n",
        "\n",
        "Не забудьте переиндексировать новый датасет."
      ]
    },
    {
      "cell_type": "markdown",
      "metadata": {
        "id": "SLFRXmZ9VDaP"
      },
      "source": [
        "Если вы используете `Google Colab`, то наиболее удобным способом работы с файлами будет использование гугл диска, в котором будут находиться все ваши файлы."
      ]
    },
    {
      "cell_type": "code",
      "execution_count": 2,
      "metadata": {
        "id": "uSzHS6g2eegl"
      },
      "outputs": [],
      "source": [
        "df_oct=  pd.read_csv('2019-Oct.csv')\n",
        "df_nov=  pd.read_csv('2019-Nov.csv')\n",
        "df_dec=  pd.read_csv('2019-Dec.csv')\n",
        "df_jan=  pd.read_csv('2020-Jan.csv')\n",
        "df_feb=  pd.read_csv('2020-Feb.csv')"
      ]
    },
    {
      "cell_type": "code",
      "execution_count": 3,
      "metadata": {
        "colab": {
          "base_uri": "https://localhost:8080/",
          "height": 206
        },
        "id": "wb3vMyTYBkMr",
        "outputId": "64cadf48-127a-44f0-903a-28495689a906"
      },
      "outputs": [
        {
          "data": {
            "text/html": [
              "<div>\n",
              "<style scoped>\n",
              "    .dataframe tbody tr th:only-of-type {\n",
              "        vertical-align: middle;\n",
              "    }\n",
              "\n",
              "    .dataframe tbody tr th {\n",
              "        vertical-align: top;\n",
              "    }\n",
              "\n",
              "    .dataframe thead th {\n",
              "        text-align: right;\n",
              "    }\n",
              "</style>\n",
              "<table border=\"1\" class=\"dataframe\">\n",
              "  <thead>\n",
              "    <tr style=\"text-align: right;\">\n",
              "      <th></th>\n",
              "      <th>event_time</th>\n",
              "      <th>event_type</th>\n",
              "      <th>product_id</th>\n",
              "      <th>category_id</th>\n",
              "      <th>category_code</th>\n",
              "      <th>brand</th>\n",
              "      <th>price</th>\n",
              "      <th>user_id</th>\n",
              "      <th>user_session</th>\n",
              "    </tr>\n",
              "  </thead>\n",
              "  <tbody>\n",
              "    <tr>\n",
              "      <th>0</th>\n",
              "      <td>2019-10-01 00:00:00 UTC</td>\n",
              "      <td>cart</td>\n",
              "      <td>5773203</td>\n",
              "      <td>1487580005134238553</td>\n",
              "      <td>NaN</td>\n",
              "      <td>runail</td>\n",
              "      <td>2.62</td>\n",
              "      <td>463240011</td>\n",
              "      <td>26dd6e6e-4dac-4778-8d2c-92e149dab885</td>\n",
              "    </tr>\n",
              "    <tr>\n",
              "      <th>1</th>\n",
              "      <td>2019-10-01 00:00:03 UTC</td>\n",
              "      <td>cart</td>\n",
              "      <td>5773353</td>\n",
              "      <td>1487580005134238553</td>\n",
              "      <td>NaN</td>\n",
              "      <td>runail</td>\n",
              "      <td>2.62</td>\n",
              "      <td>463240011</td>\n",
              "      <td>26dd6e6e-4dac-4778-8d2c-92e149dab885</td>\n",
              "    </tr>\n",
              "    <tr>\n",
              "      <th>2</th>\n",
              "      <td>2019-10-01 00:00:07 UTC</td>\n",
              "      <td>cart</td>\n",
              "      <td>5881589</td>\n",
              "      <td>2151191071051219817</td>\n",
              "      <td>NaN</td>\n",
              "      <td>lovely</td>\n",
              "      <td>13.48</td>\n",
              "      <td>429681830</td>\n",
              "      <td>49e8d843-adf3-428b-a2c3-fe8bc6a307c9</td>\n",
              "    </tr>\n",
              "    <tr>\n",
              "      <th>3</th>\n",
              "      <td>2019-10-01 00:00:07 UTC</td>\n",
              "      <td>cart</td>\n",
              "      <td>5723490</td>\n",
              "      <td>1487580005134238553</td>\n",
              "      <td>NaN</td>\n",
              "      <td>runail</td>\n",
              "      <td>2.62</td>\n",
              "      <td>463240011</td>\n",
              "      <td>26dd6e6e-4dac-4778-8d2c-92e149dab885</td>\n",
              "    </tr>\n",
              "    <tr>\n",
              "      <th>4</th>\n",
              "      <td>2019-10-01 00:00:15 UTC</td>\n",
              "      <td>cart</td>\n",
              "      <td>5881449</td>\n",
              "      <td>1487580013522845895</td>\n",
              "      <td>NaN</td>\n",
              "      <td>lovely</td>\n",
              "      <td>0.56</td>\n",
              "      <td>429681830</td>\n",
              "      <td>49e8d843-adf3-428b-a2c3-fe8bc6a307c9</td>\n",
              "    </tr>\n",
              "  </tbody>\n",
              "</table>\n",
              "</div>"
            ],
            "text/plain": [
              "                event_time event_type  product_id          category_id  \\\n",
              "0  2019-10-01 00:00:00 UTC       cart     5773203  1487580005134238553   \n",
              "1  2019-10-01 00:00:03 UTC       cart     5773353  1487580005134238553   \n",
              "2  2019-10-01 00:00:07 UTC       cart     5881589  2151191071051219817   \n",
              "3  2019-10-01 00:00:07 UTC       cart     5723490  1487580005134238553   \n",
              "4  2019-10-01 00:00:15 UTC       cart     5881449  1487580013522845895   \n",
              "\n",
              "  category_code   brand  price    user_id  \\\n",
              "0           NaN  runail   2.62  463240011   \n",
              "1           NaN  runail   2.62  463240011   \n",
              "2           NaN  lovely  13.48  429681830   \n",
              "3           NaN  runail   2.62  463240011   \n",
              "4           NaN  lovely   0.56  429681830   \n",
              "\n",
              "                           user_session  \n",
              "0  26dd6e6e-4dac-4778-8d2c-92e149dab885  \n",
              "1  26dd6e6e-4dac-4778-8d2c-92e149dab885  \n",
              "2  49e8d843-adf3-428b-a2c3-fe8bc6a307c9  \n",
              "3  26dd6e6e-4dac-4778-8d2c-92e149dab885  \n",
              "4  49e8d843-adf3-428b-a2c3-fe8bc6a307c9  "
            ]
          },
          "execution_count": 3,
          "metadata": {},
          "output_type": "execute_result"
        }
      ],
      "source": [
        "events_data = pd.concat([df_oct, df_nov, df_dec, df_jan, df_feb], axis=0, ignore_index=True)\n",
        "events_data.head()"
      ]
    },
    {
      "cell_type": "code",
      "execution_count": 4,
      "metadata": {
        "colab": {
          "base_uri": "https://localhost:8080/",
          "height": 293
        },
        "id": "7VbiE-RVB-Yi",
        "outputId": "e4f99081-3a28-4f32-bc35-8faf13cdcbba"
      },
      "outputs": [
        {
          "data": {
            "text/html": [
              "<div>\n",
              "<style scoped>\n",
              "    .dataframe tbody tr th:only-of-type {\n",
              "        vertical-align: middle;\n",
              "    }\n",
              "\n",
              "    .dataframe tbody tr th {\n",
              "        vertical-align: top;\n",
              "    }\n",
              "\n",
              "    .dataframe thead th {\n",
              "        text-align: right;\n",
              "    }\n",
              "</style>\n",
              "<table border=\"1\" class=\"dataframe\">\n",
              "  <thead>\n",
              "    <tr style=\"text-align: right;\">\n",
              "      <th></th>\n",
              "      <th>event_time</th>\n",
              "      <th>event_type</th>\n",
              "      <th>product_id</th>\n",
              "      <th>category_id</th>\n",
              "      <th>category_code</th>\n",
              "      <th>brand</th>\n",
              "      <th>price</th>\n",
              "      <th>user_id</th>\n",
              "      <th>user_session</th>\n",
              "    </tr>\n",
              "  </thead>\n",
              "  <tbody>\n",
              "    <tr>\n",
              "      <th>20692835</th>\n",
              "      <td>2020-02-29 23:59:32 UTC</td>\n",
              "      <td>view</td>\n",
              "      <td>5885416</td>\n",
              "      <td>1487580005092295511</td>\n",
              "      <td>NaN</td>\n",
              "      <td>grattol</td>\n",
              "      <td>6.27</td>\n",
              "      <td>622082947</td>\n",
              "      <td>fb29909b-6ef5-4662-b4ee-288e73e5dc10</td>\n",
              "    </tr>\n",
              "    <tr>\n",
              "      <th>20692836</th>\n",
              "      <td>2020-02-29 23:59:39 UTC</td>\n",
              "      <td>cart</td>\n",
              "      <td>5550686</td>\n",
              "      <td>1487580008145748965</td>\n",
              "      <td>NaN</td>\n",
              "      <td>NaN</td>\n",
              "      <td>1.11</td>\n",
              "      <td>459705611</td>\n",
              "      <td>05d2add3-01f7-47ee-8364-27341673227f</td>\n",
              "    </tr>\n",
              "    <tr>\n",
              "      <th>20692837</th>\n",
              "      <td>2020-02-29 23:59:45 UTC</td>\n",
              "      <td>view</td>\n",
              "      <td>5850628</td>\n",
              "      <td>1602943681873052386</td>\n",
              "      <td>NaN</td>\n",
              "      <td>grattol</td>\n",
              "      <td>5.24</td>\n",
              "      <td>622090043</td>\n",
              "      <td>ab7d349f-db5d-4790-8ab1-31e5c894459d</td>\n",
              "    </tr>\n",
              "    <tr>\n",
              "      <th>20692838</th>\n",
              "      <td>2020-02-29 23:59:54 UTC</td>\n",
              "      <td>view</td>\n",
              "      <td>5716351</td>\n",
              "      <td>1487580010872045658</td>\n",
              "      <td>NaN</td>\n",
              "      <td>irisk</td>\n",
              "      <td>0.79</td>\n",
              "      <td>619841242</td>\n",
              "      <td>18af673b-7fb9-4202-a66d-5c855bc0fd2d</td>\n",
              "    </tr>\n",
              "    <tr>\n",
              "      <th>20692839</th>\n",
              "      <td>2020-02-29 23:59:59 UTC</td>\n",
              "      <td>view</td>\n",
              "      <td>5927709</td>\n",
              "      <td>1487580013950664926</td>\n",
              "      <td>NaN</td>\n",
              "      <td>de.lux</td>\n",
              "      <td>3.17</td>\n",
              "      <td>621669991</td>\n",
              "      <td>daa3c677-5360-4327-847e-d29658716b99</td>\n",
              "    </tr>\n",
              "  </tbody>\n",
              "</table>\n",
              "</div>"
            ],
            "text/plain": [
              "                       event_time event_type  product_id          category_id  \\\n",
              "20692835  2020-02-29 23:59:32 UTC       view     5885416  1487580005092295511   \n",
              "20692836  2020-02-29 23:59:39 UTC       cart     5550686  1487580008145748965   \n",
              "20692837  2020-02-29 23:59:45 UTC       view     5850628  1602943681873052386   \n",
              "20692838  2020-02-29 23:59:54 UTC       view     5716351  1487580010872045658   \n",
              "20692839  2020-02-29 23:59:59 UTC       view     5927709  1487580013950664926   \n",
              "\n",
              "         category_code    brand  price    user_id  \\\n",
              "20692835           NaN  grattol   6.27  622082947   \n",
              "20692836           NaN      NaN   1.11  459705611   \n",
              "20692837           NaN  grattol   5.24  622090043   \n",
              "20692838           NaN    irisk   0.79  619841242   \n",
              "20692839           NaN   de.lux   3.17  621669991   \n",
              "\n",
              "                                  user_session  \n",
              "20692835  fb29909b-6ef5-4662-b4ee-288e73e5dc10  \n",
              "20692836  05d2add3-01f7-47ee-8364-27341673227f  \n",
              "20692837  ab7d349f-db5d-4790-8ab1-31e5c894459d  \n",
              "20692838  18af673b-7fb9-4202-a66d-5c855bc0fd2d  \n",
              "20692839  daa3c677-5360-4327-847e-d29658716b99  "
            ]
          },
          "execution_count": 4,
          "metadata": {},
          "output_type": "execute_result"
        }
      ],
      "source": [
        "events_data.tail()"
      ]
    },
    {
      "cell_type": "code",
      "execution_count": 5,
      "metadata": {
        "colab": {
          "base_uri": "https://localhost:8080/"
        },
        "id": "jmGyKrwqB0lB",
        "outputId": "6c8bfbc8-b90f-40a7-f319-151fa82ce826"
      },
      "outputs": [
        {
          "data": {
            "text/plain": [
              "(20692840, 9)"
            ]
          },
          "execution_count": 5,
          "metadata": {},
          "output_type": "execute_result"
        }
      ],
      "source": [
        "events_data.shape"
      ]
    },
    {
      "cell_type": "code",
      "execution_count": 6,
      "metadata": {
        "colab": {
          "base_uri": "https://localhost:8080/"
        },
        "id": "6pOJ4fjDBZzG",
        "outputId": "a08a5514-a931-489d-9dd2-d4f63a091c20"
      },
      "outputs": [
        {
          "data": {
            "text/plain": [
              "(4102283, 9)"
            ]
          },
          "execution_count": 6,
          "metadata": {},
          "output_type": "execute_result"
        }
      ],
      "source": [
        "df_oct.shape"
      ]
    },
    {
      "cell_type": "code",
      "execution_count": 7,
      "metadata": {
        "id": "8cV63JDHIpd2"
      },
      "outputs": [],
      "source": [
        "del df_oct,df_nov,df_dec,df_jan,df_feb"
      ]
    },
    {
      "cell_type": "markdown",
      "metadata": {
        "id": "4byCFsOEZZD4"
      },
      "source": [
        "2) С помощью метода `info` выведите информацию по типам данных столбцов датасета.\n",
        "\n",
        "Для отображения количества заполненных полей используейте опцию `pd.options.display.max_info_rows` и установите нужное значение."
      ]
    },
    {
      "cell_type": "code",
      "execution_count": 8,
      "metadata": {
        "colab": {
          "base_uri": "https://localhost:8080/"
        },
        "id": "Kdn_jbLkBOKe",
        "outputId": "de5d42a6-948a-4575-e776-b391d5502fa9"
      },
      "outputs": [
        {
          "name": "stdout",
          "output_type": "stream",
          "text": [
            "<class 'pandas.core.frame.DataFrame'>\n",
            "RangeIndex: 20692840 entries, 0 to 20692839\n",
            "Data columns (total 9 columns):\n",
            " #   Column         Non-Null Count     Dtype  \n",
            "---  ------         --------------     -----  \n",
            " 0   event_time     20692840 non-null  object \n",
            " 1   event_type     20692840 non-null  object \n",
            " 2   product_id     20692840 non-null  int64  \n",
            " 3   category_id    20692840 non-null  int64  \n",
            " 4   category_code  353594 non-null    object \n",
            " 5   brand          11935723 non-null  object \n",
            " 6   price          20692840 non-null  float64\n",
            " 7   user_id        20692840 non-null  int64  \n",
            " 8   user_session   20688242 non-null  object \n",
            "dtypes: float64(1), int64(3), object(5)\n",
            "memory usage: 1.4+ GB\n"
          ]
        }
      ],
      "source": [
        "pd.options.display.max_info_rows = 9999999999\n",
        "events_data.info()"
      ]
    },
    {
      "cell_type": "markdown",
      "metadata": {
        "id": "GxNDwu_dGxrg"
      },
      "source": [
        "3) Можно заметить, что в данных есть пропуски. Выпишите, какие столбцы, кроме `user_session`, не удастся использовать для анализа.\n"
      ]
    },
    {
      "cell_type": "markdown",
      "metadata": {},
      "source": [
        "'category_code' и 'brand' не удастся использовать для анализа, так как количество непустых строк в этих столбцах составляет 1.7% и 57.7% соответсвенно."
      ]
    },
    {
      "cell_type": "code",
      "execution_count": 9,
      "metadata": {
        "colab": {
          "base_uri": "https://localhost:8080/",
          "height": 206
        },
        "id": "7c6rJFv7qszW",
        "outputId": "f6473ad1-2efb-4e9d-d023-7a43c290623e"
      },
      "outputs": [],
      "source": [
        "#events_data.drop(['category_code', 'brand'], axis = 1, inplace=True)\n",
        "#events_data.head()"
      ]
    },
    {
      "cell_type": "markdown",
      "metadata": {
        "id": "l07Z3DpKqtFp"
      },
      "source": [
        "\n",
        "4) Столбец `user_session` имеет очень важное значение, так как по нему можно отследить путь пользователя в логах. Соответственно данные нужно либо восполнить, либо удалить.\n",
        "\n",
        "Восполнять данные в данном случае не имеет большого смысла, так как определить к какой сессии принадлежит лог - задача нетривиальная, при этом пропущенных значений не так много, чтобы мы потеряли много информации, поэтому лучшим решением будет удалить строки с пропущенными значениями в этом столбце."
      ]
    },
    {
      "cell_type": "code",
      "execution_count": 10,
      "metadata": {
        "colab": {
          "base_uri": "https://localhost:8080/",
          "height": 141
        },
        "id": "_iDR7E-KGVPY",
        "outputId": "fe41908c-f874-4385-91dc-d92139734123"
      },
      "outputs": [],
      "source": [
        "events_data = events_data.dropna(subset='user_session').reset_index().drop(columns='index')"
      ]
    },
    {
      "cell_type": "code",
      "execution_count": 11,
      "metadata": {},
      "outputs": [
        {
          "data": {
            "text/html": [
              "<div>\n",
              "<style scoped>\n",
              "    .dataframe tbody tr th:only-of-type {\n",
              "        vertical-align: middle;\n",
              "    }\n",
              "\n",
              "    .dataframe tbody tr th {\n",
              "        vertical-align: top;\n",
              "    }\n",
              "\n",
              "    .dataframe thead th {\n",
              "        text-align: right;\n",
              "    }\n",
              "</style>\n",
              "<table border=\"1\" class=\"dataframe\">\n",
              "  <thead>\n",
              "    <tr style=\"text-align: right;\">\n",
              "      <th></th>\n",
              "      <th>event_time</th>\n",
              "      <th>event_type</th>\n",
              "      <th>product_id</th>\n",
              "      <th>category_id</th>\n",
              "      <th>category_code</th>\n",
              "      <th>brand</th>\n",
              "      <th>price</th>\n",
              "      <th>user_id</th>\n",
              "      <th>user_session</th>\n",
              "    </tr>\n",
              "  </thead>\n",
              "  <tbody>\n",
              "    <tr>\n",
              "      <th>0</th>\n",
              "      <td>2019-10-01 00:00:00 UTC</td>\n",
              "      <td>cart</td>\n",
              "      <td>5773203</td>\n",
              "      <td>1487580005134238553</td>\n",
              "      <td>NaN</td>\n",
              "      <td>runail</td>\n",
              "      <td>2.62</td>\n",
              "      <td>463240011</td>\n",
              "      <td>26dd6e6e-4dac-4778-8d2c-92e149dab885</td>\n",
              "    </tr>\n",
              "    <tr>\n",
              "      <th>1</th>\n",
              "      <td>2019-10-01 00:00:03 UTC</td>\n",
              "      <td>cart</td>\n",
              "      <td>5773353</td>\n",
              "      <td>1487580005134238553</td>\n",
              "      <td>NaN</td>\n",
              "      <td>runail</td>\n",
              "      <td>2.62</td>\n",
              "      <td>463240011</td>\n",
              "      <td>26dd6e6e-4dac-4778-8d2c-92e149dab885</td>\n",
              "    </tr>\n",
              "    <tr>\n",
              "      <th>2</th>\n",
              "      <td>2019-10-01 00:00:07 UTC</td>\n",
              "      <td>cart</td>\n",
              "      <td>5881589</td>\n",
              "      <td>2151191071051219817</td>\n",
              "      <td>NaN</td>\n",
              "      <td>lovely</td>\n",
              "      <td>13.48</td>\n",
              "      <td>429681830</td>\n",
              "      <td>49e8d843-adf3-428b-a2c3-fe8bc6a307c9</td>\n",
              "    </tr>\n",
              "    <tr>\n",
              "      <th>3</th>\n",
              "      <td>2019-10-01 00:00:07 UTC</td>\n",
              "      <td>cart</td>\n",
              "      <td>5723490</td>\n",
              "      <td>1487580005134238553</td>\n",
              "      <td>NaN</td>\n",
              "      <td>runail</td>\n",
              "      <td>2.62</td>\n",
              "      <td>463240011</td>\n",
              "      <td>26dd6e6e-4dac-4778-8d2c-92e149dab885</td>\n",
              "    </tr>\n",
              "    <tr>\n",
              "      <th>4</th>\n",
              "      <td>2019-10-01 00:00:15 UTC</td>\n",
              "      <td>cart</td>\n",
              "      <td>5881449</td>\n",
              "      <td>1487580013522845895</td>\n",
              "      <td>NaN</td>\n",
              "      <td>lovely</td>\n",
              "      <td>0.56</td>\n",
              "      <td>429681830</td>\n",
              "      <td>49e8d843-adf3-428b-a2c3-fe8bc6a307c9</td>\n",
              "    </tr>\n",
              "    <tr>\n",
              "      <th>...</th>\n",
              "      <td>...</td>\n",
              "      <td>...</td>\n",
              "      <td>...</td>\n",
              "      <td>...</td>\n",
              "      <td>...</td>\n",
              "      <td>...</td>\n",
              "      <td>...</td>\n",
              "      <td>...</td>\n",
              "      <td>...</td>\n",
              "    </tr>\n",
              "    <tr>\n",
              "      <th>20688237</th>\n",
              "      <td>2020-02-29 23:59:32 UTC</td>\n",
              "      <td>view</td>\n",
              "      <td>5885416</td>\n",
              "      <td>1487580005092295511</td>\n",
              "      <td>NaN</td>\n",
              "      <td>grattol</td>\n",
              "      <td>6.27</td>\n",
              "      <td>622082947</td>\n",
              "      <td>fb29909b-6ef5-4662-b4ee-288e73e5dc10</td>\n",
              "    </tr>\n",
              "    <tr>\n",
              "      <th>20688238</th>\n",
              "      <td>2020-02-29 23:59:39 UTC</td>\n",
              "      <td>cart</td>\n",
              "      <td>5550686</td>\n",
              "      <td>1487580008145748965</td>\n",
              "      <td>NaN</td>\n",
              "      <td>NaN</td>\n",
              "      <td>1.11</td>\n",
              "      <td>459705611</td>\n",
              "      <td>05d2add3-01f7-47ee-8364-27341673227f</td>\n",
              "    </tr>\n",
              "    <tr>\n",
              "      <th>20688239</th>\n",
              "      <td>2020-02-29 23:59:45 UTC</td>\n",
              "      <td>view</td>\n",
              "      <td>5850628</td>\n",
              "      <td>1602943681873052386</td>\n",
              "      <td>NaN</td>\n",
              "      <td>grattol</td>\n",
              "      <td>5.24</td>\n",
              "      <td>622090043</td>\n",
              "      <td>ab7d349f-db5d-4790-8ab1-31e5c894459d</td>\n",
              "    </tr>\n",
              "    <tr>\n",
              "      <th>20688240</th>\n",
              "      <td>2020-02-29 23:59:54 UTC</td>\n",
              "      <td>view</td>\n",
              "      <td>5716351</td>\n",
              "      <td>1487580010872045658</td>\n",
              "      <td>NaN</td>\n",
              "      <td>irisk</td>\n",
              "      <td>0.79</td>\n",
              "      <td>619841242</td>\n",
              "      <td>18af673b-7fb9-4202-a66d-5c855bc0fd2d</td>\n",
              "    </tr>\n",
              "    <tr>\n",
              "      <th>20688241</th>\n",
              "      <td>2020-02-29 23:59:59 UTC</td>\n",
              "      <td>view</td>\n",
              "      <td>5927709</td>\n",
              "      <td>1487580013950664926</td>\n",
              "      <td>NaN</td>\n",
              "      <td>de.lux</td>\n",
              "      <td>3.17</td>\n",
              "      <td>621669991</td>\n",
              "      <td>daa3c677-5360-4327-847e-d29658716b99</td>\n",
              "    </tr>\n",
              "  </tbody>\n",
              "</table>\n",
              "<p>20688242 rows × 9 columns</p>\n",
              "</div>"
            ],
            "text/plain": [
              "                       event_time event_type  product_id          category_id  \\\n",
              "0         2019-10-01 00:00:00 UTC       cart     5773203  1487580005134238553   \n",
              "1         2019-10-01 00:00:03 UTC       cart     5773353  1487580005134238553   \n",
              "2         2019-10-01 00:00:07 UTC       cart     5881589  2151191071051219817   \n",
              "3         2019-10-01 00:00:07 UTC       cart     5723490  1487580005134238553   \n",
              "4         2019-10-01 00:00:15 UTC       cart     5881449  1487580013522845895   \n",
              "...                           ...        ...         ...                  ...   \n",
              "20688237  2020-02-29 23:59:32 UTC       view     5885416  1487580005092295511   \n",
              "20688238  2020-02-29 23:59:39 UTC       cart     5550686  1487580008145748965   \n",
              "20688239  2020-02-29 23:59:45 UTC       view     5850628  1602943681873052386   \n",
              "20688240  2020-02-29 23:59:54 UTC       view     5716351  1487580010872045658   \n",
              "20688241  2020-02-29 23:59:59 UTC       view     5927709  1487580013950664926   \n",
              "\n",
              "         category_code    brand  price    user_id  \\\n",
              "0                  NaN   runail   2.62  463240011   \n",
              "1                  NaN   runail   2.62  463240011   \n",
              "2                  NaN   lovely  13.48  429681830   \n",
              "3                  NaN   runail   2.62  463240011   \n",
              "4                  NaN   lovely   0.56  429681830   \n",
              "...                ...      ...    ...        ...   \n",
              "20688237           NaN  grattol   6.27  622082947   \n",
              "20688238           NaN      NaN   1.11  459705611   \n",
              "20688239           NaN  grattol   5.24  622090043   \n",
              "20688240           NaN    irisk   0.79  619841242   \n",
              "20688241           NaN   de.lux   3.17  621669991   \n",
              "\n",
              "                                  user_session  \n",
              "0         26dd6e6e-4dac-4778-8d2c-92e149dab885  \n",
              "1         26dd6e6e-4dac-4778-8d2c-92e149dab885  \n",
              "2         49e8d843-adf3-428b-a2c3-fe8bc6a307c9  \n",
              "3         26dd6e6e-4dac-4778-8d2c-92e149dab885  \n",
              "4         49e8d843-adf3-428b-a2c3-fe8bc6a307c9  \n",
              "...                                        ...  \n",
              "20688237  fb29909b-6ef5-4662-b4ee-288e73e5dc10  \n",
              "20688238  05d2add3-01f7-47ee-8364-27341673227f  \n",
              "20688239  ab7d349f-db5d-4790-8ab1-31e5c894459d  \n",
              "20688240  18af673b-7fb9-4202-a66d-5c855bc0fd2d  \n",
              "20688241  daa3c677-5360-4327-847e-d29658716b99  \n",
              "\n",
              "[20688242 rows x 9 columns]"
            ]
          },
          "execution_count": 11,
          "metadata": {},
          "output_type": "execute_result"
        }
      ],
      "source": [
        "events_data"
      ]
    },
    {
      "cell_type": "code",
      "execution_count": 12,
      "metadata": {},
      "outputs": [
        {
          "name": "stdout",
          "output_type": "stream",
          "text": [
            "<class 'pandas.core.frame.DataFrame'>\n",
            "RangeIndex: 20688242 entries, 0 to 20688241\n",
            "Data columns (total 9 columns):\n",
            " #   Column         Non-Null Count     Dtype  \n",
            "---  ------         --------------     -----  \n",
            " 0   event_time     20688242 non-null  object \n",
            " 1   event_type     20688242 non-null  object \n",
            " 2   product_id     20688242 non-null  int64  \n",
            " 3   category_id    20688242 non-null  int64  \n",
            " 4   category_code  353545 non-null    object \n",
            " 5   brand          11932754 non-null  object \n",
            " 6   price          20688242 non-null  float64\n",
            " 7   user_id        20688242 non-null  int64  \n",
            " 8   user_session   20688242 non-null  object \n",
            "dtypes: float64(1), int64(3), object(5)\n",
            "memory usage: 1.4+ GB\n"
          ]
        }
      ],
      "source": [
        "events_data.info()"
      ]
    },
    {
      "cell_type": "code",
      "execution_count": 13,
      "metadata": {},
      "outputs": [
        {
          "data": {
            "text/plain": [
              "(20688242, 9)"
            ]
          },
          "execution_count": 13,
          "metadata": {},
          "output_type": "execute_result"
        }
      ],
      "source": [
        "events_data.shape"
      ]
    },
    {
      "cell_type": "code",
      "execution_count": 14,
      "metadata": {
        "id": "pgFOLUdgOHI4"
      },
      "outputs": [],
      "source": [
        "assert len(events_data) == 20688242, \"Неправильный размер датасета\""
      ]
    },
    {
      "cell_type": "markdown",
      "metadata": {
        "id": "lNctla2FUjCW"
      },
      "source": [
        "5) Для удобства работы со стобцом `event_time` преобразуйте его из типа `object` в тип `datetime`. Для этого можете воспользоваться методом `to_datetime`."
      ]
    },
    {
      "cell_type": "code",
      "execution_count": 15,
      "metadata": {
        "id": "kGnN9bMsR5pT"
      },
      "outputs": [],
      "source": [
        "events_data.event_time = pd.to_datetime(events_data.event_time)"
      ]
    },
    {
      "cell_type": "code",
      "execution_count": 16,
      "metadata": {},
      "outputs": [
        {
          "name": "stdout",
          "output_type": "stream",
          "text": [
            "<class 'pandas.core.frame.DataFrame'>\n",
            "RangeIndex: 20688242 entries, 0 to 20688241\n",
            "Data columns (total 9 columns):\n",
            " #   Column         Non-Null Count     Dtype              \n",
            "---  ------         --------------     -----              \n",
            " 0   event_time     20688242 non-null  datetime64[ns, UTC]\n",
            " 1   event_type     20688242 non-null  object             \n",
            " 2   product_id     20688242 non-null  int64              \n",
            " 3   category_id    20688242 non-null  int64              \n",
            " 4   category_code  353545 non-null    object             \n",
            " 5   brand          11932754 non-null  object             \n",
            " 6   price          20688242 non-null  float64            \n",
            " 7   user_id        20688242 non-null  int64              \n",
            " 8   user_session   20688242 non-null  object             \n",
            "dtypes: datetime64[ns, UTC](1), float64(1), int64(3), object(4)\n",
            "memory usage: 1.4+ GB\n"
          ]
        }
      ],
      "source": [
        "events_data.info()"
      ]
    },
    {
      "cell_type": "markdown",
      "metadata": {
        "id": "T_T3SbblIanb"
      },
      "source": [
        "# Задание 2. Ad-hoc аналитика\n",
        "\n",
        "0.5 баллов"
      ]
    },
    {
      "cell_type": "markdown",
      "metadata": {
        "id": "hzKz_4skpVmQ"
      },
      "source": [
        "1) Проведите простейший описательный анализ датасета с помощью встроенной функции pandas. Какие выводы можно сделать?"
      ]
    },
    {
      "cell_type": "code",
      "execution_count": 17,
      "metadata": {
        "id": "9mhg3g3_qpPC"
      },
      "outputs": [
        {
          "data": {
            "text/html": [
              "<div>\n",
              "<style scoped>\n",
              "    .dataframe tbody tr th:only-of-type {\n",
              "        vertical-align: middle;\n",
              "    }\n",
              "\n",
              "    .dataframe tbody tr th {\n",
              "        vertical-align: top;\n",
              "    }\n",
              "\n",
              "    .dataframe thead th {\n",
              "        text-align: right;\n",
              "    }\n",
              "</style>\n",
              "<table border=\"1\" class=\"dataframe\">\n",
              "  <thead>\n",
              "    <tr style=\"text-align: right;\">\n",
              "      <th></th>\n",
              "      <th>event_time</th>\n",
              "      <th>event_type</th>\n",
              "      <th>product_id</th>\n",
              "      <th>category_id</th>\n",
              "      <th>category_code</th>\n",
              "      <th>brand</th>\n",
              "      <th>price</th>\n",
              "      <th>user_id</th>\n",
              "      <th>user_session</th>\n",
              "    </tr>\n",
              "  </thead>\n",
              "  <tbody>\n",
              "    <tr>\n",
              "      <th>count</th>\n",
              "      <td>20688242</td>\n",
              "      <td>20688242</td>\n",
              "      <td>2.068824e+07</td>\n",
              "      <td>2.068824e+07</td>\n",
              "      <td>353545</td>\n",
              "      <td>11932754</td>\n",
              "      <td>2.068824e+07</td>\n",
              "      <td>2.068824e+07</td>\n",
              "      <td>20688242</td>\n",
              "    </tr>\n",
              "    <tr>\n",
              "      <th>unique</th>\n",
              "      <td>NaN</td>\n",
              "      <td>4</td>\n",
              "      <td>NaN</td>\n",
              "      <td>NaN</td>\n",
              "      <td>12</td>\n",
              "      <td>273</td>\n",
              "      <td>NaN</td>\n",
              "      <td>NaN</td>\n",
              "      <td>4535941</td>\n",
              "    </tr>\n",
              "    <tr>\n",
              "      <th>top</th>\n",
              "      <td>NaN</td>\n",
              "      <td>view</td>\n",
              "      <td>NaN</td>\n",
              "      <td>NaN</td>\n",
              "      <td>appliances.environment.vacuum</td>\n",
              "      <td>runail</td>\n",
              "      <td>NaN</td>\n",
              "      <td>NaN</td>\n",
              "      <td>74206ba1-c863-4760-bbdc-b11777059e46</td>\n",
              "    </tr>\n",
              "    <tr>\n",
              "      <th>freq</th>\n",
              "      <td>NaN</td>\n",
              "      <td>9657790</td>\n",
              "      <td>NaN</td>\n",
              "      <td>NaN</td>\n",
              "      <td>149148</td>\n",
              "      <td>1528636</td>\n",
              "      <td>NaN</td>\n",
              "      <td>NaN</td>\n",
              "      <td>5411</td>\n",
              "    </tr>\n",
              "    <tr>\n",
              "      <th>mean</th>\n",
              "      <td>2019-12-16 05:41:18.183052288+00:00</td>\n",
              "      <td>NaN</td>\n",
              "      <td>5.484278e+06</td>\n",
              "      <td>1.554231e+18</td>\n",
              "      <td>NaN</td>\n",
              "      <td>NaN</td>\n",
              "      <td>8.534892e+00</td>\n",
              "      <td>5.215434e+08</td>\n",
              "      <td>NaN</td>\n",
              "    </tr>\n",
              "    <tr>\n",
              "      <th>min</th>\n",
              "      <td>2019-10-01 00:00:00+00:00</td>\n",
              "      <td>NaN</td>\n",
              "      <td>3.752000e+03</td>\n",
              "      <td>1.487580e+18</td>\n",
              "      <td>NaN</td>\n",
              "      <td>NaN</td>\n",
              "      <td>-7.937000e+01</td>\n",
              "      <td>4.654960e+05</td>\n",
              "      <td>NaN</td>\n",
              "    </tr>\n",
              "    <tr>\n",
              "      <th>25%</th>\n",
              "      <td>2019-11-08 13:33:41.249999872+00:00</td>\n",
              "      <td>NaN</td>\n",
              "      <td>5.724650e+06</td>\n",
              "      <td>1.487580e+18</td>\n",
              "      <td>NaN</td>\n",
              "      <td>NaN</td>\n",
              "      <td>2.060000e+00</td>\n",
              "      <td>4.817834e+08</td>\n",
              "      <td>NaN</td>\n",
              "    </tr>\n",
              "    <tr>\n",
              "      <th>50%</th>\n",
              "      <td>2019-12-13 02:22:43+00:00</td>\n",
              "      <td>NaN</td>\n",
              "      <td>5.810720e+06</td>\n",
              "      <td>1.487580e+18</td>\n",
              "      <td>NaN</td>\n",
              "      <td>NaN</td>\n",
              "      <td>4.050000e+00</td>\n",
              "      <td>5.531190e+08</td>\n",
              "      <td>NaN</td>\n",
              "    </tr>\n",
              "    <tr>\n",
              "      <th>75%</th>\n",
              "      <td>2020-01-25 12:51:05.750000128+00:00</td>\n",
              "      <td>NaN</td>\n",
              "      <td>5.857864e+06</td>\n",
              "      <td>1.487580e+18</td>\n",
              "      <td>NaN</td>\n",
              "      <td>NaN</td>\n",
              "      <td>7.030000e+00</td>\n",
              "      <td>5.788491e+08</td>\n",
              "      <td>NaN</td>\n",
              "    </tr>\n",
              "    <tr>\n",
              "      <th>max</th>\n",
              "      <td>2020-02-29 23:59:59+00:00</td>\n",
              "      <td>NaN</td>\n",
              "      <td>5.932595e+06</td>\n",
              "      <td>2.242903e+18</td>\n",
              "      <td>NaN</td>\n",
              "      <td>NaN</td>\n",
              "      <td>3.277800e+02</td>\n",
              "      <td>6.220902e+08</td>\n",
              "      <td>NaN</td>\n",
              "    </tr>\n",
              "    <tr>\n",
              "      <th>std</th>\n",
              "      <td>NaN</td>\n",
              "      <td>NaN</td>\n",
              "      <td>1.305751e+06</td>\n",
              "      <td>1.691034e+17</td>\n",
              "      <td>NaN</td>\n",
              "      <td>NaN</td>\n",
              "      <td>1.938206e+01</td>\n",
              "      <td>8.744436e+07</td>\n",
              "      <td>NaN</td>\n",
              "    </tr>\n",
              "  </tbody>\n",
              "</table>\n",
              "</div>"
            ],
            "text/plain": [
              "                                 event_time event_type    product_id  \\\n",
              "count                              20688242   20688242  2.068824e+07   \n",
              "unique                                  NaN          4           NaN   \n",
              "top                                     NaN       view           NaN   \n",
              "freq                                    NaN    9657790           NaN   \n",
              "mean    2019-12-16 05:41:18.183052288+00:00        NaN  5.484278e+06   \n",
              "min               2019-10-01 00:00:00+00:00        NaN  3.752000e+03   \n",
              "25%     2019-11-08 13:33:41.249999872+00:00        NaN  5.724650e+06   \n",
              "50%               2019-12-13 02:22:43+00:00        NaN  5.810720e+06   \n",
              "75%     2020-01-25 12:51:05.750000128+00:00        NaN  5.857864e+06   \n",
              "max               2020-02-29 23:59:59+00:00        NaN  5.932595e+06   \n",
              "std                                     NaN        NaN  1.305751e+06   \n",
              "\n",
              "         category_id                  category_code     brand         price  \\\n",
              "count   2.068824e+07                         353545  11932754  2.068824e+07   \n",
              "unique           NaN                             12       273           NaN   \n",
              "top              NaN  appliances.environment.vacuum    runail           NaN   \n",
              "freq             NaN                         149148   1528636           NaN   \n",
              "mean    1.554231e+18                            NaN       NaN  8.534892e+00   \n",
              "min     1.487580e+18                            NaN       NaN -7.937000e+01   \n",
              "25%     1.487580e+18                            NaN       NaN  2.060000e+00   \n",
              "50%     1.487580e+18                            NaN       NaN  4.050000e+00   \n",
              "75%     1.487580e+18                            NaN       NaN  7.030000e+00   \n",
              "max     2.242903e+18                            NaN       NaN  3.277800e+02   \n",
              "std     1.691034e+17                            NaN       NaN  1.938206e+01   \n",
              "\n",
              "             user_id                          user_session  \n",
              "count   2.068824e+07                              20688242  \n",
              "unique           NaN                               4535941  \n",
              "top              NaN  74206ba1-c863-4760-bbdc-b11777059e46  \n",
              "freq             NaN                                  5411  \n",
              "mean    5.215434e+08                                   NaN  \n",
              "min     4.654960e+05                                   NaN  \n",
              "25%     4.817834e+08                                   NaN  \n",
              "50%     5.531190e+08                                   NaN  \n",
              "75%     5.788491e+08                                   NaN  \n",
              "max     6.220902e+08                                   NaN  \n",
              "std     8.744436e+07                                   NaN  "
            ]
          },
          "execution_count": 17,
          "metadata": {},
          "output_type": "execute_result"
        }
      ],
      "source": [
        "events_data.describe(include='all')"
      ]
    },
    {
      "cell_type": "markdown",
      "metadata": {},
      "source": [
        "Выводы:\n",
        "* половина данных собрана до 2019-12-13 02:22:43+00:00\n",
        "* пользователи чаще просто просматривали товары (9657790 строк из 20688242)\n",
        "* самый популярный среди 273 брендов - это бренд runail, он встречается в таблице 1528636 раз\n",
        "* минимальная цена отрицательная?? -79.37, а максимальная 327.78\n"
      ]
    },
    {
      "cell_type": "markdown",
      "metadata": {
        "id": "NuV2BCBDq3fZ"
      },
      "source": [
        "2) Сколько всего различных категорий товаров (`category_id`)?"
      ]
    },
    {
      "cell_type": "code",
      "execution_count": 18,
      "metadata": {
        "id": "BwiHpJIHq3tU"
      },
      "outputs": [
        {
          "data": {
            "text/plain": [
              "525"
            ]
          },
          "execution_count": 18,
          "metadata": {},
          "output_type": "execute_result"
        }
      ],
      "source": [
        "events_data.category_id.nunique()"
      ]
    },
    {
      "cell_type": "markdown",
      "metadata": {},
      "source": [
        "всего 525 различных категорий товаров"
      ]
    },
    {
      "cell_type": "markdown",
      "metadata": {
        "id": "siCPjf05rQ-6"
      },
      "source": [
        "3) Сколько различных брендов? Какой бренд встречается чаще всего?"
      ]
    },
    {
      "cell_type": "code",
      "execution_count": 19,
      "metadata": {
        "id": "FRYOpBWZrRPC"
      },
      "outputs": [
        {
          "data": {
            "text/plain": [
              "273"
            ]
          },
          "execution_count": 19,
          "metadata": {},
          "output_type": "execute_result"
        }
      ],
      "source": [
        "events_data.brand.nunique()"
      ]
    },
    {
      "cell_type": "code",
      "execution_count": 20,
      "metadata": {},
      "outputs": [
        {
          "data": {
            "text/plain": [
              "brand\n",
              "runail    1528636\n",
              "Name: count, dtype: int64"
            ]
          },
          "execution_count": 20,
          "metadata": {},
          "output_type": "execute_result"
        }
      ],
      "source": [
        "events_data.brand.value_counts().nlargest(1)"
      ]
    },
    {
      "cell_type": "code",
      "execution_count": 21,
      "metadata": {},
      "outputs": [
        {
          "data": {
            "text/plain": [
              "'runail'"
            ]
          },
          "execution_count": 21,
          "metadata": {},
          "output_type": "execute_result"
        }
      ],
      "source": [
        "events_data.brand.value_counts().idxmax()"
      ]
    },
    {
      "cell_type": "markdown",
      "metadata": {},
      "source": [
        "бренд runail встречается чаще всего"
      ]
    },
    {
      "cell_type": "markdown",
      "metadata": {},
      "source": [
        "всего 273 бренда"
      ]
    },
    {
      "cell_type": "markdown",
      "metadata": {
        "id": "OMPf5mdg8KN1"
      },
      "source": [
        "4) Какой товар чаще всего смотрели? Какова его средняя цена?"
      ]
    },
    {
      "cell_type": "code",
      "execution_count": 22,
      "metadata": {
        "id": "7IPRFMgH8Jtf"
      },
      "outputs": [
        {
          "data": {
            "text/plain": [
              "product_id\n",
              "5809910    141561\n",
              "Name: count, dtype: int64"
            ]
          },
          "execution_count": 22,
          "metadata": {},
          "output_type": "execute_result"
        }
      ],
      "source": [
        "events_data.product_id.value_counts().nlargest(1)"
      ]
    },
    {
      "cell_type": "markdown",
      "metadata": {},
      "source": [
        "чаще всего смотрели товар с id 5809910"
      ]
    },
    {
      "cell_type": "code",
      "execution_count": 23,
      "metadata": {},
      "outputs": [
        {
          "data": {
            "text/plain": [
              "np.float64(5.204677206292694)"
            ]
          },
          "execution_count": 23,
          "metadata": {},
          "output_type": "execute_result"
        }
      ],
      "source": [
        "events_data[events_data.product_id == 5809910].price.mean() # средняя цена товара с id 5809910"
      ]
    },
    {
      "cell_type": "markdown",
      "metadata": {
        "id": "ihqexN6u9nUT"
      },
      "source": [
        "5) Сколько уникальных пользователей купили данный товар?\n",
        "\n",
        "Сохраните значение в переменную `count_user_purchase_product`."
      ]
    },
    {
      "cell_type": "code",
      "execution_count": 24,
      "metadata": {
        "id": "V5ldjAZV9moW"
      },
      "outputs": [],
      "source": [
        "count_user_purchase_product = events_data[(events_data.event_type == 'purchase') & (events_data.product_id == 5809910)].user_id.nunique()"
      ]
    },
    {
      "cell_type": "code",
      "execution_count": 25,
      "metadata": {
        "id": "j9Lw-Pvq_Dg6"
      },
      "outputs": [],
      "source": [
        "assert count_user_purchase_product == 7049, \"Неправильное значение\""
      ]
    },
    {
      "cell_type": "markdown",
      "metadata": {
        "id": "zeA8XgiKqCdW"
      },
      "source": [
        "6) Сколько уникальных сессий, в которых покупали товары бренда `runail`?"
      ]
    },
    {
      "cell_type": "code",
      "execution_count": 26,
      "metadata": {
        "id": "zhB5rzgFpvsr"
      },
      "outputs": [
        {
          "data": {
            "text/plain": [
              "45379"
            ]
          },
          "execution_count": 26,
          "metadata": {},
          "output_type": "execute_result"
        }
      ],
      "source": [
        "events_data[(events_data.event_type == 'purchase') & (events_data.brand == 'runail')].user_session.nunique()"
      ]
    },
    {
      "cell_type": "markdown",
      "metadata": {
        "id": "95TPrPE8sCIG"
      },
      "source": [
        "7) Какова средняя цена покупки в этих сессиях, с условием, что поле `category_code` не должно быть пустым?\n",
        "\n",
        "Сохраните значение в переменную `mean_price_purchase_runail`"
      ]
    },
    {
      "cell_type": "code",
      "execution_count": 27,
      "metadata": {},
      "outputs": [
        {
          "data": {
            "text/html": [
              "<div>\n",
              "<style scoped>\n",
              "    .dataframe tbody tr th:only-of-type {\n",
              "        vertical-align: middle;\n",
              "    }\n",
              "\n",
              "    .dataframe tbody tr th {\n",
              "        vertical-align: top;\n",
              "    }\n",
              "\n",
              "    .dataframe thead th {\n",
              "        text-align: right;\n",
              "    }\n",
              "</style>\n",
              "<table border=\"1\" class=\"dataframe\">\n",
              "  <thead>\n",
              "    <tr style=\"text-align: right;\">\n",
              "      <th></th>\n",
              "      <th>event_time</th>\n",
              "      <th>event_type</th>\n",
              "      <th>product_id</th>\n",
              "      <th>category_id</th>\n",
              "      <th>category_code</th>\n",
              "      <th>brand</th>\n",
              "      <th>price</th>\n",
              "      <th>user_id</th>\n",
              "      <th>user_session</th>\n",
              "    </tr>\n",
              "  </thead>\n",
              "  <tbody>\n",
              "    <tr>\n",
              "      <th>19141</th>\n",
              "      <td>2019-10-01 07:02:55+00:00</td>\n",
              "      <td>purchase</td>\n",
              "      <td>5395</td>\n",
              "      <td>1487580006350586771</td>\n",
              "      <td>appliances.environment.vacuum</td>\n",
              "      <td>runail</td>\n",
              "      <td>30.95</td>\n",
              "      <td>548735227</td>\n",
              "      <td>27e9a41f-9940-420d-bd53-7e3a918a28c0</td>\n",
              "    </tr>\n",
              "    <tr>\n",
              "      <th>34130</th>\n",
              "      <td>2019-10-01 09:12:39+00:00</td>\n",
              "      <td>purchase</td>\n",
              "      <td>5665817</td>\n",
              "      <td>1487580013053083824</td>\n",
              "      <td>stationery.cartrige</td>\n",
              "      <td>runail</td>\n",
              "      <td>2.22</td>\n",
              "      <td>555496458</td>\n",
              "      <td>a45f4402-22e7-7599-c1f2-d249aea3d09e</td>\n",
              "    </tr>\n",
              "    <tr>\n",
              "      <th>34131</th>\n",
              "      <td>2019-10-01 09:12:39+00:00</td>\n",
              "      <td>purchase</td>\n",
              "      <td>5665820</td>\n",
              "      <td>1487580013053083824</td>\n",
              "      <td>stationery.cartrige</td>\n",
              "      <td>runail</td>\n",
              "      <td>2.22</td>\n",
              "      <td>555496458</td>\n",
              "      <td>a45f4402-22e7-7599-c1f2-d249aea3d09e</td>\n",
              "    </tr>\n",
              "    <tr>\n",
              "      <th>34132</th>\n",
              "      <td>2019-10-01 09:12:39+00:00</td>\n",
              "      <td>purchase</td>\n",
              "      <td>5665823</td>\n",
              "      <td>1487580013053083824</td>\n",
              "      <td>stationery.cartrige</td>\n",
              "      <td>runail</td>\n",
              "      <td>2.22</td>\n",
              "      <td>555496458</td>\n",
              "      <td>a45f4402-22e7-7599-c1f2-d249aea3d09e</td>\n",
              "    </tr>\n",
              "    <tr>\n",
              "      <th>80378</th>\n",
              "      <td>2019-10-01 15:11:30+00:00</td>\n",
              "      <td>purchase</td>\n",
              "      <td>5856192</td>\n",
              "      <td>1487580006350586771</td>\n",
              "      <td>appliances.environment.vacuum</td>\n",
              "      <td>runail</td>\n",
              "      <td>24.44</td>\n",
              "      <td>541475200</td>\n",
              "      <td>40030b42-e8a5-4174-8e63-99bddc3283ca</td>\n",
              "    </tr>\n",
              "    <tr>\n",
              "      <th>...</th>\n",
              "      <td>...</td>\n",
              "      <td>...</td>\n",
              "      <td>...</td>\n",
              "      <td>...</td>\n",
              "      <td>...</td>\n",
              "      <td>...</td>\n",
              "      <td>...</td>\n",
              "      <td>...</td>\n",
              "      <td>...</td>\n",
              "    </tr>\n",
              "    <tr>\n",
              "      <th>20057468</th>\n",
              "      <td>2020-02-25 15:42:05+00:00</td>\n",
              "      <td>purchase</td>\n",
              "      <td>5856191</td>\n",
              "      <td>1487580006350586771</td>\n",
              "      <td>appliances.environment.vacuum</td>\n",
              "      <td>runail</td>\n",
              "      <td>24.44</td>\n",
              "      <td>493283617</td>\n",
              "      <td>57ebb6bd-ac2e-46fc-a082-518126a6be94</td>\n",
              "    </tr>\n",
              "    <tr>\n",
              "      <th>20129228</th>\n",
              "      <td>2020-02-26 05:38:37+00:00</td>\n",
              "      <td>purchase</td>\n",
              "      <td>5395</td>\n",
              "      <td>1487580006350586771</td>\n",
              "      <td>appliances.environment.vacuum</td>\n",
              "      <td>runail</td>\n",
              "      <td>30.95</td>\n",
              "      <td>620029655</td>\n",
              "      <td>a22ddde9-967e-4709-abc2-a258c1f48d60</td>\n",
              "    </tr>\n",
              "    <tr>\n",
              "      <th>20183813</th>\n",
              "      <td>2020-02-26 12:20:53+00:00</td>\n",
              "      <td>purchase</td>\n",
              "      <td>5856193</td>\n",
              "      <td>2193074740619379535</td>\n",
              "      <td>furniture.living_room.cabinet</td>\n",
              "      <td>runail</td>\n",
              "      <td>82.54</td>\n",
              "      <td>600298697</td>\n",
              "      <td>9e341546-400a-4c93-8753-22617fc47693</td>\n",
              "    </tr>\n",
              "    <tr>\n",
              "      <th>20256659</th>\n",
              "      <td>2020-02-26 21:00:24+00:00</td>\n",
              "      <td>purchase</td>\n",
              "      <td>5856192</td>\n",
              "      <td>1487580006350586771</td>\n",
              "      <td>appliances.environment.vacuum</td>\n",
              "      <td>runail</td>\n",
              "      <td>24.44</td>\n",
              "      <td>512659362</td>\n",
              "      <td>4369ff05-809c-4c7c-a7fa-589a46c4b62f</td>\n",
              "    </tr>\n",
              "    <tr>\n",
              "      <th>20643150</th>\n",
              "      <td>2020-02-29 17:21:29+00:00</td>\n",
              "      <td>purchase</td>\n",
              "      <td>5665817</td>\n",
              "      <td>1487580013053083824</td>\n",
              "      <td>stationery.cartrige</td>\n",
              "      <td>runail</td>\n",
              "      <td>2.22</td>\n",
              "      <td>582007617</td>\n",
              "      <td>a9fa1a8d-a493-4bbe-b686-0c313a6622dc</td>\n",
              "    </tr>\n",
              "  </tbody>\n",
              "</table>\n",
              "<p>592 rows × 9 columns</p>\n",
              "</div>"
            ],
            "text/plain": [
              "                        event_time event_type  product_id  \\\n",
              "19141    2019-10-01 07:02:55+00:00   purchase        5395   \n",
              "34130    2019-10-01 09:12:39+00:00   purchase     5665817   \n",
              "34131    2019-10-01 09:12:39+00:00   purchase     5665820   \n",
              "34132    2019-10-01 09:12:39+00:00   purchase     5665823   \n",
              "80378    2019-10-01 15:11:30+00:00   purchase     5856192   \n",
              "...                            ...        ...         ...   \n",
              "20057468 2020-02-25 15:42:05+00:00   purchase     5856191   \n",
              "20129228 2020-02-26 05:38:37+00:00   purchase        5395   \n",
              "20183813 2020-02-26 12:20:53+00:00   purchase     5856193   \n",
              "20256659 2020-02-26 21:00:24+00:00   purchase     5856192   \n",
              "20643150 2020-02-29 17:21:29+00:00   purchase     5665817   \n",
              "\n",
              "                  category_id                  category_code   brand  price  \\\n",
              "19141     1487580006350586771  appliances.environment.vacuum  runail  30.95   \n",
              "34130     1487580013053083824            stationery.cartrige  runail   2.22   \n",
              "34131     1487580013053083824            stationery.cartrige  runail   2.22   \n",
              "34132     1487580013053083824            stationery.cartrige  runail   2.22   \n",
              "80378     1487580006350586771  appliances.environment.vacuum  runail  24.44   \n",
              "...                       ...                            ...     ...    ...   \n",
              "20057468  1487580006350586771  appliances.environment.vacuum  runail  24.44   \n",
              "20129228  1487580006350586771  appliances.environment.vacuum  runail  30.95   \n",
              "20183813  2193074740619379535  furniture.living_room.cabinet  runail  82.54   \n",
              "20256659  1487580006350586771  appliances.environment.vacuum  runail  24.44   \n",
              "20643150  1487580013053083824            stationery.cartrige  runail   2.22   \n",
              "\n",
              "            user_id                          user_session  \n",
              "19141     548735227  27e9a41f-9940-420d-bd53-7e3a918a28c0  \n",
              "34130     555496458  a45f4402-22e7-7599-c1f2-d249aea3d09e  \n",
              "34131     555496458  a45f4402-22e7-7599-c1f2-d249aea3d09e  \n",
              "34132     555496458  a45f4402-22e7-7599-c1f2-d249aea3d09e  \n",
              "80378     541475200  40030b42-e8a5-4174-8e63-99bddc3283ca  \n",
              "...             ...                                   ...  \n",
              "20057468  493283617  57ebb6bd-ac2e-46fc-a082-518126a6be94  \n",
              "20129228  620029655  a22ddde9-967e-4709-abc2-a258c1f48d60  \n",
              "20183813  600298697  9e341546-400a-4c93-8753-22617fc47693  \n",
              "20256659  512659362  4369ff05-809c-4c7c-a7fa-589a46c4b62f  \n",
              "20643150  582007617  a9fa1a8d-a493-4bbe-b686-0c313a6622dc  \n",
              "\n",
              "[592 rows x 9 columns]"
            ]
          },
          "execution_count": 27,
          "metadata": {},
          "output_type": "execute_result"
        }
      ],
      "source": [
        "events_data[(events_data.event_type == 'purchase') & (events_data.brand == 'runail') & (events_data.category_code.isnull() == False)]"
      ]
    },
    {
      "cell_type": "code",
      "execution_count": 28,
      "metadata": {
        "id": "rUUq9JVwsBs0"
      },
      "outputs": [
        {
          "data": {
            "text/plain": [
              "np.float64(29.134932432432436)"
            ]
          },
          "execution_count": 28,
          "metadata": {},
          "output_type": "execute_result"
        }
      ],
      "source": [
        "mean_price_purchase_runail = events_data[(events_data.event_type == 'purchase') & (events_data.brand == 'runail') & (events_data.category_code.isnull() == False)].price.mean()\n",
        "mean_price_purchase_runail"
      ]
    },
    {
      "cell_type": "code",
      "execution_count": 29,
      "metadata": {
        "id": "jkuB52m1xdjy"
      },
      "outputs": [],
      "source": [
        "assert 29.13 < mean_price_purchase_runail < 29.14, \"Неправильное значение\""
      ]
    },
    {
      "cell_type": "markdown",
      "metadata": {
        "id": "Sldm49posNRk"
      },
      "source": [
        "8) Посчитайте, сколько произошло событий каждого типа (`event_type`)."
      ]
    },
    {
      "cell_type": "code",
      "execution_count": 30,
      "metadata": {
        "id": "HbZOjI35sMzW"
      },
      "outputs": [
        {
          "data": {
            "text/plain": [
              "event_type\n",
              "cart                5764557\n",
              "purchase            1287007\n",
              "remove_from_cart    3978888\n",
              "view                9657790\n",
              "Name: event_time, dtype: int64"
            ]
          },
          "execution_count": 30,
          "metadata": {},
          "output_type": "execute_result"
        }
      ],
      "source": [
        "event_type_counts = events_data.groupby('event_type').event_time.count()\n",
        "event_type_counts"
      ]
    },
    {
      "cell_type": "markdown",
      "metadata": {
        "id": "zwirP2rV_xld"
      },
      "source": [
        "## Задание 3. Анализ поведения пользователей\n",
        "(~ 0.3 баллов)"
      ]
    },
    {
      "cell_type": "markdown",
      "metadata": {
        "id": "9TuU5ymZtMV_"
      },
      "source": [
        "1) Проанализируйте количество покупок у пользователей.\n",
        "\n",
        "Посчитайте долю покупок в общем числе событий.\n",
        "\n",
        "Для каждого пользователя посчитайте количество событий типа `purchase`, а затем сгруппируйте пользователей по числу покупок и посчитайте количество пользователей в каждой группе. Нарисуйте простую столбчатую диаграмму, используя код ниже."
      ]
    },
    {
      "cell_type": "code",
      "execution_count": 31,
      "metadata": {},
      "outputs": [
        {
          "data": {
            "text/plain": [
              "np.float64(0.06220958745552184)"
            ]
          },
          "execution_count": 31,
          "metadata": {},
          "output_type": "execute_result"
        }
      ],
      "source": [
        "# доля покупок в общем числе событий\n",
        "events_data[events_data.event_type == 'purchase'].event_time.count() / events_data.event_time.count()"
      ]
    },
    {
      "cell_type": "markdown",
      "metadata": {},
      "source": [
        "приблизательно 6.2 %"
      ]
    },
    {
      "cell_type": "code",
      "execution_count": 32,
      "metadata": {},
      "outputs": [
        {
          "data": {
            "text/plain": [
              "user_id\n",
              "9794320       4\n",
              "10079204      2\n",
              "10280338     86\n",
              "12055855      4\n",
              "12936739      2\n",
              "             ..\n",
              "622065819     4\n",
              "622066161     4\n",
              "622067983    10\n",
              "622069477     1\n",
              "622073202     1\n",
              "Name: event_time, Length: 110518, dtype: int64"
            ]
          },
          "execution_count": 32,
          "metadata": {},
          "output_type": "execute_result"
        }
      ],
      "source": [
        "# количество событий типа `purchase` для каждого пользователя\n",
        "events_data[events_data.event_type == 'purchase'].groupby('user_id').event_time.count()\n"
      ]
    },
    {
      "cell_type": "code",
      "execution_count": 33,
      "metadata": {},
      "outputs": [
        {
          "data": {
            "text/html": [
              "<div>\n",
              "<style scoped>\n",
              "    .dataframe tbody tr th:only-of-type {\n",
              "        vertical-align: middle;\n",
              "    }\n",
              "\n",
              "    .dataframe tbody tr th {\n",
              "        vertical-align: top;\n",
              "    }\n",
              "\n",
              "    .dataframe thead th {\n",
              "        text-align: right;\n",
              "    }\n",
              "</style>\n",
              "<table border=\"1\" class=\"dataframe\">\n",
              "  <thead>\n",
              "    <tr style=\"text-align: right;\">\n",
              "      <th></th>\n",
              "      <th>user_id</th>\n",
              "      <th>purchases</th>\n",
              "    </tr>\n",
              "  </thead>\n",
              "  <tbody>\n",
              "    <tr>\n",
              "      <th>0</th>\n",
              "      <td>9794320</td>\n",
              "      <td>4</td>\n",
              "    </tr>\n",
              "    <tr>\n",
              "      <th>1</th>\n",
              "      <td>10079204</td>\n",
              "      <td>2</td>\n",
              "    </tr>\n",
              "    <tr>\n",
              "      <th>2</th>\n",
              "      <td>10280338</td>\n",
              "      <td>86</td>\n",
              "    </tr>\n",
              "    <tr>\n",
              "      <th>3</th>\n",
              "      <td>12055855</td>\n",
              "      <td>4</td>\n",
              "    </tr>\n",
              "    <tr>\n",
              "      <th>4</th>\n",
              "      <td>12936739</td>\n",
              "      <td>2</td>\n",
              "    </tr>\n",
              "    <tr>\n",
              "      <th>...</th>\n",
              "      <td>...</td>\n",
              "      <td>...</td>\n",
              "    </tr>\n",
              "    <tr>\n",
              "      <th>110513</th>\n",
              "      <td>622065819</td>\n",
              "      <td>4</td>\n",
              "    </tr>\n",
              "    <tr>\n",
              "      <th>110514</th>\n",
              "      <td>622066161</td>\n",
              "      <td>4</td>\n",
              "    </tr>\n",
              "    <tr>\n",
              "      <th>110515</th>\n",
              "      <td>622067983</td>\n",
              "      <td>10</td>\n",
              "    </tr>\n",
              "    <tr>\n",
              "      <th>110516</th>\n",
              "      <td>622069477</td>\n",
              "      <td>1</td>\n",
              "    </tr>\n",
              "    <tr>\n",
              "      <th>110517</th>\n",
              "      <td>622073202</td>\n",
              "      <td>1</td>\n",
              "    </tr>\n",
              "  </tbody>\n",
              "</table>\n",
              "<p>110518 rows × 2 columns</p>\n",
              "</div>"
            ],
            "text/plain": [
              "          user_id  purchases\n",
              "0         9794320          4\n",
              "1        10079204          2\n",
              "2        10280338         86\n",
              "3        12055855          4\n",
              "4        12936739          2\n",
              "...           ...        ...\n",
              "110513  622065819          4\n",
              "110514  622066161          4\n",
              "110515  622067983         10\n",
              "110516  622069477          1\n",
              "110517  622073202          1\n",
              "\n",
              "[110518 rows x 2 columns]"
            ]
          },
          "execution_count": 33,
          "metadata": {},
          "output_type": "execute_result"
        }
      ],
      "source": [
        "user_purchase_count = pd.DataFrame({'purchases': events_data[events_data.event_type == 'purchase'].groupby('user_id').event_time.count()}).reset_index()\n",
        "user_purchase_count"
      ]
    },
    {
      "cell_type": "code",
      "execution_count": 34,
      "metadata": {},
      "outputs": [
        {
          "data": {
            "text/html": [
              "<div>\n",
              "<style scoped>\n",
              "    .dataframe tbody tr th:only-of-type {\n",
              "        vertical-align: middle;\n",
              "    }\n",
              "\n",
              "    .dataframe tbody tr th {\n",
              "        vertical-align: top;\n",
              "    }\n",
              "\n",
              "    .dataframe thead th {\n",
              "        text-align: right;\n",
              "    }\n",
              "</style>\n",
              "<table border=\"1\" class=\"dataframe\">\n",
              "  <thead>\n",
              "    <tr style=\"text-align: right;\">\n",
              "      <th></th>\n",
              "      <th>user_id</th>\n",
              "    </tr>\n",
              "    <tr>\n",
              "      <th>purchases</th>\n",
              "      <th></th>\n",
              "    </tr>\n",
              "  </thead>\n",
              "  <tbody>\n",
              "    <tr>\n",
              "      <th>1</th>\n",
              "      <td>11417</td>\n",
              "    </tr>\n",
              "    <tr>\n",
              "      <th>2</th>\n",
              "      <td>11604</td>\n",
              "    </tr>\n",
              "    <tr>\n",
              "      <th>3</th>\n",
              "      <td>10918</td>\n",
              "    </tr>\n",
              "    <tr>\n",
              "      <th>4</th>\n",
              "      <td>9605</td>\n",
              "    </tr>\n",
              "    <tr>\n",
              "      <th>5</th>\n",
              "      <td>7756</td>\n",
              "    </tr>\n",
              "    <tr>\n",
              "      <th>...</th>\n",
              "      <td>...</td>\n",
              "    </tr>\n",
              "    <tr>\n",
              "      <th>461</th>\n",
              "      <td>1</td>\n",
              "    </tr>\n",
              "    <tr>\n",
              "      <th>500</th>\n",
              "      <td>1</td>\n",
              "    </tr>\n",
              "    <tr>\n",
              "      <th>506</th>\n",
              "      <td>1</td>\n",
              "    </tr>\n",
              "    <tr>\n",
              "      <th>603</th>\n",
              "      <td>1</td>\n",
              "    </tr>\n",
              "    <tr>\n",
              "      <th>715</th>\n",
              "      <td>1</td>\n",
              "    </tr>\n",
              "  </tbody>\n",
              "</table>\n",
              "<p>265 rows × 1 columns</p>\n",
              "</div>"
            ],
            "text/plain": [
              "           user_id\n",
              "purchases         \n",
              "1            11417\n",
              "2            11604\n",
              "3            10918\n",
              "4             9605\n",
              "5             7756\n",
              "...            ...\n",
              "461              1\n",
              "500              1\n",
              "506              1\n",
              "603              1\n",
              "715              1\n",
              "\n",
              "[265 rows x 1 columns]"
            ]
          },
          "execution_count": 34,
          "metadata": {},
          "output_type": "execute_result"
        }
      ],
      "source": [
        "user_purchase_count.groupby('purchases').count()"
      ]
    },
    {
      "cell_type": "code",
      "execution_count": 35,
      "metadata": {},
      "outputs": [
        {
          "data": {
            "text/html": [
              "<div>\n",
              "<style scoped>\n",
              "    .dataframe tbody tr th:only-of-type {\n",
              "        vertical-align: middle;\n",
              "    }\n",
              "\n",
              "    .dataframe tbody tr th {\n",
              "        vertical-align: top;\n",
              "    }\n",
              "\n",
              "    .dataframe thead th {\n",
              "        text-align: right;\n",
              "    }\n",
              "</style>\n",
              "<table border=\"1\" class=\"dataframe\">\n",
              "  <thead>\n",
              "    <tr style=\"text-align: right;\">\n",
              "      <th></th>\n",
              "      <th>purchases</th>\n",
              "      <th>Users</th>\n",
              "    </tr>\n",
              "  </thead>\n",
              "  <tbody>\n",
              "    <tr>\n",
              "      <th>0</th>\n",
              "      <td>1</td>\n",
              "      <td>11417</td>\n",
              "    </tr>\n",
              "    <tr>\n",
              "      <th>1</th>\n",
              "      <td>2</td>\n",
              "      <td>11604</td>\n",
              "    </tr>\n",
              "    <tr>\n",
              "      <th>2</th>\n",
              "      <td>3</td>\n",
              "      <td>10918</td>\n",
              "    </tr>\n",
              "    <tr>\n",
              "      <th>3</th>\n",
              "      <td>4</td>\n",
              "      <td>9605</td>\n",
              "    </tr>\n",
              "    <tr>\n",
              "      <th>4</th>\n",
              "      <td>5</td>\n",
              "      <td>7756</td>\n",
              "    </tr>\n",
              "    <tr>\n",
              "      <th>...</th>\n",
              "      <td>...</td>\n",
              "      <td>...</td>\n",
              "    </tr>\n",
              "    <tr>\n",
              "      <th>260</th>\n",
              "      <td>461</td>\n",
              "      <td>1</td>\n",
              "    </tr>\n",
              "    <tr>\n",
              "      <th>261</th>\n",
              "      <td>500</td>\n",
              "      <td>1</td>\n",
              "    </tr>\n",
              "    <tr>\n",
              "      <th>262</th>\n",
              "      <td>506</td>\n",
              "      <td>1</td>\n",
              "    </tr>\n",
              "    <tr>\n",
              "      <th>263</th>\n",
              "      <td>603</td>\n",
              "      <td>1</td>\n",
              "    </tr>\n",
              "    <tr>\n",
              "      <th>264</th>\n",
              "      <td>715</td>\n",
              "      <td>1</td>\n",
              "    </tr>\n",
              "  </tbody>\n",
              "</table>\n",
              "<p>265 rows × 2 columns</p>\n",
              "</div>"
            ],
            "text/plain": [
              "     purchases  Users\n",
              "0            1  11417\n",
              "1            2  11604\n",
              "2            3  10918\n",
              "3            4   9605\n",
              "4            5   7756\n",
              "..         ...    ...\n",
              "260        461      1\n",
              "261        500      1\n",
              "262        506      1\n",
              "263        603      1\n",
              "264        715      1\n",
              "\n",
              "[265 rows x 2 columns]"
            ]
          },
          "execution_count": 35,
          "metadata": {},
          "output_type": "execute_result"
        }
      ],
      "source": [
        "groupped_user_purchase_count = user_purchase_count.groupby('purchases').count().reset_index()\n",
        "groupped_user_purchase_count.rename(columns = {'user_id':'Users'}, inplace=True)\n",
        "groupped_user_purchase_count"
      ]
    },
    {
      "cell_type": "code",
      "execution_count": 36,
      "metadata": {},
      "outputs": [
        {
          "data": {
            "text/plain": [
              "Text(0, 0.5, 'Number of users with purchase')"
            ]
          },
          "execution_count": 36,
          "metadata": {},
          "output_type": "execute_result"
        },
        {
          "data": {
            "image/png": "[encoded data removed]",
            "text/plain": [
              "<Figure size 640x480 with 1 Axes>"
            ]
          },
          "metadata": {},
          "output_type": "display_data"
        }
      ],
      "source": [
        "plt.bar(groupped_user_purchase_count['purchases'], groupped_user_purchase_count['Users'])\n",
        "plt.xlabel('Purchase counts')\n",
        "plt.ylabel('Number of users with purchase')"
      ]
    },
    {
      "cell_type": "markdown",
      "metadata": {
        "id": "NFteTfe4t0-R"
      },
      "source": [
        "Какие выводы о количестве покупок можно сделать?"
      ]
    },
    {
      "cell_type": "markdown",
      "metadata": {},
      "source": [
        "* большинство пользователей сделали меньше 100 покупок\n",
        "* около 11 тысяч пользователей сделали единичные покупки"
      ]
    },
    {
      "cell_type": "markdown",
      "metadata": {
        "id": "gNtgf_nZ_xkB"
      },
      "source": [
        "2) Найдите среднее и медианное значение количества уникальных сессий на одного пользователя.\n",
        "\n",
        "Сохраните значения в переменные `mean_grouped_user_session` и `median_grouped_user_session`"
      ]
    },
    {
      "cell_type": "code",
      "execution_count": 37,
      "metadata": {
        "id": "DQ57XIuxAFwO"
      },
      "outputs": [
        {
          "data": {
            "text/html": [
              "<div>\n",
              "<style scoped>\n",
              "    .dataframe tbody tr th:only-of-type {\n",
              "        vertical-align: middle;\n",
              "    }\n",
              "\n",
              "    .dataframe tbody tr th {\n",
              "        vertical-align: top;\n",
              "    }\n",
              "\n",
              "    .dataframe thead th {\n",
              "        text-align: right;\n",
              "    }\n",
              "</style>\n",
              "<table border=\"1\" class=\"dataframe\">\n",
              "  <thead>\n",
              "    <tr style=\"text-align: right;\">\n",
              "      <th></th>\n",
              "      <th>User</th>\n",
              "      <th>user_session</th>\n",
              "    </tr>\n",
              "  </thead>\n",
              "  <tbody>\n",
              "    <tr>\n",
              "      <th>0</th>\n",
              "      <td>465496</td>\n",
              "      <td>[8ad668e6-9567-4da9-b43b-250f12ecab5b, d4b9b57...</td>\n",
              "    </tr>\n",
              "    <tr>\n",
              "      <th>1</th>\n",
              "      <td>1120748</td>\n",
              "      <td>[d0484d94-7ac1-44e8-a310-2360da11ad9d]</td>\n",
              "    </tr>\n",
              "    <tr>\n",
              "      <th>2</th>\n",
              "      <td>1180452</td>\n",
              "      <td>[a4818e6d-9069-4aa8-8731-572ac266283f]</td>\n",
              "    </tr>\n",
              "    <tr>\n",
              "      <th>3</th>\n",
              "      <td>1458813</td>\n",
              "      <td>[b16644a2-44db-4650-8156-f6f03782d432, 6873a20...</td>\n",
              "    </tr>\n",
              "    <tr>\n",
              "      <th>4</th>\n",
              "      <td>2038666</td>\n",
              "      <td>[158695f0-13cd-4b5d-94d8-bc2fb8b1ca25]</td>\n",
              "    </tr>\n",
              "    <tr>\n",
              "      <th>...</th>\n",
              "      <td>...</td>\n",
              "      <td>...</td>\n",
              "    </tr>\n",
              "    <tr>\n",
              "      <th>1639146</th>\n",
              "      <td>622090016</td>\n",
              "      <td>[1752f371-c277-4a06-818f-f8d2cc95b68d, 3efcf28...</td>\n",
              "    </tr>\n",
              "    <tr>\n",
              "      <th>1639147</th>\n",
              "      <td>622090043</td>\n",
              "      <td>[ab7d349f-db5d-4790-8ab1-31e5c894459d]</td>\n",
              "    </tr>\n",
              "    <tr>\n",
              "      <th>1639148</th>\n",
              "      <td>622090052</td>\n",
              "      <td>[5872302d-7a37-4e86-96f3-f7ea373d2eb5, 062d2f7...</td>\n",
              "    </tr>\n",
              "    <tr>\n",
              "      <th>1639149</th>\n",
              "      <td>622090098</td>\n",
              "      <td>[aba3b9a3-c558-4c91-bb2d-d96a77a4a098]</td>\n",
              "    </tr>\n",
              "    <tr>\n",
              "      <th>1639150</th>\n",
              "      <td>622090237</td>\n",
              "      <td>[fbad7fa1-e73f-4c32-987b-b94b2ea19c24]</td>\n",
              "    </tr>\n",
              "  </tbody>\n",
              "</table>\n",
              "<p>1639151 rows × 2 columns</p>\n",
              "</div>"
            ],
            "text/plain": [
              "              User                                       user_session\n",
              "0           465496  [8ad668e6-9567-4da9-b43b-250f12ecab5b, d4b9b57...\n",
              "1          1120748             [d0484d94-7ac1-44e8-a310-2360da11ad9d]\n",
              "2          1180452             [a4818e6d-9069-4aa8-8731-572ac266283f]\n",
              "3          1458813  [b16644a2-44db-4650-8156-f6f03782d432, 6873a20...\n",
              "4          2038666             [158695f0-13cd-4b5d-94d8-bc2fb8b1ca25]\n",
              "...            ...                                                ...\n",
              "1639146  622090016  [1752f371-c277-4a06-818f-f8d2cc95b68d, 3efcf28...\n",
              "1639147  622090043             [ab7d349f-db5d-4790-8ab1-31e5c894459d]\n",
              "1639148  622090052  [5872302d-7a37-4e86-96f3-f7ea373d2eb5, 062d2f7...\n",
              "1639149  622090098             [aba3b9a3-c558-4c91-bb2d-d96a77a4a098]\n",
              "1639150  622090237             [fbad7fa1-e73f-4c32-987b-b94b2ea19c24]\n",
              "\n",
              "[1639151 rows x 2 columns]"
            ]
          },
          "execution_count": 37,
          "metadata": {},
          "output_type": "execute_result"
        }
      ],
      "source": [
        "groupped_user_session_count = events_data.groupby('user_id').user_session.unique().reset_index()\n",
        "groupped_user_session_count.rename(columns = {'user_id':'User'}, inplace=True)\n",
        "groupped_user_session_count"
      ]
    },
    {
      "cell_type": "code",
      "execution_count": 38,
      "metadata": {},
      "outputs": [
        {
          "data": {
            "text/html": [
              "<div>\n",
              "<style scoped>\n",
              "    .dataframe tbody tr th:only-of-type {\n",
              "        vertical-align: middle;\n",
              "    }\n",
              "\n",
              "    .dataframe tbody tr th {\n",
              "        vertical-align: top;\n",
              "    }\n",
              "\n",
              "    .dataframe thead th {\n",
              "        text-align: right;\n",
              "    }\n",
              "</style>\n",
              "<table border=\"1\" class=\"dataframe\">\n",
              "  <thead>\n",
              "    <tr style=\"text-align: right;\">\n",
              "      <th></th>\n",
              "      <th>User</th>\n",
              "      <th>user_session</th>\n",
              "      <th>session_count</th>\n",
              "    </tr>\n",
              "  </thead>\n",
              "  <tbody>\n",
              "    <tr>\n",
              "      <th>0</th>\n",
              "      <td>465496</td>\n",
              "      <td>[8ad668e6-9567-4da9-b43b-250f12ecab5b, d4b9b57...</td>\n",
              "      <td>2</td>\n",
              "    </tr>\n",
              "    <tr>\n",
              "      <th>1</th>\n",
              "      <td>1120748</td>\n",
              "      <td>[d0484d94-7ac1-44e8-a310-2360da11ad9d]</td>\n",
              "      <td>1</td>\n",
              "    </tr>\n",
              "    <tr>\n",
              "      <th>2</th>\n",
              "      <td>1180452</td>\n",
              "      <td>[a4818e6d-9069-4aa8-8731-572ac266283f]</td>\n",
              "      <td>1</td>\n",
              "    </tr>\n",
              "    <tr>\n",
              "      <th>3</th>\n",
              "      <td>1458813</td>\n",
              "      <td>[b16644a2-44db-4650-8156-f6f03782d432, 6873a20...</td>\n",
              "      <td>4</td>\n",
              "    </tr>\n",
              "    <tr>\n",
              "      <th>4</th>\n",
              "      <td>2038666</td>\n",
              "      <td>[158695f0-13cd-4b5d-94d8-bc2fb8b1ca25]</td>\n",
              "      <td>1</td>\n",
              "    </tr>\n",
              "    <tr>\n",
              "      <th>...</th>\n",
              "      <td>...</td>\n",
              "      <td>...</td>\n",
              "      <td>...</td>\n",
              "    </tr>\n",
              "    <tr>\n",
              "      <th>1639146</th>\n",
              "      <td>622090016</td>\n",
              "      <td>[1752f371-c277-4a06-818f-f8d2cc95b68d, 3efcf28...</td>\n",
              "      <td>2</td>\n",
              "    </tr>\n",
              "    <tr>\n",
              "      <th>1639147</th>\n",
              "      <td>622090043</td>\n",
              "      <td>[ab7d349f-db5d-4790-8ab1-31e5c894459d]</td>\n",
              "      <td>1</td>\n",
              "    </tr>\n",
              "    <tr>\n",
              "      <th>1639148</th>\n",
              "      <td>622090052</td>\n",
              "      <td>[5872302d-7a37-4e86-96f3-f7ea373d2eb5, 062d2f7...</td>\n",
              "      <td>2</td>\n",
              "    </tr>\n",
              "    <tr>\n",
              "      <th>1639149</th>\n",
              "      <td>622090098</td>\n",
              "      <td>[aba3b9a3-c558-4c91-bb2d-d96a77a4a098]</td>\n",
              "      <td>1</td>\n",
              "    </tr>\n",
              "    <tr>\n",
              "      <th>1639150</th>\n",
              "      <td>622090237</td>\n",
              "      <td>[fbad7fa1-e73f-4c32-987b-b94b2ea19c24]</td>\n",
              "      <td>1</td>\n",
              "    </tr>\n",
              "  </tbody>\n",
              "</table>\n",
              "<p>1639151 rows × 3 columns</p>\n",
              "</div>"
            ],
            "text/plain": [
              "              User                                       user_session  \\\n",
              "0           465496  [8ad668e6-9567-4da9-b43b-250f12ecab5b, d4b9b57...   \n",
              "1          1120748             [d0484d94-7ac1-44e8-a310-2360da11ad9d]   \n",
              "2          1180452             [a4818e6d-9069-4aa8-8731-572ac266283f]   \n",
              "3          1458813  [b16644a2-44db-4650-8156-f6f03782d432, 6873a20...   \n",
              "4          2038666             [158695f0-13cd-4b5d-94d8-bc2fb8b1ca25]   \n",
              "...            ...                                                ...   \n",
              "1639146  622090016  [1752f371-c277-4a06-818f-f8d2cc95b68d, 3efcf28...   \n",
              "1639147  622090043             [ab7d349f-db5d-4790-8ab1-31e5c894459d]   \n",
              "1639148  622090052  [5872302d-7a37-4e86-96f3-f7ea373d2eb5, 062d2f7...   \n",
              "1639149  622090098             [aba3b9a3-c558-4c91-bb2d-d96a77a4a098]   \n",
              "1639150  622090237             [fbad7fa1-e73f-4c32-987b-b94b2ea19c24]   \n",
              "\n",
              "         session_count  \n",
              "0                    2  \n",
              "1                    1  \n",
              "2                    1  \n",
              "3                    4  \n",
              "4                    1  \n",
              "...                ...  \n",
              "1639146              2  \n",
              "1639147              1  \n",
              "1639148              2  \n",
              "1639149              1  \n",
              "1639150              1  \n",
              "\n",
              "[1639151 rows x 3 columns]"
            ]
          },
          "execution_count": 38,
          "metadata": {},
          "output_type": "execute_result"
        }
      ],
      "source": [
        "groupped_user_session_count['session_count'] = groupped_user_session_count.user_session.apply(lambda x: len(x))\n",
        "groupped_user_session_count"
      ]
    },
    {
      "cell_type": "code",
      "execution_count": 39,
      "metadata": {},
      "outputs": [],
      "source": [
        "mean_groupped_user_session = groupped_user_session_count.session_count.mean()\n",
        "median_groupped_user_session = groupped_user_session_count.session_count.median()"
      ]
    },
    {
      "cell_type": "code",
      "execution_count": 40,
      "metadata": {
        "id": "hN7pqsWHB8Dx"
      },
      "outputs": [],
      "source": [
        "assert 2.76 < mean_groupped_user_session < 2.77\n",
        "assert median_groupped_user_session == 1.0"
      ]
    },
    {
      "cell_type": "markdown",
      "metadata": {
        "id": "DVzoqfkpCBmK"
      },
      "source": [
        "Попробуйте объяснить в чем причина такого большого расхождения между этими значениями?"
      ]
    },
    {
      "cell_type": "markdown",
      "metadata": {
        "id": "mrGWiO-cDaHL"
      },
      "source": [
        "Ответ: есть пользователи, которые заходили в несколько сессий, поэтому в среднем у всех выходит завышенное число сессий."
      ]
    },
    {
      "cell_type": "markdown",
      "metadata": {
        "id": "_RalZ9I0uh4i"
      },
      "source": [
        "3) Рассмотрите любого пользователя с более чем 100 покупками. Выпишите его историю событий в виде последовательности типов событий. Что можно сказать о процессе покупки?"
      ]
    },
    {
      "cell_type": "code",
      "execution_count": 41,
      "metadata": {
        "id": "hsNGQ4uquiHC"
      },
      "outputs": [
        {
          "data": {
            "text/html": [
              "<div>\n",
              "<style scoped>\n",
              "    .dataframe tbody tr th:only-of-type {\n",
              "        vertical-align: middle;\n",
              "    }\n",
              "\n",
              "    .dataframe tbody tr th {\n",
              "        vertical-align: top;\n",
              "    }\n",
              "\n",
              "    .dataframe thead th {\n",
              "        text-align: right;\n",
              "    }\n",
              "</style>\n",
              "<table border=\"1\" class=\"dataframe\">\n",
              "  <thead>\n",
              "    <tr style=\"text-align: right;\">\n",
              "      <th></th>\n",
              "      <th>user_id</th>\n",
              "      <th>purchases</th>\n",
              "    </tr>\n",
              "  </thead>\n",
              "  <tbody>\n",
              "    <tr>\n",
              "      <th>185</th>\n",
              "      <td>105697630</td>\n",
              "      <td>118</td>\n",
              "    </tr>\n",
              "    <tr>\n",
              "      <th>191</th>\n",
              "      <td>107945915</td>\n",
              "      <td>163</td>\n",
              "    </tr>\n",
              "    <tr>\n",
              "      <th>300</th>\n",
              "      <td>150318419</td>\n",
              "      <td>370</td>\n",
              "    </tr>\n",
              "    <tr>\n",
              "      <th>350</th>\n",
              "      <td>156430889</td>\n",
              "      <td>101</td>\n",
              "    </tr>\n",
              "    <tr>\n",
              "      <th>436</th>\n",
              "      <td>172974485</td>\n",
              "      <td>262</td>\n",
              "    </tr>\n",
              "    <tr>\n",
              "      <th>...</th>\n",
              "      <td>...</td>\n",
              "      <td>...</td>\n",
              "    </tr>\n",
              "    <tr>\n",
              "      <th>108464</th>\n",
              "      <td>618256196</td>\n",
              "      <td>116</td>\n",
              "    </tr>\n",
              "    <tr>\n",
              "      <th>108891</th>\n",
              "      <td>619092910</td>\n",
              "      <td>127</td>\n",
              "    </tr>\n",
              "    <tr>\n",
              "      <th>108990</th>\n",
              "      <td>619284923</td>\n",
              "      <td>147</td>\n",
              "    </tr>\n",
              "    <tr>\n",
              "      <th>109027</th>\n",
              "      <td>619352755</td>\n",
              "      <td>173</td>\n",
              "    </tr>\n",
              "    <tr>\n",
              "      <th>109349</th>\n",
              "      <td>620029655</td>\n",
              "      <td>324</td>\n",
              "    </tr>\n",
              "  </tbody>\n",
              "</table>\n",
              "<p>755 rows × 2 columns</p>\n",
              "</div>"
            ],
            "text/plain": [
              "          user_id  purchases\n",
              "185     105697630        118\n",
              "191     107945915        163\n",
              "300     150318419        370\n",
              "350     156430889        101\n",
              "436     172974485        262\n",
              "...           ...        ...\n",
              "108464  618256196        116\n",
              "108891  619092910        127\n",
              "108990  619284923        147\n",
              "109027  619352755        173\n",
              "109349  620029655        324\n",
              "\n",
              "[755 rows x 2 columns]"
            ]
          },
          "execution_count": 41,
          "metadata": {},
          "output_type": "execute_result"
        }
      ],
      "source": [
        "user_purchase_count[user_purchase_count.purchases > 100]"
      ]
    },
    {
      "cell_type": "markdown",
      "metadata": {},
      "source": [
        "рассмотрим пользователя с id 150318419, который совершил 370 покупок"
      ]
    },
    {
      "cell_type": "code",
      "execution_count": 42,
      "metadata": {},
      "outputs": [
        {
          "data": {
            "text/html": [
              "<div>\n",
              "<style scoped>\n",
              "    .dataframe tbody tr th:only-of-type {\n",
              "        vertical-align: middle;\n",
              "    }\n",
              "\n",
              "    .dataframe tbody tr th {\n",
              "        vertical-align: top;\n",
              "    }\n",
              "\n",
              "    .dataframe thead th {\n",
              "        text-align: right;\n",
              "    }\n",
              "</style>\n",
              "<table border=\"1\" class=\"dataframe\">\n",
              "  <thead>\n",
              "    <tr style=\"text-align: right;\">\n",
              "      <th></th>\n",
              "      <th>event_time</th>\n",
              "      <th>event_type</th>\n",
              "    </tr>\n",
              "  </thead>\n",
              "  <tbody>\n",
              "    <tr>\n",
              "      <th>50339</th>\n",
              "      <td>2019-10-01 11:05:57+00:00</td>\n",
              "      <td>view</td>\n",
              "    </tr>\n",
              "    <tr>\n",
              "      <th>56875</th>\n",
              "      <td>2019-10-01 11:55:10+00:00</td>\n",
              "      <td>view</td>\n",
              "    </tr>\n",
              "    <tr>\n",
              "      <th>57014</th>\n",
              "      <td>2019-10-01 11:56:15+00:00</td>\n",
              "      <td>view</td>\n",
              "    </tr>\n",
              "    <tr>\n",
              "      <th>69010</th>\n",
              "      <td>2019-10-01 13:34:40+00:00</td>\n",
              "      <td>view</td>\n",
              "    </tr>\n",
              "    <tr>\n",
              "      <th>69026</th>\n",
              "      <td>2019-10-01 13:34:49+00:00</td>\n",
              "      <td>cart</td>\n",
              "    </tr>\n",
              "    <tr>\n",
              "      <th>81814</th>\n",
              "      <td>2019-10-01 15:25:11+00:00</td>\n",
              "      <td>view</td>\n",
              "    </tr>\n",
              "    <tr>\n",
              "      <th>218048</th>\n",
              "      <td>2019-10-02 10:18:04+00:00</td>\n",
              "      <td>view</td>\n",
              "    </tr>\n",
              "    <tr>\n",
              "      <th>270376</th>\n",
              "      <td>2019-10-02 15:09:43+00:00</td>\n",
              "      <td>view</td>\n",
              "    </tr>\n",
              "    <tr>\n",
              "      <th>379393</th>\n",
              "      <td>2019-10-03 09:27:20+00:00</td>\n",
              "      <td>view</td>\n",
              "    </tr>\n",
              "    <tr>\n",
              "      <th>491154</th>\n",
              "      <td>2019-10-04 07:35:53+00:00</td>\n",
              "      <td>view</td>\n",
              "    </tr>\n",
              "    <tr>\n",
              "      <th>491359</th>\n",
              "      <td>2019-10-04 07:37:17+00:00</td>\n",
              "      <td>view</td>\n",
              "    </tr>\n",
              "    <tr>\n",
              "      <th>491504</th>\n",
              "      <td>2019-10-04 07:38:33+00:00</td>\n",
              "      <td>view</td>\n",
              "    </tr>\n",
              "    <tr>\n",
              "      <th>491567</th>\n",
              "      <td>2019-10-04 07:39:02+00:00</td>\n",
              "      <td>view</td>\n",
              "    </tr>\n",
              "    <tr>\n",
              "      <th>491621</th>\n",
              "      <td>2019-10-04 07:39:25+00:00</td>\n",
              "      <td>view</td>\n",
              "    </tr>\n",
              "    <tr>\n",
              "      <th>491724</th>\n",
              "      <td>2019-10-04 07:40:15+00:00</td>\n",
              "      <td>view</td>\n",
              "    </tr>\n",
              "    <tr>\n",
              "      <th>491842</th>\n",
              "      <td>2019-10-04 07:40:51+00:00</td>\n",
              "      <td>view</td>\n",
              "    </tr>\n",
              "    <tr>\n",
              "      <th>492038</th>\n",
              "      <td>2019-10-04 07:42:07+00:00</td>\n",
              "      <td>remove_from_cart</td>\n",
              "    </tr>\n",
              "    <tr>\n",
              "      <th>492076</th>\n",
              "      <td>2019-10-04 07:42:26+00:00</td>\n",
              "      <td>view</td>\n",
              "    </tr>\n",
              "    <tr>\n",
              "      <th>492145</th>\n",
              "      <td>2019-10-04 07:43:03+00:00</td>\n",
              "      <td>view</td>\n",
              "    </tr>\n",
              "    <tr>\n",
              "      <th>494988</th>\n",
              "      <td>2019-10-04 08:06:27+00:00</td>\n",
              "      <td>view</td>\n",
              "    </tr>\n",
              "    <tr>\n",
              "      <th>495104</th>\n",
              "      <td>2019-10-04 08:07:16+00:00</td>\n",
              "      <td>view</td>\n",
              "    </tr>\n",
              "    <tr>\n",
              "      <th>531382</th>\n",
              "      <td>2019-10-04 13:14:09+00:00</td>\n",
              "      <td>view</td>\n",
              "    </tr>\n",
              "    <tr>\n",
              "      <th>531426</th>\n",
              "      <td>2019-10-04 13:14:29+00:00</td>\n",
              "      <td>view</td>\n",
              "    </tr>\n",
              "    <tr>\n",
              "      <th>535767</th>\n",
              "      <td>2019-10-04 13:55:55+00:00</td>\n",
              "      <td>view</td>\n",
              "    </tr>\n",
              "    <tr>\n",
              "      <th>536418</th>\n",
              "      <td>2019-10-04 14:02:23+00:00</td>\n",
              "      <td>view</td>\n",
              "    </tr>\n",
              "    <tr>\n",
              "      <th>536531</th>\n",
              "      <td>2019-10-04 14:03:22+00:00</td>\n",
              "      <td>view</td>\n",
              "    </tr>\n",
              "    <tr>\n",
              "      <th>536538</th>\n",
              "      <td>2019-10-04 14:03:29+00:00</td>\n",
              "      <td>view</td>\n",
              "    </tr>\n",
              "    <tr>\n",
              "      <th>536906</th>\n",
              "      <td>2019-10-04 14:06:25+00:00</td>\n",
              "      <td>view</td>\n",
              "    </tr>\n",
              "    <tr>\n",
              "      <th>536955</th>\n",
              "      <td>2019-10-04 14:07:01+00:00</td>\n",
              "      <td>view</td>\n",
              "    </tr>\n",
              "    <tr>\n",
              "      <th>537098</th>\n",
              "      <td>2019-10-04 14:07:48+00:00</td>\n",
              "      <td>view</td>\n",
              "    </tr>\n",
              "    <tr>\n",
              "      <th>537365</th>\n",
              "      <td>2019-10-04 14:09:37+00:00</td>\n",
              "      <td>cart</td>\n",
              "    </tr>\n",
              "    <tr>\n",
              "      <th>537382</th>\n",
              "      <td>2019-10-04 14:09:39+00:00</td>\n",
              "      <td>cart</td>\n",
              "    </tr>\n",
              "    <tr>\n",
              "      <th>537386</th>\n",
              "      <td>2019-10-04 14:09:40+00:00</td>\n",
              "      <td>cart</td>\n",
              "    </tr>\n",
              "    <tr>\n",
              "      <th>537388</th>\n",
              "      <td>2019-10-04 14:09:42+00:00</td>\n",
              "      <td>cart</td>\n",
              "    </tr>\n",
              "    <tr>\n",
              "      <th>537391</th>\n",
              "      <td>2019-10-04 14:09:45+00:00</td>\n",
              "      <td>cart</td>\n",
              "    </tr>\n",
              "    <tr>\n",
              "      <th>538795</th>\n",
              "      <td>2019-10-04 14:23:56+00:00</td>\n",
              "      <td>purchase</td>\n",
              "    </tr>\n",
              "    <tr>\n",
              "      <th>538797</th>\n",
              "      <td>2019-10-04 14:23:56+00:00</td>\n",
              "      <td>purchase</td>\n",
              "    </tr>\n",
              "    <tr>\n",
              "      <th>538798</th>\n",
              "      <td>2019-10-04 14:23:56+00:00</td>\n",
              "      <td>purchase</td>\n",
              "    </tr>\n",
              "    <tr>\n",
              "      <th>538799</th>\n",
              "      <td>2019-10-04 14:23:56+00:00</td>\n",
              "      <td>purchase</td>\n",
              "    </tr>\n",
              "    <tr>\n",
              "      <th>617812</th>\n",
              "      <td>2019-10-05 11:17:07+00:00</td>\n",
              "      <td>view</td>\n",
              "    </tr>\n",
              "    <tr>\n",
              "      <th>617867</th>\n",
              "      <td>2019-10-05 11:18:04+00:00</td>\n",
              "      <td>cart</td>\n",
              "    </tr>\n",
              "    <tr>\n",
              "      <th>618073</th>\n",
              "      <td>2019-10-05 11:20:22+00:00</td>\n",
              "      <td>cart</td>\n",
              "    </tr>\n",
              "    <tr>\n",
              "      <th>618083</th>\n",
              "      <td>2019-10-05 11:20:30+00:00</td>\n",
              "      <td>view</td>\n",
              "    </tr>\n",
              "    <tr>\n",
              "      <th>618125</th>\n",
              "      <td>2019-10-05 11:20:57+00:00</td>\n",
              "      <td>view</td>\n",
              "    </tr>\n",
              "    <tr>\n",
              "      <th>618136</th>\n",
              "      <td>2019-10-05 11:21:05+00:00</td>\n",
              "      <td>view</td>\n",
              "    </tr>\n",
              "    <tr>\n",
              "      <th>618523</th>\n",
              "      <td>2019-10-05 11:24:07+00:00</td>\n",
              "      <td>purchase</td>\n",
              "    </tr>\n",
              "    <tr>\n",
              "      <th>618524</th>\n",
              "      <td>2019-10-05 11:24:07+00:00</td>\n",
              "      <td>purchase</td>\n",
              "    </tr>\n",
              "    <tr>\n",
              "      <th>622238</th>\n",
              "      <td>2019-10-05 12:04:28+00:00</td>\n",
              "      <td>view</td>\n",
              "    </tr>\n",
              "    <tr>\n",
              "      <th>623113</th>\n",
              "      <td>2019-10-05 12:14:02+00:00</td>\n",
              "      <td>view</td>\n",
              "    </tr>\n",
              "    <tr>\n",
              "      <th>623225</th>\n",
              "      <td>2019-10-05 12:15:15+00:00</td>\n",
              "      <td>view</td>\n",
              "    </tr>\n",
              "    <tr>\n",
              "      <th>623259</th>\n",
              "      <td>2019-10-05 12:15:34+00:00</td>\n",
              "      <td>view</td>\n",
              "    </tr>\n",
              "    <tr>\n",
              "      <th>623579</th>\n",
              "      <td>2019-10-05 12:18:41+00:00</td>\n",
              "      <td>view</td>\n",
              "    </tr>\n",
              "    <tr>\n",
              "      <th>623624</th>\n",
              "      <td>2019-10-05 12:19:09+00:00</td>\n",
              "      <td>view</td>\n",
              "    </tr>\n",
              "    <tr>\n",
              "      <th>642344</th>\n",
              "      <td>2019-10-05 15:38:14+00:00</td>\n",
              "      <td>view</td>\n",
              "    </tr>\n",
              "    <tr>\n",
              "      <th>643240</th>\n",
              "      <td>2019-10-05 15:49:07+00:00</td>\n",
              "      <td>cart</td>\n",
              "    </tr>\n",
              "    <tr>\n",
              "      <th>643246</th>\n",
              "      <td>2019-10-05 15:49:09+00:00</td>\n",
              "      <td>cart</td>\n",
              "    </tr>\n",
              "    <tr>\n",
              "      <th>643260</th>\n",
              "      <td>2019-10-05 15:49:16+00:00</td>\n",
              "      <td>cart</td>\n",
              "    </tr>\n",
              "    <tr>\n",
              "      <th>643401</th>\n",
              "      <td>2019-10-05 15:50:58+00:00</td>\n",
              "      <td>purchase</td>\n",
              "    </tr>\n",
              "    <tr>\n",
              "      <th>643402</th>\n",
              "      <td>2019-10-05 15:50:58+00:00</td>\n",
              "      <td>purchase</td>\n",
              "    </tr>\n",
              "    <tr>\n",
              "      <th>643403</th>\n",
              "      <td>2019-10-05 15:50:58+00:00</td>\n",
              "      <td>purchase</td>\n",
              "    </tr>\n",
              "  </tbody>\n",
              "</table>\n",
              "</div>"
            ],
            "text/plain": [
              "                      event_time        event_type\n",
              "50339  2019-10-01 11:05:57+00:00              view\n",
              "56875  2019-10-01 11:55:10+00:00              view\n",
              "57014  2019-10-01 11:56:15+00:00              view\n",
              "69010  2019-10-01 13:34:40+00:00              view\n",
              "69026  2019-10-01 13:34:49+00:00              cart\n",
              "81814  2019-10-01 15:25:11+00:00              view\n",
              "218048 2019-10-02 10:18:04+00:00              view\n",
              "270376 2019-10-02 15:09:43+00:00              view\n",
              "379393 2019-10-03 09:27:20+00:00              view\n",
              "491154 2019-10-04 07:35:53+00:00              view\n",
              "491359 2019-10-04 07:37:17+00:00              view\n",
              "491504 2019-10-04 07:38:33+00:00              view\n",
              "491567 2019-10-04 07:39:02+00:00              view\n",
              "491621 2019-10-04 07:39:25+00:00              view\n",
              "491724 2019-10-04 07:40:15+00:00              view\n",
              "491842 2019-10-04 07:40:51+00:00              view\n",
              "492038 2019-10-04 07:42:07+00:00  remove_from_cart\n",
              "492076 2019-10-04 07:42:26+00:00              view\n",
              "492145 2019-10-04 07:43:03+00:00              view\n",
              "494988 2019-10-04 08:06:27+00:00              view\n",
              "495104 2019-10-04 08:07:16+00:00              view\n",
              "531382 2019-10-04 13:14:09+00:00              view\n",
              "531426 2019-10-04 13:14:29+00:00              view\n",
              "535767 2019-10-04 13:55:55+00:00              view\n",
              "536418 2019-10-04 14:02:23+00:00              view\n",
              "536531 2019-10-04 14:03:22+00:00              view\n",
              "536538 2019-10-04 14:03:29+00:00              view\n",
              "536906 2019-10-04 14:06:25+00:00              view\n",
              "536955 2019-10-04 14:07:01+00:00              view\n",
              "537098 2019-10-04 14:07:48+00:00              view\n",
              "537365 2019-10-04 14:09:37+00:00              cart\n",
              "537382 2019-10-04 14:09:39+00:00              cart\n",
              "537386 2019-10-04 14:09:40+00:00              cart\n",
              "537388 2019-10-04 14:09:42+00:00              cart\n",
              "537391 2019-10-04 14:09:45+00:00              cart\n",
              "538795 2019-10-04 14:23:56+00:00          purchase\n",
              "538797 2019-10-04 14:23:56+00:00          purchase\n",
              "538798 2019-10-04 14:23:56+00:00          purchase\n",
              "538799 2019-10-04 14:23:56+00:00          purchase\n",
              "617812 2019-10-05 11:17:07+00:00              view\n",
              "617867 2019-10-05 11:18:04+00:00              cart\n",
              "618073 2019-10-05 11:20:22+00:00              cart\n",
              "618083 2019-10-05 11:20:30+00:00              view\n",
              "618125 2019-10-05 11:20:57+00:00              view\n",
              "618136 2019-10-05 11:21:05+00:00              view\n",
              "618523 2019-10-05 11:24:07+00:00          purchase\n",
              "618524 2019-10-05 11:24:07+00:00          purchase\n",
              "622238 2019-10-05 12:04:28+00:00              view\n",
              "623113 2019-10-05 12:14:02+00:00              view\n",
              "623225 2019-10-05 12:15:15+00:00              view\n",
              "623259 2019-10-05 12:15:34+00:00              view\n",
              "623579 2019-10-05 12:18:41+00:00              view\n",
              "623624 2019-10-05 12:19:09+00:00              view\n",
              "642344 2019-10-05 15:38:14+00:00              view\n",
              "643240 2019-10-05 15:49:07+00:00              cart\n",
              "643246 2019-10-05 15:49:09+00:00              cart\n",
              "643260 2019-10-05 15:49:16+00:00              cart\n",
              "643401 2019-10-05 15:50:58+00:00          purchase\n",
              "643402 2019-10-05 15:50:58+00:00          purchase\n",
              "643403 2019-10-05 15:50:58+00:00          purchase"
            ]
          },
          "execution_count": 42,
          "metadata": {},
          "output_type": "execute_result"
        }
      ],
      "source": [
        "events_data[events_data.user_id == 150318419][['event_time','event_type']].head(60)"
      ]
    },
    {
      "cell_type": "markdown",
      "metadata": {},
      "source": [
        "Пользователь с id 150318419 начинает просматривать товары 1 окт 2019, что-то добавляет в корзину. 2 и 3 окт 2019 что-то просто просматривает. 4 окт 2019 очень долго и тщательно просматривает товары, удаляет товар из корзины, снова долго просматривает, потом наконец добавляет в корзину товары 5 раз, и немного погодя совершает 4 покупки. Видимо, 4 окт 2019 пользователь долждался зарплаты. 5 окт 2019 шоппинг продолжается: просмотр менее тщательный, добавление в корзину товаров 2 раза, еще просмотр и последующая покупка двух товаров. Позже в тот же день длительный просмотр товаров, добавление в корзину 3 раза и незамедлительная покупка 3 товаров."
      ]
    },
    {
      "cell_type": "code",
      "execution_count": 43,
      "metadata": {},
      "outputs": [
        {
          "data": {
            "text/html": [
              "<div>\n",
              "<style scoped>\n",
              "    .dataframe tbody tr th:only-of-type {\n",
              "        vertical-align: middle;\n",
              "    }\n",
              "\n",
              "    .dataframe tbody tr th {\n",
              "        vertical-align: top;\n",
              "    }\n",
              "\n",
              "    .dataframe thead th {\n",
              "        text-align: right;\n",
              "    }\n",
              "</style>\n",
              "<table border=\"1\" class=\"dataframe\">\n",
              "  <thead>\n",
              "    <tr style=\"text-align: right;\">\n",
              "      <th></th>\n",
              "      <th>event_time</th>\n",
              "      <th>event_type</th>\n",
              "    </tr>\n",
              "  </thead>\n",
              "  <tbody>\n",
              "    <tr>\n",
              "      <th>538795</th>\n",
              "      <td>2019-10-04 14:23:56+00:00</td>\n",
              "      <td>purchase</td>\n",
              "    </tr>\n",
              "    <tr>\n",
              "      <th>538797</th>\n",
              "      <td>2019-10-04 14:23:56+00:00</td>\n",
              "      <td>purchase</td>\n",
              "    </tr>\n",
              "    <tr>\n",
              "      <th>538798</th>\n",
              "      <td>2019-10-04 14:23:56+00:00</td>\n",
              "      <td>purchase</td>\n",
              "    </tr>\n",
              "    <tr>\n",
              "      <th>538799</th>\n",
              "      <td>2019-10-04 14:23:56+00:00</td>\n",
              "      <td>purchase</td>\n",
              "    </tr>\n",
              "    <tr>\n",
              "      <th>618523</th>\n",
              "      <td>2019-10-05 11:24:07+00:00</td>\n",
              "      <td>purchase</td>\n",
              "    </tr>\n",
              "    <tr>\n",
              "      <th>618524</th>\n",
              "      <td>2019-10-05 11:24:07+00:00</td>\n",
              "      <td>purchase</td>\n",
              "    </tr>\n",
              "    <tr>\n",
              "      <th>643401</th>\n",
              "      <td>2019-10-05 15:50:58+00:00</td>\n",
              "      <td>purchase</td>\n",
              "    </tr>\n",
              "    <tr>\n",
              "      <th>643402</th>\n",
              "      <td>2019-10-05 15:50:58+00:00</td>\n",
              "      <td>purchase</td>\n",
              "    </tr>\n",
              "    <tr>\n",
              "      <th>643403</th>\n",
              "      <td>2019-10-05 15:50:58+00:00</td>\n",
              "      <td>purchase</td>\n",
              "    </tr>\n",
              "    <tr>\n",
              "      <th>652382</th>\n",
              "      <td>2019-10-05 17:20:08+00:00</td>\n",
              "      <td>purchase</td>\n",
              "    </tr>\n",
              "    <tr>\n",
              "      <th>652383</th>\n",
              "      <td>2019-10-05 17:20:08+00:00</td>\n",
              "      <td>purchase</td>\n",
              "    </tr>\n",
              "    <tr>\n",
              "      <th>652384</th>\n",
              "      <td>2019-10-05 17:20:08+00:00</td>\n",
              "      <td>purchase</td>\n",
              "    </tr>\n",
              "    <tr>\n",
              "      <th>652385</th>\n",
              "      <td>2019-10-05 17:20:08+00:00</td>\n",
              "      <td>purchase</td>\n",
              "    </tr>\n",
              "    <tr>\n",
              "      <th>987567</th>\n",
              "      <td>2019-10-07 13:54:35+00:00</td>\n",
              "      <td>purchase</td>\n",
              "    </tr>\n",
              "    <tr>\n",
              "      <th>987569</th>\n",
              "      <td>2019-10-07 13:54:35+00:00</td>\n",
              "      <td>purchase</td>\n",
              "    </tr>\n",
              "    <tr>\n",
              "      <th>987570</th>\n",
              "      <td>2019-10-07 13:54:35+00:00</td>\n",
              "      <td>purchase</td>\n",
              "    </tr>\n",
              "    <tr>\n",
              "      <th>987571</th>\n",
              "      <td>2019-10-07 13:54:35+00:00</td>\n",
              "      <td>purchase</td>\n",
              "    </tr>\n",
              "    <tr>\n",
              "      <th>987572</th>\n",
              "      <td>2019-10-07 13:54:35+00:00</td>\n",
              "      <td>purchase</td>\n",
              "    </tr>\n",
              "    <tr>\n",
              "      <th>987573</th>\n",
              "      <td>2019-10-07 13:54:35+00:00</td>\n",
              "      <td>purchase</td>\n",
              "    </tr>\n",
              "    <tr>\n",
              "      <th>987574</th>\n",
              "      <td>2019-10-07 13:54:35+00:00</td>\n",
              "      <td>purchase</td>\n",
              "    </tr>\n",
              "    <tr>\n",
              "      <th>987575</th>\n",
              "      <td>2019-10-07 13:54:35+00:00</td>\n",
              "      <td>purchase</td>\n",
              "    </tr>\n",
              "    <tr>\n",
              "      <th>987576</th>\n",
              "      <td>2019-10-07 13:54:35+00:00</td>\n",
              "      <td>purchase</td>\n",
              "    </tr>\n",
              "    <tr>\n",
              "      <th>987577</th>\n",
              "      <td>2019-10-07 13:54:35+00:00</td>\n",
              "      <td>purchase</td>\n",
              "    </tr>\n",
              "    <tr>\n",
              "      <th>987578</th>\n",
              "      <td>2019-10-07 13:54:35+00:00</td>\n",
              "      <td>purchase</td>\n",
              "    </tr>\n",
              "    <tr>\n",
              "      <th>987579</th>\n",
              "      <td>2019-10-07 13:54:35+00:00</td>\n",
              "      <td>purchase</td>\n",
              "    </tr>\n",
              "    <tr>\n",
              "      <th>1135181</th>\n",
              "      <td>2019-10-08 12:32:28+00:00</td>\n",
              "      <td>purchase</td>\n",
              "    </tr>\n",
              "    <tr>\n",
              "      <th>1135183</th>\n",
              "      <td>2019-10-08 12:32:28+00:00</td>\n",
              "      <td>purchase</td>\n",
              "    </tr>\n",
              "    <tr>\n",
              "      <th>1135184</th>\n",
              "      <td>2019-10-08 12:32:28+00:00</td>\n",
              "      <td>purchase</td>\n",
              "    </tr>\n",
              "    <tr>\n",
              "      <th>1302782</th>\n",
              "      <td>2019-10-09 15:55:10+00:00</td>\n",
              "      <td>purchase</td>\n",
              "    </tr>\n",
              "    <tr>\n",
              "      <th>1401092</th>\n",
              "      <td>2019-10-10 11:19:48+00:00</td>\n",
              "      <td>purchase</td>\n",
              "    </tr>\n",
              "    <tr>\n",
              "      <th>1401093</th>\n",
              "      <td>2019-10-10 11:19:48+00:00</td>\n",
              "      <td>purchase</td>\n",
              "    </tr>\n",
              "    <tr>\n",
              "      <th>1401094</th>\n",
              "      <td>2019-10-10 11:19:48+00:00</td>\n",
              "      <td>purchase</td>\n",
              "    </tr>\n",
              "    <tr>\n",
              "      <th>1401095</th>\n",
              "      <td>2019-10-10 11:19:48+00:00</td>\n",
              "      <td>purchase</td>\n",
              "    </tr>\n",
              "    <tr>\n",
              "      <th>1401096</th>\n",
              "      <td>2019-10-10 11:19:48+00:00</td>\n",
              "      <td>purchase</td>\n",
              "    </tr>\n",
              "    <tr>\n",
              "      <th>1401097</th>\n",
              "      <td>2019-10-10 11:19:48+00:00</td>\n",
              "      <td>purchase</td>\n",
              "    </tr>\n",
              "    <tr>\n",
              "      <th>1401098</th>\n",
              "      <td>2019-10-10 11:19:48+00:00</td>\n",
              "      <td>purchase</td>\n",
              "    </tr>\n",
              "    <tr>\n",
              "      <th>1432608</th>\n",
              "      <td>2019-10-10 15:31:24+00:00</td>\n",
              "      <td>purchase</td>\n",
              "    </tr>\n",
              "    <tr>\n",
              "      <th>1436121</th>\n",
              "      <td>2019-10-10 16:03:02+00:00</td>\n",
              "      <td>purchase</td>\n",
              "    </tr>\n",
              "    <tr>\n",
              "      <th>1436126</th>\n",
              "      <td>2019-10-10 16:03:02+00:00</td>\n",
              "      <td>purchase</td>\n",
              "    </tr>\n",
              "    <tr>\n",
              "      <th>1546272</th>\n",
              "      <td>2019-10-11 14:07:19+00:00</td>\n",
              "      <td>purchase</td>\n",
              "    </tr>\n",
              "    <tr>\n",
              "      <th>1649472</th>\n",
              "      <td>2019-10-12 13:09:53+00:00</td>\n",
              "      <td>purchase</td>\n",
              "    </tr>\n",
              "    <tr>\n",
              "      <th>1651024</th>\n",
              "      <td>2019-10-12 13:25:05+00:00</td>\n",
              "      <td>purchase</td>\n",
              "    </tr>\n",
              "    <tr>\n",
              "      <th>1651025</th>\n",
              "      <td>2019-10-12 13:25:05+00:00</td>\n",
              "      <td>purchase</td>\n",
              "    </tr>\n",
              "    <tr>\n",
              "      <th>1651026</th>\n",
              "      <td>2019-10-12 13:25:05+00:00</td>\n",
              "      <td>purchase</td>\n",
              "    </tr>\n",
              "    <tr>\n",
              "      <th>1651664</th>\n",
              "      <td>2019-10-12 13:30:33+00:00</td>\n",
              "      <td>purchase</td>\n",
              "    </tr>\n",
              "    <tr>\n",
              "      <th>2017292</th>\n",
              "      <td>2019-10-15 12:00:53+00:00</td>\n",
              "      <td>purchase</td>\n",
              "    </tr>\n",
              "    <tr>\n",
              "      <th>2017293</th>\n",
              "      <td>2019-10-15 12:00:53+00:00</td>\n",
              "      <td>purchase</td>\n",
              "    </tr>\n",
              "    <tr>\n",
              "      <th>2017294</th>\n",
              "      <td>2019-10-15 12:00:53+00:00</td>\n",
              "      <td>purchase</td>\n",
              "    </tr>\n",
              "    <tr>\n",
              "      <th>2017295</th>\n",
              "      <td>2019-10-15 12:00:53+00:00</td>\n",
              "      <td>purchase</td>\n",
              "    </tr>\n",
              "    <tr>\n",
              "      <th>2017296</th>\n",
              "      <td>2019-10-15 12:00:53+00:00</td>\n",
              "      <td>purchase</td>\n",
              "    </tr>\n",
              "    <tr>\n",
              "      <th>2017297</th>\n",
              "      <td>2019-10-15 12:00:53+00:00</td>\n",
              "      <td>purchase</td>\n",
              "    </tr>\n",
              "    <tr>\n",
              "      <th>2017298</th>\n",
              "      <td>2019-10-15 12:00:53+00:00</td>\n",
              "      <td>purchase</td>\n",
              "    </tr>\n",
              "    <tr>\n",
              "      <th>2017299</th>\n",
              "      <td>2019-10-15 12:00:53+00:00</td>\n",
              "      <td>purchase</td>\n",
              "    </tr>\n",
              "    <tr>\n",
              "      <th>2017300</th>\n",
              "      <td>2019-10-15 12:00:53+00:00</td>\n",
              "      <td>purchase</td>\n",
              "    </tr>\n",
              "    <tr>\n",
              "      <th>2017301</th>\n",
              "      <td>2019-10-15 12:00:53+00:00</td>\n",
              "      <td>purchase</td>\n",
              "    </tr>\n",
              "    <tr>\n",
              "      <th>2017302</th>\n",
              "      <td>2019-10-15 12:00:53+00:00</td>\n",
              "      <td>purchase</td>\n",
              "    </tr>\n",
              "    <tr>\n",
              "      <th>2161661</th>\n",
              "      <td>2019-10-16 13:40:50+00:00</td>\n",
              "      <td>purchase</td>\n",
              "    </tr>\n",
              "    <tr>\n",
              "      <th>2161662</th>\n",
              "      <td>2019-10-16 13:40:50+00:00</td>\n",
              "      <td>purchase</td>\n",
              "    </tr>\n",
              "    <tr>\n",
              "      <th>2161663</th>\n",
              "      <td>2019-10-16 13:40:50+00:00</td>\n",
              "      <td>purchase</td>\n",
              "    </tr>\n",
              "    <tr>\n",
              "      <th>2161664</th>\n",
              "      <td>2019-10-16 13:40:50+00:00</td>\n",
              "      <td>purchase</td>\n",
              "    </tr>\n",
              "  </tbody>\n",
              "</table>\n",
              "</div>"
            ],
            "text/plain": [
              "                       event_time event_type\n",
              "538795  2019-10-04 14:23:56+00:00   purchase\n",
              "538797  2019-10-04 14:23:56+00:00   purchase\n",
              "538798  2019-10-04 14:23:56+00:00   purchase\n",
              "538799  2019-10-04 14:23:56+00:00   purchase\n",
              "618523  2019-10-05 11:24:07+00:00   purchase\n",
              "618524  2019-10-05 11:24:07+00:00   purchase\n",
              "643401  2019-10-05 15:50:58+00:00   purchase\n",
              "643402  2019-10-05 15:50:58+00:00   purchase\n",
              "643403  2019-10-05 15:50:58+00:00   purchase\n",
              "652382  2019-10-05 17:20:08+00:00   purchase\n",
              "652383  2019-10-05 17:20:08+00:00   purchase\n",
              "652384  2019-10-05 17:20:08+00:00   purchase\n",
              "652385  2019-10-05 17:20:08+00:00   purchase\n",
              "987567  2019-10-07 13:54:35+00:00   purchase\n",
              "987569  2019-10-07 13:54:35+00:00   purchase\n",
              "987570  2019-10-07 13:54:35+00:00   purchase\n",
              "987571  2019-10-07 13:54:35+00:00   purchase\n",
              "987572  2019-10-07 13:54:35+00:00   purchase\n",
              "987573  2019-10-07 13:54:35+00:00   purchase\n",
              "987574  2019-10-07 13:54:35+00:00   purchase\n",
              "987575  2019-10-07 13:54:35+00:00   purchase\n",
              "987576  2019-10-07 13:54:35+00:00   purchase\n",
              "987577  2019-10-07 13:54:35+00:00   purchase\n",
              "987578  2019-10-07 13:54:35+00:00   purchase\n",
              "987579  2019-10-07 13:54:35+00:00   purchase\n",
              "1135181 2019-10-08 12:32:28+00:00   purchase\n",
              "1135183 2019-10-08 12:32:28+00:00   purchase\n",
              "1135184 2019-10-08 12:32:28+00:00   purchase\n",
              "1302782 2019-10-09 15:55:10+00:00   purchase\n",
              "1401092 2019-10-10 11:19:48+00:00   purchase\n",
              "1401093 2019-10-10 11:19:48+00:00   purchase\n",
              "1401094 2019-10-10 11:19:48+00:00   purchase\n",
              "1401095 2019-10-10 11:19:48+00:00   purchase\n",
              "1401096 2019-10-10 11:19:48+00:00   purchase\n",
              "1401097 2019-10-10 11:19:48+00:00   purchase\n",
              "1401098 2019-10-10 11:19:48+00:00   purchase\n",
              "1432608 2019-10-10 15:31:24+00:00   purchase\n",
              "1436121 2019-10-10 16:03:02+00:00   purchase\n",
              "1436126 2019-10-10 16:03:02+00:00   purchase\n",
              "1546272 2019-10-11 14:07:19+00:00   purchase\n",
              "1649472 2019-10-12 13:09:53+00:00   purchase\n",
              "1651024 2019-10-12 13:25:05+00:00   purchase\n",
              "1651025 2019-10-12 13:25:05+00:00   purchase\n",
              "1651026 2019-10-12 13:25:05+00:00   purchase\n",
              "1651664 2019-10-12 13:30:33+00:00   purchase\n",
              "2017292 2019-10-15 12:00:53+00:00   purchase\n",
              "2017293 2019-10-15 12:00:53+00:00   purchase\n",
              "2017294 2019-10-15 12:00:53+00:00   purchase\n",
              "2017295 2019-10-15 12:00:53+00:00   purchase\n",
              "2017296 2019-10-15 12:00:53+00:00   purchase\n",
              "2017297 2019-10-15 12:00:53+00:00   purchase\n",
              "2017298 2019-10-15 12:00:53+00:00   purchase\n",
              "2017299 2019-10-15 12:00:53+00:00   purchase\n",
              "2017300 2019-10-15 12:00:53+00:00   purchase\n",
              "2017301 2019-10-15 12:00:53+00:00   purchase\n",
              "2017302 2019-10-15 12:00:53+00:00   purchase\n",
              "2161661 2019-10-16 13:40:50+00:00   purchase\n",
              "2161662 2019-10-16 13:40:50+00:00   purchase\n",
              "2161663 2019-10-16 13:40:50+00:00   purchase\n",
              "2161664 2019-10-16 13:40:50+00:00   purchase"
            ]
          },
          "execution_count": 43,
          "metadata": {},
          "output_type": "execute_result"
        }
      ],
      "source": [
        "events_data[(events_data.user_id == 150318419) & (events_data.event_type == 'purchase')][['event_time','event_type']].head(60)"
      ]
    },
    {
      "cell_type": "markdown",
      "metadata": {},
      "source": [
        "пользователь совершает покупки почти каждый день, начиная с 4 окт!"
      ]
    },
    {
      "cell_type": "code",
      "execution_count": 44,
      "metadata": {},
      "outputs": [
        {
          "data": {
            "text/html": [
              "<div>\n",
              "<style scoped>\n",
              "    .dataframe tbody tr th:only-of-type {\n",
              "        vertical-align: middle;\n",
              "    }\n",
              "\n",
              "    .dataframe tbody tr th {\n",
              "        vertical-align: top;\n",
              "    }\n",
              "\n",
              "    .dataframe thead th {\n",
              "        text-align: right;\n",
              "    }\n",
              "</style>\n",
              "<table border=\"1\" class=\"dataframe\">\n",
              "  <thead>\n",
              "    <tr style=\"text-align: right;\">\n",
              "      <th></th>\n",
              "      <th>event_time</th>\n",
              "      <th>event_type</th>\n",
              "    </tr>\n",
              "  </thead>\n",
              "  <tbody>\n",
              "    <tr>\n",
              "      <th>2017297</th>\n",
              "      <td>2019-10-15 12:00:53+00:00</td>\n",
              "      <td>purchase</td>\n",
              "    </tr>\n",
              "    <tr>\n",
              "      <th>2017298</th>\n",
              "      <td>2019-10-15 12:00:53+00:00</td>\n",
              "      <td>purchase</td>\n",
              "    </tr>\n",
              "    <tr>\n",
              "      <th>2017299</th>\n",
              "      <td>2019-10-15 12:00:53+00:00</td>\n",
              "      <td>purchase</td>\n",
              "    </tr>\n",
              "    <tr>\n",
              "      <th>2017300</th>\n",
              "      <td>2019-10-15 12:00:53+00:00</td>\n",
              "      <td>purchase</td>\n",
              "    </tr>\n",
              "    <tr>\n",
              "      <th>2017301</th>\n",
              "      <td>2019-10-15 12:00:53+00:00</td>\n",
              "      <td>purchase</td>\n",
              "    </tr>\n",
              "    <tr>\n",
              "      <th>2017302</th>\n",
              "      <td>2019-10-15 12:00:53+00:00</td>\n",
              "      <td>purchase</td>\n",
              "    </tr>\n",
              "    <tr>\n",
              "      <th>2161661</th>\n",
              "      <td>2019-10-16 13:40:50+00:00</td>\n",
              "      <td>purchase</td>\n",
              "    </tr>\n",
              "    <tr>\n",
              "      <th>2161662</th>\n",
              "      <td>2019-10-16 13:40:50+00:00</td>\n",
              "      <td>purchase</td>\n",
              "    </tr>\n",
              "    <tr>\n",
              "      <th>2161663</th>\n",
              "      <td>2019-10-16 13:40:50+00:00</td>\n",
              "      <td>purchase</td>\n",
              "    </tr>\n",
              "    <tr>\n",
              "      <th>2161664</th>\n",
              "      <td>2019-10-16 13:40:50+00:00</td>\n",
              "      <td>purchase</td>\n",
              "    </tr>\n",
              "    <tr>\n",
              "      <th>2161665</th>\n",
              "      <td>2019-10-16 13:40:50+00:00</td>\n",
              "      <td>purchase</td>\n",
              "    </tr>\n",
              "    <tr>\n",
              "      <th>2177755</th>\n",
              "      <td>2019-10-16 15:50:05+00:00</td>\n",
              "      <td>purchase</td>\n",
              "    </tr>\n",
              "    <tr>\n",
              "      <th>2269586</th>\n",
              "      <td>2019-10-17 09:41:16+00:00</td>\n",
              "      <td>purchase</td>\n",
              "    </tr>\n",
              "    <tr>\n",
              "      <th>2276800</th>\n",
              "      <td>2019-10-17 10:34:57+00:00</td>\n",
              "      <td>purchase</td>\n",
              "    </tr>\n",
              "    <tr>\n",
              "      <th>2276801</th>\n",
              "      <td>2019-10-17 10:34:57+00:00</td>\n",
              "      <td>purchase</td>\n",
              "    </tr>\n",
              "    <tr>\n",
              "      <th>2443238</th>\n",
              "      <td>2019-10-18 16:23:42+00:00</td>\n",
              "      <td>purchase</td>\n",
              "    </tr>\n",
              "    <tr>\n",
              "      <th>2443241</th>\n",
              "      <td>2019-10-18 16:23:42+00:00</td>\n",
              "      <td>purchase</td>\n",
              "    </tr>\n",
              "    <tr>\n",
              "      <th>2449462</th>\n",
              "      <td>2019-10-18 17:28:34+00:00</td>\n",
              "      <td>purchase</td>\n",
              "    </tr>\n",
              "    <tr>\n",
              "      <th>2449467</th>\n",
              "      <td>2019-10-18 17:28:34+00:00</td>\n",
              "      <td>purchase</td>\n",
              "    </tr>\n",
              "    <tr>\n",
              "      <th>2543222</th>\n",
              "      <td>2019-10-19 16:13:55+00:00</td>\n",
              "      <td>purchase</td>\n",
              "    </tr>\n",
              "    <tr>\n",
              "      <th>2549426</th>\n",
              "      <td>2019-10-19 17:22:39+00:00</td>\n",
              "      <td>purchase</td>\n",
              "    </tr>\n",
              "    <tr>\n",
              "      <th>2549428</th>\n",
              "      <td>2019-10-19 17:22:39+00:00</td>\n",
              "      <td>purchase</td>\n",
              "    </tr>\n",
              "    <tr>\n",
              "      <th>2549429</th>\n",
              "      <td>2019-10-19 17:22:39+00:00</td>\n",
              "      <td>purchase</td>\n",
              "    </tr>\n",
              "    <tr>\n",
              "      <th>2549430</th>\n",
              "      <td>2019-10-19 17:22:39+00:00</td>\n",
              "      <td>purchase</td>\n",
              "    </tr>\n",
              "    <tr>\n",
              "      <th>2772938</th>\n",
              "      <td>2019-10-21 14:01:29+00:00</td>\n",
              "      <td>purchase</td>\n",
              "    </tr>\n",
              "    <tr>\n",
              "      <th>2776840</th>\n",
              "      <td>2019-10-21 14:33:06+00:00</td>\n",
              "      <td>purchase</td>\n",
              "    </tr>\n",
              "    <tr>\n",
              "      <th>2776841</th>\n",
              "      <td>2019-10-21 14:33:06+00:00</td>\n",
              "      <td>purchase</td>\n",
              "    </tr>\n",
              "    <tr>\n",
              "      <th>2776842</th>\n",
              "      <td>2019-10-21 14:33:06+00:00</td>\n",
              "      <td>purchase</td>\n",
              "    </tr>\n",
              "    <tr>\n",
              "      <th>2779197</th>\n",
              "      <td>2019-10-21 14:54:41+00:00</td>\n",
              "      <td>purchase</td>\n",
              "    </tr>\n",
              "    <tr>\n",
              "      <th>2790336</th>\n",
              "      <td>2019-10-21 16:24:56+00:00</td>\n",
              "      <td>purchase</td>\n",
              "    </tr>\n",
              "    <tr>\n",
              "      <th>2790338</th>\n",
              "      <td>2019-10-21 16:24:56+00:00</td>\n",
              "      <td>purchase</td>\n",
              "    </tr>\n",
              "    <tr>\n",
              "      <th>3016331</th>\n",
              "      <td>2019-10-23 10:12:19+00:00</td>\n",
              "      <td>purchase</td>\n",
              "    </tr>\n",
              "    <tr>\n",
              "      <th>3169041</th>\n",
              "      <td>2019-10-24 12:34:49+00:00</td>\n",
              "      <td>purchase</td>\n",
              "    </tr>\n",
              "    <tr>\n",
              "      <th>3172256</th>\n",
              "      <td>2019-10-24 12:59:19+00:00</td>\n",
              "      <td>purchase</td>\n",
              "    </tr>\n",
              "    <tr>\n",
              "      <th>3308663</th>\n",
              "      <td>2019-10-25 15:31:58+00:00</td>\n",
              "      <td>purchase</td>\n",
              "    </tr>\n",
              "    <tr>\n",
              "      <th>3487793</th>\n",
              "      <td>2019-10-27 09:27:31+00:00</td>\n",
              "      <td>purchase</td>\n",
              "    </tr>\n",
              "    <tr>\n",
              "      <th>3487796</th>\n",
              "      <td>2019-10-27 09:27:31+00:00</td>\n",
              "      <td>purchase</td>\n",
              "    </tr>\n",
              "    <tr>\n",
              "      <th>3487797</th>\n",
              "      <td>2019-10-27 09:27:31+00:00</td>\n",
              "      <td>purchase</td>\n",
              "    </tr>\n",
              "    <tr>\n",
              "      <th>3514305</th>\n",
              "      <td>2019-10-27 13:07:43+00:00</td>\n",
              "      <td>purchase</td>\n",
              "    </tr>\n",
              "    <tr>\n",
              "      <th>3605048</th>\n",
              "      <td>2019-10-28 07:10:33+00:00</td>\n",
              "      <td>purchase</td>\n",
              "    </tr>\n",
              "    <tr>\n",
              "      <th>3884995</th>\n",
              "      <td>2019-10-30 09:11:27+00:00</td>\n",
              "      <td>purchase</td>\n",
              "    </tr>\n",
              "    <tr>\n",
              "      <th>3884997</th>\n",
              "      <td>2019-10-30 09:11:27+00:00</td>\n",
              "      <td>purchase</td>\n",
              "    </tr>\n",
              "    <tr>\n",
              "      <th>3884998</th>\n",
              "      <td>2019-10-30 09:11:27+00:00</td>\n",
              "      <td>purchase</td>\n",
              "    </tr>\n",
              "    <tr>\n",
              "      <th>3891861</th>\n",
              "      <td>2019-10-30 10:13:12+00:00</td>\n",
              "      <td>purchase</td>\n",
              "    </tr>\n",
              "    <tr>\n",
              "      <th>4008635</th>\n",
              "      <td>2019-10-31 08:48:21+00:00</td>\n",
              "      <td>purchase</td>\n",
              "    </tr>\n",
              "    <tr>\n",
              "      <th>4835429</th>\n",
              "      <td>2019-11-06 15:24:00+00:00</td>\n",
              "      <td>purchase</td>\n",
              "    </tr>\n",
              "    <tr>\n",
              "      <th>4838797</th>\n",
              "      <td>2019-11-06 15:49:57+00:00</td>\n",
              "      <td>purchase</td>\n",
              "    </tr>\n",
              "    <tr>\n",
              "      <th>5295759</th>\n",
              "      <td>2019-11-09 12:12:27+00:00</td>\n",
              "      <td>purchase</td>\n",
              "    </tr>\n",
              "    <tr>\n",
              "      <th>5295760</th>\n",
              "      <td>2019-11-09 12:12:27+00:00</td>\n",
              "      <td>purchase</td>\n",
              "    </tr>\n",
              "    <tr>\n",
              "      <th>5295761</th>\n",
              "      <td>2019-11-09 12:12:27+00:00</td>\n",
              "      <td>purchase</td>\n",
              "    </tr>\n",
              "  </tbody>\n",
              "</table>\n",
              "</div>"
            ],
            "text/plain": [
              "                       event_time event_type\n",
              "2017297 2019-10-15 12:00:53+00:00   purchase\n",
              "2017298 2019-10-15 12:00:53+00:00   purchase\n",
              "2017299 2019-10-15 12:00:53+00:00   purchase\n",
              "2017300 2019-10-15 12:00:53+00:00   purchase\n",
              "2017301 2019-10-15 12:00:53+00:00   purchase\n",
              "2017302 2019-10-15 12:00:53+00:00   purchase\n",
              "2161661 2019-10-16 13:40:50+00:00   purchase\n",
              "2161662 2019-10-16 13:40:50+00:00   purchase\n",
              "2161663 2019-10-16 13:40:50+00:00   purchase\n",
              "2161664 2019-10-16 13:40:50+00:00   purchase\n",
              "2161665 2019-10-16 13:40:50+00:00   purchase\n",
              "2177755 2019-10-16 15:50:05+00:00   purchase\n",
              "2269586 2019-10-17 09:41:16+00:00   purchase\n",
              "2276800 2019-10-17 10:34:57+00:00   purchase\n",
              "2276801 2019-10-17 10:34:57+00:00   purchase\n",
              "2443238 2019-10-18 16:23:42+00:00   purchase\n",
              "2443241 2019-10-18 16:23:42+00:00   purchase\n",
              "2449462 2019-10-18 17:28:34+00:00   purchase\n",
              "2449467 2019-10-18 17:28:34+00:00   purchase\n",
              "2543222 2019-10-19 16:13:55+00:00   purchase\n",
              "2549426 2019-10-19 17:22:39+00:00   purchase\n",
              "2549428 2019-10-19 17:22:39+00:00   purchase\n",
              "2549429 2019-10-19 17:22:39+00:00   purchase\n",
              "2549430 2019-10-19 17:22:39+00:00   purchase\n",
              "2772938 2019-10-21 14:01:29+00:00   purchase\n",
              "2776840 2019-10-21 14:33:06+00:00   purchase\n",
              "2776841 2019-10-21 14:33:06+00:00   purchase\n",
              "2776842 2019-10-21 14:33:06+00:00   purchase\n",
              "2779197 2019-10-21 14:54:41+00:00   purchase\n",
              "2790336 2019-10-21 16:24:56+00:00   purchase\n",
              "2790338 2019-10-21 16:24:56+00:00   purchase\n",
              "3016331 2019-10-23 10:12:19+00:00   purchase\n",
              "3169041 2019-10-24 12:34:49+00:00   purchase\n",
              "3172256 2019-10-24 12:59:19+00:00   purchase\n",
              "3308663 2019-10-25 15:31:58+00:00   purchase\n",
              "3487793 2019-10-27 09:27:31+00:00   purchase\n",
              "3487796 2019-10-27 09:27:31+00:00   purchase\n",
              "3487797 2019-10-27 09:27:31+00:00   purchase\n",
              "3514305 2019-10-27 13:07:43+00:00   purchase\n",
              "3605048 2019-10-28 07:10:33+00:00   purchase\n",
              "3884995 2019-10-30 09:11:27+00:00   purchase\n",
              "3884997 2019-10-30 09:11:27+00:00   purchase\n",
              "3884998 2019-10-30 09:11:27+00:00   purchase\n",
              "3891861 2019-10-30 10:13:12+00:00   purchase\n",
              "4008635 2019-10-31 08:48:21+00:00   purchase\n",
              "4835429 2019-11-06 15:24:00+00:00   purchase\n",
              "4838797 2019-11-06 15:49:57+00:00   purchase\n",
              "5295759 2019-11-09 12:12:27+00:00   purchase\n",
              "5295760 2019-11-09 12:12:27+00:00   purchase\n",
              "5295761 2019-11-09 12:12:27+00:00   purchase"
            ]
          },
          "execution_count": 44,
          "metadata": {},
          "output_type": "execute_result"
        }
      ],
      "source": [
        "events_data[(events_data.user_id == 150318419) & (events_data.event_type == 'purchase')][['event_time','event_type']][50:100]"
      ]
    },
    {
      "cell_type": "markdown",
      "metadata": {},
      "source": [
        "В конце октября недельный перерыв от покупок (возможно закончились деньги). После первой недели ноября снова покупки."
      ]
    },
    {
      "cell_type": "markdown",
      "metadata": {
        "id": "wvY9zVJoX79W"
      },
      "source": [
        "## Задание 4. Воронка продаж\n",
        "(~ 0.7 баллов)"
      ]
    },
    {
      "cell_type": "markdown",
      "metadata": {
        "id": "zhnpDl4V-eXy"
      },
      "source": [
        "Воронка продаж - это визуальное представление пути от первого контакта потенциального покупателя  с каналом продаж до совершения покупки. Это помогает отделу продаж понять, где им нужно отслеживать или изменять процесс продаж из-за падения в воронке продаж."
      ]
    },
    {
      "cell_type": "markdown",
      "metadata": {
        "id": "LbRIIbNvMzOD"
      },
      "source": [
        " В первую очередь необходимо создать новую колонку, которая будет кодировать дату и время события в название месяца. Назовите новый признак - `month`\n",
        "\n",
        " Пример: `2019-10-01 00:00:00+0000` --> `October`\n",
        "\n",
        "Подсказка: воспользуйтесь методами объектов типа `pd.Timestamp`"
      ]
    },
    {
      "cell_type": "code",
      "execution_count": 45,
      "metadata": {
        "id": "TnNKseegNiv_"
      },
      "outputs": [
        {
          "data": {
            "text/html": [
              "<div>\n",
              "<style scoped>\n",
              "    .dataframe tbody tr th:only-of-type {\n",
              "        vertical-align: middle;\n",
              "    }\n",
              "\n",
              "    .dataframe tbody tr th {\n",
              "        vertical-align: top;\n",
              "    }\n",
              "\n",
              "    .dataframe thead th {\n",
              "        text-align: right;\n",
              "    }\n",
              "</style>\n",
              "<table border=\"1\" class=\"dataframe\">\n",
              "  <thead>\n",
              "    <tr style=\"text-align: right;\">\n",
              "      <th></th>\n",
              "      <th>event_time</th>\n",
              "      <th>event_type</th>\n",
              "      <th>product_id</th>\n",
              "      <th>category_id</th>\n",
              "      <th>category_code</th>\n",
              "      <th>brand</th>\n",
              "      <th>price</th>\n",
              "      <th>user_id</th>\n",
              "      <th>user_session</th>\n",
              "      <th>month</th>\n",
              "    </tr>\n",
              "  </thead>\n",
              "  <tbody>\n",
              "    <tr>\n",
              "      <th>0</th>\n",
              "      <td>2019-10-01 00:00:00+00:00</td>\n",
              "      <td>cart</td>\n",
              "      <td>5773203</td>\n",
              "      <td>1487580005134238553</td>\n",
              "      <td>NaN</td>\n",
              "      <td>runail</td>\n",
              "      <td>2.62</td>\n",
              "      <td>463240011</td>\n",
              "      <td>26dd6e6e-4dac-4778-8d2c-92e149dab885</td>\n",
              "      <td>October</td>\n",
              "    </tr>\n",
              "    <tr>\n",
              "      <th>1</th>\n",
              "      <td>2019-10-01 00:00:03+00:00</td>\n",
              "      <td>cart</td>\n",
              "      <td>5773353</td>\n",
              "      <td>1487580005134238553</td>\n",
              "      <td>NaN</td>\n",
              "      <td>runail</td>\n",
              "      <td>2.62</td>\n",
              "      <td>463240011</td>\n",
              "      <td>26dd6e6e-4dac-4778-8d2c-92e149dab885</td>\n",
              "      <td>October</td>\n",
              "    </tr>\n",
              "    <tr>\n",
              "      <th>2</th>\n",
              "      <td>2019-10-01 00:00:07+00:00</td>\n",
              "      <td>cart</td>\n",
              "      <td>5881589</td>\n",
              "      <td>2151191071051219817</td>\n",
              "      <td>NaN</td>\n",
              "      <td>lovely</td>\n",
              "      <td>13.48</td>\n",
              "      <td>429681830</td>\n",
              "      <td>49e8d843-adf3-428b-a2c3-fe8bc6a307c9</td>\n",
              "      <td>October</td>\n",
              "    </tr>\n",
              "    <tr>\n",
              "      <th>3</th>\n",
              "      <td>2019-10-01 00:00:07+00:00</td>\n",
              "      <td>cart</td>\n",
              "      <td>5723490</td>\n",
              "      <td>1487580005134238553</td>\n",
              "      <td>NaN</td>\n",
              "      <td>runail</td>\n",
              "      <td>2.62</td>\n",
              "      <td>463240011</td>\n",
              "      <td>26dd6e6e-4dac-4778-8d2c-92e149dab885</td>\n",
              "      <td>October</td>\n",
              "    </tr>\n",
              "    <tr>\n",
              "      <th>4</th>\n",
              "      <td>2019-10-01 00:00:15+00:00</td>\n",
              "      <td>cart</td>\n",
              "      <td>5881449</td>\n",
              "      <td>1487580013522845895</td>\n",
              "      <td>NaN</td>\n",
              "      <td>lovely</td>\n",
              "      <td>0.56</td>\n",
              "      <td>429681830</td>\n",
              "      <td>49e8d843-adf3-428b-a2c3-fe8bc6a307c9</td>\n",
              "      <td>October</td>\n",
              "    </tr>\n",
              "  </tbody>\n",
              "</table>\n",
              "</div>"
            ],
            "text/plain": [
              "                 event_time event_type  product_id          category_id  \\\n",
              "0 2019-10-01 00:00:00+00:00       cart     5773203  1487580005134238553   \n",
              "1 2019-10-01 00:00:03+00:00       cart     5773353  1487580005134238553   \n",
              "2 2019-10-01 00:00:07+00:00       cart     5881589  2151191071051219817   \n",
              "3 2019-10-01 00:00:07+00:00       cart     5723490  1487580005134238553   \n",
              "4 2019-10-01 00:00:15+00:00       cart     5881449  1487580013522845895   \n",
              "\n",
              "  category_code   brand  price    user_id  \\\n",
              "0           NaN  runail   2.62  463240011   \n",
              "1           NaN  runail   2.62  463240011   \n",
              "2           NaN  lovely  13.48  429681830   \n",
              "3           NaN  runail   2.62  463240011   \n",
              "4           NaN  lovely   0.56  429681830   \n",
              "\n",
              "                           user_session    month  \n",
              "0  26dd6e6e-4dac-4778-8d2c-92e149dab885  October  \n",
              "1  26dd6e6e-4dac-4778-8d2c-92e149dab885  October  \n",
              "2  49e8d843-adf3-428b-a2c3-fe8bc6a307c9  October  \n",
              "3  26dd6e6e-4dac-4778-8d2c-92e149dab885  October  \n",
              "4  49e8d843-adf3-428b-a2c3-fe8bc6a307c9  October  "
            ]
          },
          "execution_count": 45,
          "metadata": {},
          "output_type": "execute_result"
        }
      ],
      "source": [
        "events_data['month'] = events_data.event_time.apply(lambda x: pd.Timestamp(x).month_name())\n",
        "events_data.head(5)"
      ]
    },
    {
      "cell_type": "markdown",
      "metadata": {
        "id": "5rfSQYn_kWW1"
      },
      "source": [
        "Напишите функцию `count_events_session`, которая на вход принимает датасет (`events_data`). Функция должна возвращать словарь, где ключами выступает название месяца, а значениями список со следующими значениями:\n",
        "\n",
        "Количество уникальных сессий (в определенный месяц), в которых были события\n",
        "1. просмотра товара\n",
        "2. добавления в корзину\n",
        "3. покупки"
      ]
    },
    {
      "cell_type": "code",
      "execution_count": 46,
      "metadata": {
        "id": "qQa0eua9_i1K"
      },
      "outputs": [],
      "source": [
        "def count_events_session(df):\n",
        "    v_c_p_all_months = []\n",
        "    for m in df['month'].unique():\n",
        "        v_c_p_monthly = [df[(df.event_type == 'view') & (df['month'] == m)].user_session.nunique(),\n",
        "                             df[(df.event_type == 'cart') & (df['month'] == m)].user_session.nunique(),\n",
        "                             df[(df.event_type == 'purchase') & (df['month'] == m)].user_session.nunique()]\n",
        "        v_c_p_all_months.append(v_c_p_monthly)\n",
        "    session_dict = dict(zip(df['month'].unique(), v_c_p_all_months))\n",
        "    return session_dict"
      ]
    },
    {
      "cell_type": "markdown",
      "metadata": {
        "id": "SEtwHbbRf3Rq"
      },
      "source": [
        "Посмотройте воронку продаж в разрезе каждого месяца."
      ]
    },
    {
      "cell_type": "code",
      "execution_count": 47,
      "metadata": {
        "id": "NQrnVhR5Cg2o"
      },
      "outputs": [
        {
          "data": {
            "application/vnd.plotly.v1+json": {
              "config": {
                "plotlyServerURL": "https://plot.ly"
              },
              "data": [
                {
                  "name": "October",
                  "textinfo": "value+percent previous",
                  "textposition": "inside",
                  "type": "funnel",
                  "x": [
                    826147,
                    228145,
                    29326
                  ],
                  "y": [
                    "view",
                    "cart",
                    "purchase"
                  ]
                },
                {
                  "name": "November",
                  "textinfo": "value+percent previous",
                  "textposition": "inside",
                  "type": "funnel",
                  "x": [
                    883543,
                    212862,
                    36568
                  ],
                  "y": [
                    "view",
                    "cart",
                    "purchase"
                  ]
                },
                {
                  "name": "December",
                  "textinfo": "value+percent previous",
                  "textposition": "inside",
                  "type": "funnel",
                  "x": [
                    794416,
                    165295,
                    28894
                  ],
                  "y": [
                    "view",
                    "cart",
                    "purchase"
                  ]
                },
                {
                  "name": "January",
                  "textinfo": "value+percent previous",
                  "textposition": "inside",
                  "type": "funnel",
                  "x": [
                    912885,
                    196304,
                    32385
                  ],
                  "y": [
                    "view",
                    "cart",
                    "purchase"
                  ]
                },
                {
                  "name": "February",
                  "textinfo": "value+percent previous",
                  "textposition": "inside",
                  "type": "funnel",
                  "x": [
                    875307,
                    189879,
                    29401
                  ],
                  "y": [
                    "view",
                    "cart",
                    "purchase"
                  ]
                }
              ],
              "layout": {
                "template": {
                  "data": {
                    "bar": [
                      {
                        "error_x": {
                          "color": "#2a3f5f"
                        },
                        "error_y": {
                          "color": "#2a3f5f"
                        },
                        "marker": {
                          "line": {
                            "color": "#E5ECF6",
                            "width": 0.5
                          },
                          "pattern": {
                            "fillmode": "overlay",
                            "size": 10,
                            "solidity": 0.2
                          }
                        },
                        "type": "bar"
                      }
                    ],
                    "barpolar": [
                      {
                        "marker": {
                          "line": {
                            "color": "#E5ECF6",
                            "width": 0.5
                          },
                          "pattern": {
                            "fillmode": "overlay",
                            "size": 10,
                            "solidity": 0.2
                          }
                        },
                        "type": "barpolar"
                      }
                    ],
                    "carpet": [
                      {
                        "aaxis": {
                          "endlinecolor": "#2a3f5f",
                          "gridcolor": "white",
                          "linecolor": "white",
                          "minorgridcolor": "white",
                          "startlinecolor": "#2a3f5f"
                        },
                        "baxis": {
                          "endlinecolor": "#2a3f5f",
                          "gridcolor": "white",
                          "linecolor": "white",
                          "minorgridcolor": "white",
                          "startlinecolor": "#2a3f5f"
                        },
                        "type": "carpet"
                      }
                    ],
                    "choropleth": [
                      {
                        "colorbar": {
                          "outlinewidth": 0,
                          "ticks": ""
                        },
                        "type": "choropleth"
                      }
                    ],
                    "contour": [
                      {
                        "colorbar": {
                          "outlinewidth": 0,
                          "ticks": ""
                        },
                        "colorscale": [
                          [
                            0,
                            "#0d0887"
                          ],
                          [
                            0.1111111111111111,
                            "#46039f"
                          ],
                          [
                            0.2222222222222222,
                            "#7201a8"
                          ],
                          [
                            0.3333333333333333,
                            "#9c179e"
                          ],
                          [
                            0.4444444444444444,
                            "#bd3786"
                          ],
                          [
                            0.5555555555555556,
                            "#d8576b"
                          ],
                          [
                            0.6666666666666666,
                            "#ed7953"
                          ],
                          [
                            0.7777777777777778,
                            "#fb9f3a"
                          ],
                          [
                            0.8888888888888888,
                            "#fdca26"
                          ],
                          [
                            1,
                            "#f0f921"
                          ]
                        ],
                        "type": "contour"
                      }
                    ],
                    "contourcarpet": [
                      {
                        "colorbar": {
                          "outlinewidth": 0,
                          "ticks": ""
                        },
                        "type": "contourcarpet"
                      }
                    ],
                    "heatmap": [
                      {
                        "colorbar": {
                          "outlinewidth": 0,
                          "ticks": ""
                        },
                        "colorscale": [
                          [
                            0,
                            "#0d0887"
                          ],
                          [
                            0.1111111111111111,
                            "#46039f"
                          ],
                          [
                            0.2222222222222222,
                            "#7201a8"
                          ],
                          [
                            0.3333333333333333,
                            "#9c179e"
                          ],
                          [
                            0.4444444444444444,
                            "#bd3786"
                          ],
                          [
                            0.5555555555555556,
                            "#d8576b"
                          ],
                          [
                            0.6666666666666666,
                            "#ed7953"
                          ],
                          [
                            0.7777777777777778,
                            "#fb9f3a"
                          ],
                          [
                            0.8888888888888888,
                            "#fdca26"
                          ],
                          [
                            1,
                            "#f0f921"
                          ]
                        ],
                        "type": "heatmap"
                      }
                    ],
                    "heatmapgl": [
                      {
                        "colorbar": {
                          "outlinewidth": 0,
                          "ticks": ""
                        },
                        "colorscale": [
                          [
                            0,
                            "#0d0887"
                          ],
                          [
                            0.1111111111111111,
                            "#46039f"
                          ],
                          [
                            0.2222222222222222,
                            "#7201a8"
                          ],
                          [
                            0.3333333333333333,
                            "#9c179e"
                          ],
                          [
                            0.4444444444444444,
                            "#bd3786"
                          ],
                          [
                            0.5555555555555556,
                            "#d8576b"
                          ],
                          [
                            0.6666666666666666,
                            "#ed7953"
                          ],
                          [
                            0.7777777777777778,
                            "#fb9f3a"
                          ],
                          [
                            0.8888888888888888,
                            "#fdca26"
                          ],
                          [
                            1,
                            "#f0f921"
                          ]
                        ],
                        "type": "heatmapgl"
                      }
                    ],
                    "histogram": [
                      {
                        "marker": {
                          "pattern": {
                            "fillmode": "overlay",
                            "size": 10,
                            "solidity": 0.2
                          }
                        },
                        "type": "histogram"
                      }
                    ],
                    "histogram2d": [
                      {
                        "colorbar": {
                          "outlinewidth": 0,
                          "ticks": ""
                        },
                        "colorscale": [
                          [
                            0,
                            "#0d0887"
                          ],
                          [
                            0.1111111111111111,
                            "#46039f"
                          ],
                          [
                            0.2222222222222222,
                            "#7201a8"
                          ],
                          [
                            0.3333333333333333,
                            "#9c179e"
                          ],
                          [
                            0.4444444444444444,
                            "#bd3786"
                          ],
                          [
                            0.5555555555555556,
                            "#d8576b"
                          ],
                          [
                            0.6666666666666666,
                            "#ed7953"
                          ],
                          [
                            0.7777777777777778,
                            "#fb9f3a"
                          ],
                          [
                            0.8888888888888888,
                            "#fdca26"
                          ],
                          [
                            1,
                            "#f0f921"
                          ]
                        ],
                        "type": "histogram2d"
                      }
                    ],
                    "histogram2dcontour": [
                      {
                        "colorbar": {
                          "outlinewidth": 0,
                          "ticks": ""
                        },
                        "colorscale": [
                          [
                            0,
                            "#0d0887"
                          ],
                          [
                            0.1111111111111111,
                            "#46039f"
                          ],
                          [
                            0.2222222222222222,
                            "#7201a8"
                          ],
                          [
                            0.3333333333333333,
                            "#9c179e"
                          ],
                          [
                            0.4444444444444444,
                            "#bd3786"
                          ],
                          [
                            0.5555555555555556,
                            "#d8576b"
                          ],
                          [
                            0.6666666666666666,
                            "#ed7953"
                          ],
                          [
                            0.7777777777777778,
                            "#fb9f3a"
                          ],
                          [
                            0.8888888888888888,
                            "#fdca26"
                          ],
                          [
                            1,
                            "#f0f921"
                          ]
                        ],
                        "type": "histogram2dcontour"
                      }
                    ],
                    "mesh3d": [
                      {
                        "colorbar": {
                          "outlinewidth": 0,
                          "ticks": ""
                        },
                        "type": "mesh3d"
                      }
                    ],
                    "parcoords": [
                      {
                        "line": {
                          "colorbar": {
                            "outlinewidth": 0,
                            "ticks": ""
                          }
                        },
                        "type": "parcoords"
                      }
                    ],
                    "pie": [
                      {
                        "automargin": true,
                        "type": "pie"
                      }
                    ],
                    "scatter": [
                      {
                        "fillpattern": {
                          "fillmode": "overlay",
                          "size": 10,
                          "solidity": 0.2
                        },
                        "type": "scatter"
                      }
                    ],
                    "scatter3d": [
                      {
                        "line": {
                          "colorbar": {
                            "outlinewidth": 0,
                            "ticks": ""
                          }
                        },
                        "marker": {
                          "colorbar": {
                            "outlinewidth": 0,
                            "ticks": ""
                          }
                        },
                        "type": "scatter3d"
                      }
                    ],
                    "scattercarpet": [
                      {
                        "marker": {
                          "colorbar": {
                            "outlinewidth": 0,
                            "ticks": ""
                          }
                        },
                        "type": "scattercarpet"
                      }
                    ],
                    "scattergeo": [
                      {
                        "marker": {
                          "colorbar": {
                            "outlinewidth": 0,
                            "ticks": ""
                          }
                        },
                        "type": "scattergeo"
                      }
                    ],
                    "scattergl": [
                      {
                        "marker": {
                          "colorbar": {
                            "outlinewidth": 0,
                            "ticks": ""
                          }
                        },
                        "type": "scattergl"
                      }
                    ],
                    "scattermapbox": [
                      {
                        "marker": {
                          "colorbar": {
                            "outlinewidth": 0,
                            "ticks": ""
                          }
                        },
                        "type": "scattermapbox"
                      }
                    ],
                    "scatterpolar": [
                      {
                        "marker": {
                          "colorbar": {
                            "outlinewidth": 0,
                            "ticks": ""
                          }
                        },
                        "type": "scatterpolar"
                      }
                    ],
                    "scatterpolargl": [
                      {
                        "marker": {
                          "colorbar": {
                            "outlinewidth": 0,
                            "ticks": ""
                          }
                        },
                        "type": "scatterpolargl"
                      }
                    ],
                    "scatterternary": [
                      {
                        "marker": {
                          "colorbar": {
                            "outlinewidth": 0,
                            "ticks": ""
                          }
                        },
                        "type": "scatterternary"
                      }
                    ],
                    "surface": [
                      {
                        "colorbar": {
                          "outlinewidth": 0,
                          "ticks": ""
                        },
                        "colorscale": [
                          [
                            0,
                            "#0d0887"
                          ],
                          [
                            0.1111111111111111,
                            "#46039f"
                          ],
                          [
                            0.2222222222222222,
                            "#7201a8"
                          ],
                          [
                            0.3333333333333333,
                            "#9c179e"
                          ],
                          [
                            0.4444444444444444,
                            "#bd3786"
                          ],
                          [
                            0.5555555555555556,
                            "#d8576b"
                          ],
                          [
                            0.6666666666666666,
                            "#ed7953"
                          ],
                          [
                            0.7777777777777778,
                            "#fb9f3a"
                          ],
                          [
                            0.8888888888888888,
                            "#fdca26"
                          ],
                          [
                            1,
                            "#f0f921"
                          ]
                        ],
                        "type": "surface"
                      }
                    ],
                    "table": [
                      {
                        "cells": {
                          "fill": {
                            "color": "#EBF0F8"
                          },
                          "line": {
                            "color": "white"
                          }
                        },
                        "header": {
                          "fill": {
                            "color": "#C8D4E3"
                          },
                          "line": {
                            "color": "white"
                          }
                        },
                        "type": "table"
                      }
                    ]
                  },
                  "layout": {
                    "annotationdefaults": {
                      "arrowcolor": "#2a3f5f",
                      "arrowhead": 0,
                      "arrowwidth": 1
                    },
                    "autotypenumbers": "strict",
                    "coloraxis": {
                      "colorbar": {
                        "outlinewidth": 0,
                        "ticks": ""
                      }
                    },
                    "colorscale": {
                      "diverging": [
                        [
                          0,
                          "#8e0152"
                        ],
                        [
                          0.1,
                          "#c51b7d"
                        ],
                        [
                          0.2,
                          "#de77ae"
                        ],
                        [
                          0.3,
                          "#f1b6da"
                        ],
                        [
                          0.4,
                          "#fde0ef"
                        ],
                        [
                          0.5,
                          "#f7f7f7"
                        ],
                        [
                          0.6,
                          "#e6f5d0"
                        ],
                        [
                          0.7,
                          "#b8e186"
                        ],
                        [
                          0.8,
                          "#7fbc41"
                        ],
                        [
                          0.9,
                          "#4d9221"
                        ],
                        [
                          1,
                          "#276419"
                        ]
                      ],
                      "sequential": [
                        [
                          0,
                          "#0d0887"
                        ],
                        [
                          0.1111111111111111,
                          "#46039f"
                        ],
                        [
                          0.2222222222222222,
                          "#7201a8"
                        ],
                        [
                          0.3333333333333333,
                          "#9c179e"
                        ],
                        [
                          0.4444444444444444,
                          "#bd3786"
                        ],
                        [
                          0.5555555555555556,
                          "#d8576b"
                        ],
                        [
                          0.6666666666666666,
                          "#ed7953"
                        ],
                        [
                          0.7777777777777778,
                          "#fb9f3a"
                        ],
                        [
                          0.8888888888888888,
                          "#fdca26"
                        ],
                        [
                          1,
                          "#f0f921"
                        ]
                      ],
                      "sequentialminus": [
                        [
                          0,
                          "#0d0887"
                        ],
                        [
                          0.1111111111111111,
                          "#46039f"
                        ],
                        [
                          0.2222222222222222,
                          "#7201a8"
                        ],
                        [
                          0.3333333333333333,
                          "#9c179e"
                        ],
                        [
                          0.4444444444444444,
                          "#bd3786"
                        ],
                        [
                          0.5555555555555556,
                          "#d8576b"
                        ],
                        [
                          0.6666666666666666,
                          "#ed7953"
                        ],
                        [
                          0.7777777777777778,
                          "#fb9f3a"
                        ],
                        [
                          0.8888888888888888,
                          "#fdca26"
                        ],
                        [
                          1,
                          "#f0f921"
                        ]
                      ]
                    },
                    "colorway": [
                      "#636efa",
                      "#EF553B",
                      "#00cc96",
                      "#ab63fa",
                      "#FFA15A",
                      "#19d3f3",
                      "#FF6692",
                      "#B6E880",
                      "#FF97FF",
                      "#FECB52"
                    ],
                    "font": {
                      "color": "#2a3f5f"
                    },
                    "geo": {
                      "bgcolor": "white",
                      "lakecolor": "white",
                      "landcolor": "#E5ECF6",
                      "showlakes": true,
                      "showland": true,
                      "subunitcolor": "white"
                    },
                    "hoverlabel": {
                      "align": "left"
                    },
                    "hovermode": "closest",
                    "mapbox": {
                      "style": "light"
                    },
                    "paper_bgcolor": "white",
                    "plot_bgcolor": "#E5ECF6",
                    "polar": {
                      "angularaxis": {
                        "gridcolor": "white",
                        "linecolor": "white",
                        "ticks": ""
                      },
                      "bgcolor": "#E5ECF6",
                      "radialaxis": {
                        "gridcolor": "white",
                        "linecolor": "white",
                        "ticks": ""
                      }
                    },
                    "scene": {
                      "xaxis": {
                        "backgroundcolor": "#E5ECF6",
                        "gridcolor": "white",
                        "gridwidth": 2,
                        "linecolor": "white",
                        "showbackground": true,
                        "ticks": "",
                        "zerolinecolor": "white"
                      },
                      "yaxis": {
                        "backgroundcolor": "#E5ECF6",
                        "gridcolor": "white",
                        "gridwidth": 2,
                        "linecolor": "white",
                        "showbackground": true,
                        "ticks": "",
                        "zerolinecolor": "white"
                      },
                      "zaxis": {
                        "backgroundcolor": "#E5ECF6",
                        "gridcolor": "white",
                        "gridwidth": 2,
                        "linecolor": "white",
                        "showbackground": true,
                        "ticks": "",
                        "zerolinecolor": "white"
                      }
                    },
                    "shapedefaults": {
                      "line": {
                        "color": "#2a3f5f"
                      }
                    },
                    "ternary": {
                      "aaxis": {
                        "gridcolor": "white",
                        "linecolor": "white",
                        "ticks": ""
                      },
                      "baxis": {
                        "gridcolor": "white",
                        "linecolor": "white",
                        "ticks": ""
                      },
                      "bgcolor": "#E5ECF6",
                      "caxis": {
                        "gridcolor": "white",
                        "linecolor": "white",
                        "ticks": ""
                      }
                    },
                    "title": {
                      "x": 0.05
                    },
                    "xaxis": {
                      "automargin": true,
                      "gridcolor": "white",
                      "linecolor": "white",
                      "ticks": "",
                      "title": {
                        "standoff": 15
                      },
                      "zerolinecolor": "white",
                      "zerolinewidth": 2
                    },
                    "yaxis": {
                      "automargin": true,
                      "gridcolor": "white",
                      "linecolor": "white",
                      "ticks": "",
                      "title": {
                        "standoff": 15
                      },
                      "zerolinecolor": "white",
                      "zerolinewidth": 2
                    }
                  }
                }
              }
            }
          },
          "metadata": {},
          "output_type": "display_data"
        }
      ],
      "source": [
        "from plotly import graph_objects as go\n",
        "\n",
        "fig = go.Figure()\n",
        "\n",
        "funnel_dict = count_events_session(events_data)\n",
        "for key, value in funnel_dict.items():\n",
        "\n",
        "    fig.add_trace(go.Funnel(\n",
        "        name = key,\n",
        "        x=value,\n",
        "        y=[\"view\", \"cart\", \"purchase\"],\n",
        "        textposition=\"inside\",\n",
        "        textinfo=\"value+percent previous\"\n",
        "        ))\n",
        "\n",
        "fig.show()"
      ]
    },
    {
      "cell_type": "markdown",
      "metadata": {
        "id": "eeSQ6UxVj2DF"
      },
      "source": [
        "Конверсия продаж - это процент сессий с покупками относительно сессий с просмотрами. Данный показатель для большинства месяцев колеблется примерно на одном уровне, но один из месяцев выделяется довольно сильно.\n",
        "Как бы вы смогли обьяснить такую аномалию?"
      ]
    },
    {
      "cell_type": "markdown",
      "metadata": {
        "id": "lzYS0LnjlL9n"
      },
      "source": [
        "Ответ: конверсия больше всего в ноябре (4.1%), возможно это связано с тем, что люди заранее закупаются к праздникам."
      ]
    },
    {
      "cell_type": "markdown",
      "metadata": {
        "id": "DAKQEqrVdnys"
      },
      "source": [
        "Посчитайте конверсию продаж - процент сессий дошедшних до покупки относительно:\n",
        "- уникальных сессий, в которых были просмотры товара\n",
        "- всех уникальных сессий\n",
        "\n",
        "Сохраните полученные значения в переменные `purchase_conversion_at_view` и `purchase_conversion_at_all` соответственно"
      ]
    },
    {
      "cell_type": "code",
      "execution_count": 52,
      "metadata": {},
      "outputs": [],
      "source": [
        "set_purchase = set(events_data[events_data.event_type == 'purchase'].user_session)\n",
        "set_view = set(events_data[events_data.event_type == 'view'].user_session)"
      ]
    },
    {
      "cell_type": "code",
      "execution_count": 56,
      "metadata": {
        "id": "A6YiEGZs2Mz4"
      },
      "outputs": [],
      "source": [
        "purchase_conversion_at_view = 100 * len(set_view & set_purchase) / events_data[events_data.event_type == 'view'].user_session.nunique()\n",
        "purchase_conversion_at_all = 100 * events_data[events_data.event_type == 'purchase'].user_session.nunique() / events_data.user_session.nunique()"
      ]
    },
    {
      "cell_type": "code",
      "execution_count": 58,
      "metadata": {
        "id": "n7iYMDpo43B8"
      },
      "outputs": [],
      "source": [
        "assert 2.71 < purchase_conversion_at_view < 2.72, 'Неправильное значение конверсии относительно сессий, в которых были просмотры товара'\n",
        "assert 3.43 < purchase_conversion_at_all < 3.44, 'Неправильное значение конверсии относительно всех уникальных сессий'"
      ]
    },
    {
      "cell_type": "markdown",
      "metadata": {
        "id": "Gi-Wy0ozZrjg"
      },
      "source": [
        "Как можно заметить конверсия продаж относительно просмотров товара и конверсия продаж относительно всех уникальных сессий отличается.\n",
        "\n",
        "Попробуйте объяснить причину данного явления."
      ]
    },
    {
      "cell_type": "markdown",
      "metadata": {
        "id": "AGADidbfboTz"
      },
      "source": [
        "Ответ:"
      ]
    },
    {
      "cell_type": "markdown",
      "metadata": {
        "id": "ARAjb0awcOot"
      },
      "source": [
        "## Задание 5. Google-таблицы.\n",
        "\n",
        "1 балл"
      ]
    },
    {
      "cell_type": "markdown",
      "metadata": {
        "id": "vefDn3sKcWbb"
      },
      "source": [
        "В этом задании вы научитесь загружать и выгружать данные в/из `Google Sheets`.\n",
        "\n",
        "Необходимо:\n",
        "- уменьшить изначальный датасет до первых 50000 строк (это нужно потому что в гугл-таблицах есть ограничение на количество ячеек)\n",
        "- записать столбцы `product_id` и `price` в таблицу 1\n",
        "- записать столбцы `event_type` и `user_session` в таблицу 2\n",
        "- в таблице 1 создать новый столбец price_with_discount, созданный на основе столбца price за вычетом скидки 10% стоимости товара\n",
        "- в таблице 2 обновить значения колонок со строками от 50000 до 100000\n",
        "- выгрузить таблицы и сохранить в `pandas dataframe`\n",
        "\n",
        "Важно:\n",
        "Не записывайте креды доступа в код, это небезопасно. Используйте `os.getenv` или другой аналог, чтобы считывать их из переменных окружения. Если используете `Google Colab`, можете считывать их с диска.\n",
        "\n",
        "Инструкция по получению кредов https://developers.google.com/workspace/guides/create-credentials\n",
        "\n",
        "Презентация: https://docs.google.com/presentation/d/1KDSzmU-GREeXEQXau2DSE33NUZGgLQXV8jBemTtfSPo"
      ]
    },
    {
      "cell_type": "code",
      "execution_count": 59,
      "metadata": {},
      "outputs": [
        {
          "name": "stdout",
          "output_type": "stream",
          "text": [
            "Collecting gspread\n",
            "  Downloading gspread-6.1.3-py3-none-any.whl.metadata (11 kB)\n",
            "Collecting google-auth>=1.12.0 (from gspread)\n",
            "  Downloading google_auth-2.35.0-py2.py3-none-any.whl.metadata (4.7 kB)\n",
            "Collecting google-auth-oauthlib>=0.4.1 (from gspread)\n",
            "  Downloading google_auth_oauthlib-1.2.1-py2.py3-none-any.whl.metadata (2.7 kB)\n",
            "Collecting cachetools<6.0,>=2.0.0 (from google-auth>=1.12.0->gspread)\n",
            "  Downloading cachetools-5.5.0-py3-none-any.whl.metadata (5.3 kB)\n",
            "Collecting pyasn1-modules>=0.2.1 (from google-auth>=1.12.0->gspread)\n",
            "  Downloading pyasn1_modules-0.4.1-py3-none-any.whl.metadata (3.5 kB)\n",
            "Collecting rsa<5,>=3.1.4 (from google-auth>=1.12.0->gspread)\n",
            "  Downloading rsa-4.9-py3-none-any.whl.metadata (4.2 kB)\n",
            "Collecting requests-oauthlib>=0.7.0 (from google-auth-oauthlib>=0.4.1->gspread)\n",
            "  Downloading requests_oauthlib-2.0.0-py2.py3-none-any.whl.metadata (11 kB)\n",
            "Collecting pyasn1<0.7.0,>=0.4.6 (from pyasn1-modules>=0.2.1->google-auth>=1.12.0->gspread)\n",
            "  Downloading pyasn1-0.6.1-py3-none-any.whl.metadata (8.4 kB)\n",
            "Collecting oauthlib>=3.0.0 (from requests-oauthlib>=0.7.0->google-auth-oauthlib>=0.4.1->gspread)\n",
            "  Downloading oauthlib-3.2.2-py3-none-any.whl.metadata (7.5 kB)\n",
            "Collecting requests>=2.0.0 (from requests-oauthlib>=0.7.0->google-auth-oauthlib>=0.4.1->gspread)\n",
            "  Using cached requests-2.32.3-py3-none-any.whl.metadata (4.6 kB)\n",
            "Collecting charset-normalizer<4,>=2 (from requests>=2.0.0->requests-oauthlib>=0.7.0->google-auth-oauthlib>=0.4.1->gspread)\n",
            "  Downloading charset_normalizer-3.3.2-cp310-cp310-win_amd64.whl.metadata (34 kB)\n",
            "Collecting idna<4,>=2.5 (from requests>=2.0.0->requests-oauthlib>=0.7.0->google-auth-oauthlib>=0.4.1->gspread)\n",
            "  Using cached idna-3.10-py3-none-any.whl.metadata (10 kB)\n",
            "Collecting urllib3<3,>=1.21.1 (from requests>=2.0.0->requests-oauthlib>=0.7.0->google-auth-oauthlib>=0.4.1->gspread)\n",
            "  Using cached urllib3-2.2.3-py3-none-any.whl.metadata (6.5 kB)\n",
            "Collecting certifi>=2017.4.17 (from requests>=2.0.0->requests-oauthlib>=0.7.0->google-auth-oauthlib>=0.4.1->gspread)\n",
            "  Using cached certifi-2024.8.30-py3-none-any.whl.metadata (2.2 kB)\n",
            "Downloading gspread-6.1.3-py3-none-any.whl (57 kB)\n",
            "Downloading google_auth-2.35.0-py2.py3-none-any.whl (208 kB)\n",
            "Downloading google_auth_oauthlib-1.2.1-py2.py3-none-any.whl (24 kB)\n",
            "Downloading cachetools-5.5.0-py3-none-any.whl (9.5 kB)\n",
            "Downloading pyasn1_modules-0.4.1-py3-none-any.whl (181 kB)\n",
            "Downloading requests_oauthlib-2.0.0-py2.py3-none-any.whl (24 kB)\n",
            "Downloading rsa-4.9-py3-none-any.whl (34 kB)\n",
            "Downloading oauthlib-3.2.2-py3-none-any.whl (151 kB)\n",
            "Downloading pyasn1-0.6.1-py3-none-any.whl (83 kB)\n",
            "Using cached requests-2.32.3-py3-none-any.whl (64 kB)\n",
            "Using cached certifi-2024.8.30-py3-none-any.whl (167 kB)\n",
            "Downloading charset_normalizer-3.3.2-cp310-cp310-win_amd64.whl (100 kB)\n",
            "Using cached idna-3.10-py3-none-any.whl (70 kB)\n",
            "Using cached urllib3-2.2.3-py3-none-any.whl (126 kB)\n",
            "Installing collected packages: urllib3, pyasn1, oauthlib, idna, charset-normalizer, certifi, cachetools, rsa, requests, pyasn1-modules, requests-oauthlib, google-auth, google-auth-oauthlib, gspread\n",
            "Successfully installed cachetools-5.5.0 certifi-2024.8.30 charset-normalizer-3.3.2 google-auth-2.35.0 google-auth-oauthlib-1.2.1 gspread-6.1.3 idna-3.10 oauthlib-3.2.2 pyasn1-0.6.1 pyasn1-modules-0.4.1 requests-2.32.3 requests-oauthlib-2.0.0 rsa-4.9 urllib3-2.2.3\n",
            "Note: you may need to restart the kernel to use updated packages.\n",
            "Collecting pydrive\n",
            "  Downloading PyDrive-1.3.1.tar.gz (987 kB)\n",
            "     ---------------------------------------- 0.0/987.4 kB ? eta -:--:--\n",
            "     ------------------------------------- 987.4/987.4 kB 11.7 MB/s eta 0:00:00\n",
            "  Installing build dependencies: started\n",
            "  Installing build dependencies: finished with status 'done'\n",
            "  Getting requirements to build wheel: started\n",
            "  Getting requirements to build wheel: finished with status 'done'\n",
            "  Preparing metadata (pyproject.toml): started\n",
            "  Preparing metadata (pyproject.toml): finished with status 'done'\n",
            "Collecting google-api-python-client>=1.2 (from pydrive)\n",
            "  Downloading google_api_python_client-2.147.0-py2.py3-none-any.whl.metadata (6.7 kB)\n",
            "Collecting oauth2client>=4.0.0 (from pydrive)\n",
            "  Downloading oauth2client-4.1.3-py2.py3-none-any.whl.metadata (1.2 kB)\n",
            "Collecting PyYAML>=3.0 (from pydrive)\n",
            "  Downloading PyYAML-6.0.2-cp310-cp310-win_amd64.whl.metadata (2.1 kB)\n",
            "Collecting httplib2<1.dev0,>=0.19.0 (from google-api-python-client>=1.2->pydrive)\n",
            "  Downloading httplib2-0.22.0-py3-none-any.whl.metadata (2.6 kB)\n",
            "Requirement already satisfied: google-auth!=2.24.0,!=2.25.0,<3.0.0.dev0,>=1.32.0 in c:\\users\\karlo\\onedrive\\desktop\\python_for_da_дз\\.venv\\lib\\site-packages (from google-api-python-client>=1.2->pydrive) (2.35.0)\n",
            "Collecting google-auth-httplib2<1.0.0,>=0.2.0 (from google-api-python-client>=1.2->pydrive)\n",
            "  Downloading google_auth_httplib2-0.2.0-py2.py3-none-any.whl.metadata (2.2 kB)\n",
            "Collecting google-api-core!=2.0.*,!=2.1.*,!=2.2.*,!=2.3.0,<3.0.0.dev0,>=1.31.5 (from google-api-python-client>=1.2->pydrive)\n",
            "  Downloading google_api_core-2.20.0-py3-none-any.whl.metadata (2.7 kB)\n",
            "Collecting uritemplate<5,>=3.0.1 (from google-api-python-client>=1.2->pydrive)\n",
            "  Downloading uritemplate-4.1.1-py2.py3-none-any.whl.metadata (2.9 kB)\n",
            "Requirement already satisfied: pyasn1>=0.1.7 in c:\\users\\karlo\\onedrive\\desktop\\python_for_da_дз\\.venv\\lib\\site-packages (from oauth2client>=4.0.0->pydrive) (0.6.1)\n",
            "Requirement already satisfied: pyasn1-modules>=0.0.5 in c:\\users\\karlo\\onedrive\\desktop\\python_for_da_дз\\.venv\\lib\\site-packages (from oauth2client>=4.0.0->pydrive) (0.4.1)\n",
            "Requirement already satisfied: rsa>=3.1.4 in c:\\users\\karlo\\onedrive\\desktop\\python_for_da_дз\\.venv\\lib\\site-packages (from oauth2client>=4.0.0->pydrive) (4.9)\n",
            "Requirement already satisfied: six>=1.6.1 in c:\\users\\karlo\\onedrive\\desktop\\python_for_da_дз\\.venv\\lib\\site-packages (from oauth2client>=4.0.0->pydrive) (1.16.0)\n",
            "Collecting googleapis-common-protos<2.0.dev0,>=1.56.2 (from google-api-core!=2.0.*,!=2.1.*,!=2.2.*,!=2.3.0,<3.0.0.dev0,>=1.31.5->google-api-python-client>=1.2->pydrive)\n",
            "  Downloading googleapis_common_protos-1.65.0-py2.py3-none-any.whl.metadata (1.5 kB)\n",
            "Collecting protobuf!=3.20.0,!=3.20.1,!=4.21.0,!=4.21.1,!=4.21.2,!=4.21.3,!=4.21.4,!=4.21.5,<6.0.0.dev0,>=3.19.5 (from google-api-core!=2.0.*,!=2.1.*,!=2.2.*,!=2.3.0,<3.0.0.dev0,>=1.31.5->google-api-python-client>=1.2->pydrive)\n",
            "  Downloading protobuf-5.28.2-cp310-abi3-win_amd64.whl.metadata (592 bytes)\n",
            "Collecting proto-plus<2.0.0dev,>=1.22.3 (from google-api-core!=2.0.*,!=2.1.*,!=2.2.*,!=2.3.0,<3.0.0.dev0,>=1.31.5->google-api-python-client>=1.2->pydrive)\n",
            "  Downloading proto_plus-1.24.0-py3-none-any.whl.metadata (2.2 kB)\n",
            "Requirement already satisfied: requests<3.0.0.dev0,>=2.18.0 in c:\\users\\karlo\\onedrive\\desktop\\python_for_da_дз\\.venv\\lib\\site-packages (from google-api-core!=2.0.*,!=2.1.*,!=2.2.*,!=2.3.0,<3.0.0.dev0,>=1.31.5->google-api-python-client>=1.2->pydrive) (2.32.3)\n",
            "Requirement already satisfied: cachetools<6.0,>=2.0.0 in c:\\users\\karlo\\onedrive\\desktop\\python_for_da_дз\\.venv\\lib\\site-packages (from google-auth!=2.24.0,!=2.25.0,<3.0.0.dev0,>=1.32.0->google-api-python-client>=1.2->pydrive) (5.5.0)\n",
            "Requirement already satisfied: pyparsing!=3.0.0,!=3.0.1,!=3.0.2,!=3.0.3,<4,>=2.4.2 in c:\\users\\karlo\\onedrive\\desktop\\python_for_da_дз\\.venv\\lib\\site-packages (from httplib2<1.dev0,>=0.19.0->google-api-python-client>=1.2->pydrive) (3.1.4)\n",
            "Requirement already satisfied: charset-normalizer<4,>=2 in c:\\users\\karlo\\onedrive\\desktop\\python_for_da_дз\\.venv\\lib\\site-packages (from requests<3.0.0.dev0,>=2.18.0->google-api-core!=2.0.*,!=2.1.*,!=2.2.*,!=2.3.0,<3.0.0.dev0,>=1.31.5->google-api-python-client>=1.2->pydrive) (3.3.2)\n",
            "Requirement already satisfied: idna<4,>=2.5 in c:\\users\\karlo\\onedrive\\desktop\\python_for_da_дз\\.venv\\lib\\site-packages (from requests<3.0.0.dev0,>=2.18.0->google-api-core!=2.0.*,!=2.1.*,!=2.2.*,!=2.3.0,<3.0.0.dev0,>=1.31.5->google-api-python-client>=1.2->pydrive) (3.10)\n",
            "Requirement already satisfied: urllib3<3,>=1.21.1 in c:\\users\\karlo\\onedrive\\desktop\\python_for_da_дз\\.venv\\lib\\site-packages (from requests<3.0.0.dev0,>=2.18.0->google-api-core!=2.0.*,!=2.1.*,!=2.2.*,!=2.3.0,<3.0.0.dev0,>=1.31.5->google-api-python-client>=1.2->pydrive) (2.2.3)\n",
            "Requirement already satisfied: certifi>=2017.4.17 in c:\\users\\karlo\\onedrive\\desktop\\python_for_da_дз\\.venv\\lib\\site-packages (from requests<3.0.0.dev0,>=2.18.0->google-api-core!=2.0.*,!=2.1.*,!=2.2.*,!=2.3.0,<3.0.0.dev0,>=1.31.5->google-api-python-client>=1.2->pydrive) (2024.8.30)\n",
            "Downloading google_api_python_client-2.147.0-py2.py3-none-any.whl (12.2 MB)\n",
            "   ---------------------------------------- 0.0/12.2 MB ? eta -:--:--\n",
            "   ----- ---------------------------------- 1.6/12.2 MB 7.6 MB/s eta 0:00:02\n",
            "   -------- ------------------------------- 2.6/12.2 MB 6.0 MB/s eta 0:00:02\n",
            "   ----------- ---------------------------- 3.7/12.2 MB 5.6 MB/s eta 0:00:02\n",
            "   -------------- ------------------------- 4.5/12.2 MB 5.4 MB/s eta 0:00:02\n",
            "   ----------------- ---------------------- 5.2/12.2 MB 5.1 MB/s eta 0:00:02\n",
            "   -------------------- ------------------- 6.3/12.2 MB 4.8 MB/s eta 0:00:02\n",
            "   ----------------------- ---------------- 7.3/12.2 MB 4.8 MB/s eta 0:00:02\n",
            "   --------------------------- ------------ 8.4/12.2 MB 4.9 MB/s eta 0:00:01\n",
            "   ------------------------------- -------- 9.7/12.2 MB 5.0 MB/s eta 0:00:01\n",
            "   ----------------------------------- ---- 10.7/12.2 MB 5.0 MB/s eta 0:00:01\n",
            "   ------------------------------------- -- 11.5/12.2 MB 4.9 MB/s eta 0:00:01\n",
            "   ---------------------------------------- 12.2/12.2 MB 4.8 MB/s eta 0:00:00\n",
            "Downloading oauth2client-4.1.3-py2.py3-none-any.whl (98 kB)\n",
            "Downloading PyYAML-6.0.2-cp310-cp310-win_amd64.whl (161 kB)\n",
            "Downloading google_api_core-2.20.0-py3-none-any.whl (142 kB)\n",
            "Downloading google_auth_httplib2-0.2.0-py2.py3-none-any.whl (9.3 kB)\n",
            "Downloading httplib2-0.22.0-py3-none-any.whl (96 kB)\n",
            "Downloading uritemplate-4.1.1-py2.py3-none-any.whl (10 kB)\n",
            "Downloading googleapis_common_protos-1.65.0-py2.py3-none-any.whl (220 kB)\n",
            "Downloading proto_plus-1.24.0-py3-none-any.whl (50 kB)\n",
            "Downloading protobuf-5.28.2-cp310-abi3-win_amd64.whl (431 kB)\n",
            "Building wheels for collected packages: pydrive\n",
            "  Building wheel for pydrive (pyproject.toml): started\n",
            "  Building wheel for pydrive (pyproject.toml): finished with status 'done'\n",
            "  Created wheel for pydrive: filename=PyDrive-1.3.1-py3-none-any.whl size=27463 sha256=3ade50015d3357ed96073c9efb0380a4ae8d5827750fde782b43844f94f3daf2\n",
            "  Stored in directory: c:\\users\\karlo\\appdata\\local\\pip\\cache\\wheels\\63\\79\\df\\924c22c080c9dac1a57f611baa837fe0bc3daec1500b27f23b\n",
            "Successfully built pydrive\n",
            "Installing collected packages: uritemplate, PyYAML, protobuf, httplib2, proto-plus, oauth2client, googleapis-common-protos, google-auth-httplib2, google-api-core, google-api-python-client, pydrive\n",
            "Successfully installed PyYAML-6.0.2 google-api-core-2.20.0 google-api-python-client-2.147.0 google-auth-httplib2-0.2.0 googleapis-common-protos-1.65.0 httplib2-0.22.0 oauth2client-4.1.3 proto-plus-1.24.0 protobuf-5.28.2 pydrive-1.3.1 uritemplate-4.1.1\n",
            "Note: you may need to restart the kernel to use updated packages.\n"
          ]
        }
      ],
      "source": [
        "%pip install gspread\n",
        "%pip install pydrive"
      ]
    },
    {
      "cell_type": "code",
      "execution_count": 70,
      "metadata": {},
      "outputs": [],
      "source": [
        "from oauth2client.service_account import ServiceAccountCredentials\n",
        "import gspread\n",
        "import json\n",
        "\n",
        "scopes = [\n",
        "'https://www.googleapis.com/auth/spreadsheets',\n",
        "'https://www.googleapis.com/auth/drive'\n",
        "]\n",
        "\n",
        "credentials = ServiceAccountCredentials.from_json_keyfile_name(\"client_secrets.json\", scopes)\n",
        "#access the json key you downloaded earlier\n",
        "file = gspread.authorize(credentials)\n",
        "# authenticate the JSON key with gspread"
      ]
    },
    {
      "cell_type": "code",
      "execution_count": 82,
      "metadata": {},
      "outputs": [],
      "source": [
        "\n",
        "spr1 = file.open_by_url('https://docs.google.com/spreadsheets/d/1CWiQes6jWfTG1yiPl8uQdKFBnW5ycxrtMVAAIsmqfPw/edit?gid=0#gid=0')\n",
        "spr2 = file.open_by_url('https://docs.google.com/spreadsheets/d/1CWiQes6jWfTG1yiPl8uQdKFBnW5ycxrtMVAAIsmqfPw/edit?gid=1029455203#gid=1029455203')"
      ]
    },
    {
      "cell_type": "code",
      "execution_count": 83,
      "metadata": {},
      "outputs": [],
      "source": [
        "wks1 = spr1.worksheet('Sheet1') \n",
        "wks2 = spr2.worksheet('Sheet2') "
      ]
    },
    {
      "cell_type": "code",
      "execution_count": 78,
      "metadata": {},
      "outputs": [],
      "source": [
        "df1 = events_data[['product_id', 'price']][:50000]\n",
        "df2 = events_data[['event_type', 'user_session']][:50000]"
      ]
    },
    {
      "cell_type": "code",
      "execution_count": 86,
      "metadata": {},
      "outputs": [
        {
          "data": {
            "text/plain": [
              "{'spreadsheetId': '1CWiQes6jWfTG1yiPl8uQdKFBnW5ycxrtMVAAIsmqfPw',\n",
              " 'updatedRange': 'Sheet2!A1:B50001',\n",
              " 'updatedRows': 50001,\n",
              " 'updatedColumns': 2,\n",
              " 'updatedCells': 100002}"
            ]
          },
          "execution_count": 86,
          "metadata": {},
          "output_type": "execute_result"
        }
      ],
      "source": [
        "wks1.update([df1.columns.values.tolist()] + df1.values.tolist())\n",
        "wks2.update([df2.columns.values.tolist()] + df2.values.tolist())"
      ]
    },
    {
      "cell_type": "code",
      "execution_count": 87,
      "metadata": {},
      "outputs": [],
      "source": [
        "df1['price_with_discount'] = df1.price.apply(lambda x: x*0.9)"
      ]
    },
    {
      "cell_type": "code",
      "execution_count": 88,
      "metadata": {},
      "outputs": [
        {
          "data": {
            "text/html": [
              "<div>\n",
              "<style scoped>\n",
              "    .dataframe tbody tr th:only-of-type {\n",
              "        vertical-align: middle;\n",
              "    }\n",
              "\n",
              "    .dataframe tbody tr th {\n",
              "        vertical-align: top;\n",
              "    }\n",
              "\n",
              "    .dataframe thead th {\n",
              "        text-align: right;\n",
              "    }\n",
              "</style>\n",
              "<table border=\"1\" class=\"dataframe\">\n",
              "  <thead>\n",
              "    <tr style=\"text-align: right;\">\n",
              "      <th></th>\n",
              "      <th>product_id</th>\n",
              "      <th>price</th>\n",
              "      <th>price_with_discount</th>\n",
              "    </tr>\n",
              "  </thead>\n",
              "  <tbody>\n",
              "    <tr>\n",
              "      <th>0</th>\n",
              "      <td>5773203</td>\n",
              "      <td>2.62</td>\n",
              "      <td>2.358</td>\n",
              "    </tr>\n",
              "    <tr>\n",
              "      <th>1</th>\n",
              "      <td>5773353</td>\n",
              "      <td>2.62</td>\n",
              "      <td>2.358</td>\n",
              "    </tr>\n",
              "    <tr>\n",
              "      <th>2</th>\n",
              "      <td>5881589</td>\n",
              "      <td>13.48</td>\n",
              "      <td>12.132</td>\n",
              "    </tr>\n",
              "    <tr>\n",
              "      <th>3</th>\n",
              "      <td>5723490</td>\n",
              "      <td>2.62</td>\n",
              "      <td>2.358</td>\n",
              "    </tr>\n",
              "    <tr>\n",
              "      <th>4</th>\n",
              "      <td>5881449</td>\n",
              "      <td>0.56</td>\n",
              "      <td>0.504</td>\n",
              "    </tr>\n",
              "    <tr>\n",
              "      <th>...</th>\n",
              "      <td>...</td>\n",
              "      <td>...</td>\n",
              "      <td>...</td>\n",
              "    </tr>\n",
              "    <tr>\n",
              "      <th>49995</th>\n",
              "      <td>5891927</td>\n",
              "      <td>0.00</td>\n",
              "      <td>0.000</td>\n",
              "    </tr>\n",
              "    <tr>\n",
              "      <th>49996</th>\n",
              "      <td>5651973</td>\n",
              "      <td>13.49</td>\n",
              "      <td>12.141</td>\n",
              "    </tr>\n",
              "    <tr>\n",
              "      <th>49997</th>\n",
              "      <td>5677015</td>\n",
              "      <td>4.29</td>\n",
              "      <td>3.861</td>\n",
              "    </tr>\n",
              "    <tr>\n",
              "      <th>49998</th>\n",
              "      <td>5887000</td>\n",
              "      <td>2.06</td>\n",
              "      <td>1.854</td>\n",
              "    </tr>\n",
              "    <tr>\n",
              "      <th>49999</th>\n",
              "      <td>5772302</td>\n",
              "      <td>4.76</td>\n",
              "      <td>4.284</td>\n",
              "    </tr>\n",
              "  </tbody>\n",
              "</table>\n",
              "<p>50000 rows × 3 columns</p>\n",
              "</div>"
            ],
            "text/plain": [
              "       product_id  price  price_with_discount\n",
              "0         5773203   2.62                2.358\n",
              "1         5773353   2.62                2.358\n",
              "2         5881589  13.48               12.132\n",
              "3         5723490   2.62                2.358\n",
              "4         5881449   0.56                0.504\n",
              "...           ...    ...                  ...\n",
              "49995     5891927   0.00                0.000\n",
              "49996     5651973  13.49               12.141\n",
              "49997     5677015   4.29                3.861\n",
              "49998     5887000   2.06                1.854\n",
              "49999     5772302   4.76                4.284\n",
              "\n",
              "[50000 rows x 3 columns]"
            ]
          },
          "execution_count": 88,
          "metadata": {},
          "output_type": "execute_result"
        }
      ],
      "source": [
        "df1"
      ]
    },
    {
      "cell_type": "code",
      "execution_count": 100,
      "metadata": {},
      "outputs": [],
      "source": [
        "df11 = df1.drop(columns=['product_id', 'price'])"
      ]
    },
    {
      "cell_type": "code",
      "execution_count": 102,
      "metadata": {},
      "outputs": [
        {
          "name": "stderr",
          "output_type": "stream",
          "text": [
            "C:\\Users\\karlo\\AppData\\Local\\Temp\\ipykernel_10492\\831145764.py:1: DeprecationWarning:\n",
            "\n",
            "The order of arguments in worksheet.update() has changed. Please pass values first and range_name secondor used named arguments (range_name=, values=)\n",
            "\n"
          ]
        },
        {
          "data": {
            "text/plain": [
              "{'spreadsheetId': '1CWiQes6jWfTG1yiPl8uQdKFBnW5ycxrtMVAAIsmqfPw',\n",
              " 'updatedRange': 'Sheet1!C1:C50001',\n",
              " 'updatedRows': 50001,\n",
              " 'updatedColumns': 1,\n",
              " 'updatedCells': 50001}"
            ]
          },
          "execution_count": 102,
          "metadata": {},
          "output_type": "execute_result"
        }
      ],
      "source": [
        "wks1.update(\"C1:C50001\", [df11.columns.values.tolist()] + df11.values.tolist())"
      ]
    },
    {
      "cell_type": "code",
      "execution_count": 105,
      "metadata": {},
      "outputs": [
        {
          "data": {
            "text/plain": [
              "{'spreadsheetId': '1CWiQes6jWfTG1yiPl8uQdKFBnW5ycxrtMVAAIsmqfPw',\n",
              " 'updatedRange': 'Sheet2!A1:B50001',\n",
              " 'updatedRows': 50001,\n",
              " 'updatedColumns': 2,\n",
              " 'updatedCells': 100002}"
            ]
          },
          "execution_count": 105,
          "metadata": {},
          "output_type": "execute_result"
        }
      ],
      "source": [
        "df22 = events_data[['event_type', 'user_session']][50000:100000]\n",
        "wks2.update([df22.columns.values.tolist()] + df22.values.tolist())"
      ]
    },
    {
      "cell_type": "code",
      "execution_count": 106,
      "metadata": {},
      "outputs": [
        {
          "data": {
            "text/html": [
              "<div>\n",
              "<style scoped>\n",
              "    .dataframe tbody tr th:only-of-type {\n",
              "        vertical-align: middle;\n",
              "    }\n",
              "\n",
              "    .dataframe tbody tr th {\n",
              "        vertical-align: top;\n",
              "    }\n",
              "\n",
              "    .dataframe thead th {\n",
              "        text-align: right;\n",
              "    }\n",
              "</style>\n",
              "<table border=\"1\" class=\"dataframe\">\n",
              "  <thead>\n",
              "    <tr style=\"text-align: right;\">\n",
              "      <th></th>\n",
              "      <th>event_type</th>\n",
              "      <th>user_session</th>\n",
              "    </tr>\n",
              "  </thead>\n",
              "  <tbody>\n",
              "    <tr>\n",
              "      <th>0</th>\n",
              "      <td>cart</td>\n",
              "      <td>26dd6e6e-4dac-4778-8d2c-92e149dab885</td>\n",
              "    </tr>\n",
              "    <tr>\n",
              "      <th>1</th>\n",
              "      <td>cart</td>\n",
              "      <td>26dd6e6e-4dac-4778-8d2c-92e149dab885</td>\n",
              "    </tr>\n",
              "    <tr>\n",
              "      <th>2</th>\n",
              "      <td>cart</td>\n",
              "      <td>49e8d843-adf3-428b-a2c3-fe8bc6a307c9</td>\n",
              "    </tr>\n",
              "    <tr>\n",
              "      <th>3</th>\n",
              "      <td>cart</td>\n",
              "      <td>26dd6e6e-4dac-4778-8d2c-92e149dab885</td>\n",
              "    </tr>\n",
              "    <tr>\n",
              "      <th>4</th>\n",
              "      <td>cart</td>\n",
              "      <td>49e8d843-adf3-428b-a2c3-fe8bc6a307c9</td>\n",
              "    </tr>\n",
              "    <tr>\n",
              "      <th>...</th>\n",
              "      <td>...</td>\n",
              "      <td>...</td>\n",
              "    </tr>\n",
              "    <tr>\n",
              "      <th>49995</th>\n",
              "      <td>cart</td>\n",
              "      <td>4bcb3d40-1751-4059-91c4-b421cd9ca011</td>\n",
              "    </tr>\n",
              "    <tr>\n",
              "      <th>49996</th>\n",
              "      <td>view</td>\n",
              "      <td>02ca4103-4b9e-4dc9-a173-b9d4d2ea4b06</td>\n",
              "    </tr>\n",
              "    <tr>\n",
              "      <th>49997</th>\n",
              "      <td>view</td>\n",
              "      <td>25e6a859-8a89-4459-bd30-1818bec44d6a</td>\n",
              "    </tr>\n",
              "    <tr>\n",
              "      <th>49998</th>\n",
              "      <td>cart</td>\n",
              "      <td>199a6aef-6735-44e2-81fa-09474cdda433</td>\n",
              "    </tr>\n",
              "    <tr>\n",
              "      <th>49999</th>\n",
              "      <td>view</td>\n",
              "      <td>bb2857bc-ff1e-4638-958e-647335db92ad</td>\n",
              "    </tr>\n",
              "  </tbody>\n",
              "</table>\n",
              "<p>50000 rows × 2 columns</p>\n",
              "</div>"
            ],
            "text/plain": [
              "      event_type                          user_session\n",
              "0           cart  26dd6e6e-4dac-4778-8d2c-92e149dab885\n",
              "1           cart  26dd6e6e-4dac-4778-8d2c-92e149dab885\n",
              "2           cart  49e8d843-adf3-428b-a2c3-fe8bc6a307c9\n",
              "3           cart  26dd6e6e-4dac-4778-8d2c-92e149dab885\n",
              "4           cart  49e8d843-adf3-428b-a2c3-fe8bc6a307c9\n",
              "...          ...                                   ...\n",
              "49995       cart  4bcb3d40-1751-4059-91c4-b421cd9ca011\n",
              "49996       view  02ca4103-4b9e-4dc9-a173-b9d4d2ea4b06\n",
              "49997       view  25e6a859-8a89-4459-bd30-1818bec44d6a\n",
              "49998       cart  199a6aef-6735-44e2-81fa-09474cdda433\n",
              "49999       view  bb2857bc-ff1e-4638-958e-647335db92ad\n",
              "\n",
              "[50000 rows x 2 columns]"
            ]
          },
          "execution_count": 106,
          "metadata": {},
          "output_type": "execute_result"
        }
      ],
      "source": [
        "df2"
      ]
    },
    {
      "cell_type": "code",
      "execution_count": 107,
      "metadata": {},
      "outputs": [
        {
          "data": {
            "text/html": [
              "<div>\n",
              "<style scoped>\n",
              "    .dataframe tbody tr th:only-of-type {\n",
              "        vertical-align: middle;\n",
              "    }\n",
              "\n",
              "    .dataframe tbody tr th {\n",
              "        vertical-align: top;\n",
              "    }\n",
              "\n",
              "    .dataframe thead th {\n",
              "        text-align: right;\n",
              "    }\n",
              "</style>\n",
              "<table border=\"1\" class=\"dataframe\">\n",
              "  <thead>\n",
              "    <tr style=\"text-align: right;\">\n",
              "      <th></th>\n",
              "      <th>product_id</th>\n",
              "      <th>price</th>\n",
              "      <th>price_with_discount</th>\n",
              "    </tr>\n",
              "  </thead>\n",
              "  <tbody>\n",
              "    <tr>\n",
              "      <th>0</th>\n",
              "      <td>5773203</td>\n",
              "      <td>2.62</td>\n",
              "      <td>2.358</td>\n",
              "    </tr>\n",
              "    <tr>\n",
              "      <th>1</th>\n",
              "      <td>5773353</td>\n",
              "      <td>2.62</td>\n",
              "      <td>2.358</td>\n",
              "    </tr>\n",
              "    <tr>\n",
              "      <th>2</th>\n",
              "      <td>5881589</td>\n",
              "      <td>13.48</td>\n",
              "      <td>12.132</td>\n",
              "    </tr>\n",
              "    <tr>\n",
              "      <th>3</th>\n",
              "      <td>5723490</td>\n",
              "      <td>2.62</td>\n",
              "      <td>2.358</td>\n",
              "    </tr>\n",
              "    <tr>\n",
              "      <th>4</th>\n",
              "      <td>5881449</td>\n",
              "      <td>0.56</td>\n",
              "      <td>0.504</td>\n",
              "    </tr>\n",
              "    <tr>\n",
              "      <th>...</th>\n",
              "      <td>...</td>\n",
              "      <td>...</td>\n",
              "      <td>...</td>\n",
              "    </tr>\n",
              "    <tr>\n",
              "      <th>49995</th>\n",
              "      <td>5891927</td>\n",
              "      <td>0.00</td>\n",
              "      <td>0.000</td>\n",
              "    </tr>\n",
              "    <tr>\n",
              "      <th>49996</th>\n",
              "      <td>5651973</td>\n",
              "      <td>13.49</td>\n",
              "      <td>12.141</td>\n",
              "    </tr>\n",
              "    <tr>\n",
              "      <th>49997</th>\n",
              "      <td>5677015</td>\n",
              "      <td>4.29</td>\n",
              "      <td>3.861</td>\n",
              "    </tr>\n",
              "    <tr>\n",
              "      <th>49998</th>\n",
              "      <td>5887000</td>\n",
              "      <td>2.06</td>\n",
              "      <td>1.854</td>\n",
              "    </tr>\n",
              "    <tr>\n",
              "      <th>49999</th>\n",
              "      <td>5772302</td>\n",
              "      <td>4.76</td>\n",
              "      <td>4.284</td>\n",
              "    </tr>\n",
              "  </tbody>\n",
              "</table>\n",
              "<p>50000 rows × 3 columns</p>\n",
              "</div>"
            ],
            "text/plain": [
              "       product_id  price  price_with_discount\n",
              "0         5773203   2.62                2.358\n",
              "1         5773353   2.62                2.358\n",
              "2         5881589  13.48               12.132\n",
              "3         5723490   2.62                2.358\n",
              "4         5881449   0.56                0.504\n",
              "...           ...    ...                  ...\n",
              "49995     5891927   0.00                0.000\n",
              "49996     5651973  13.49               12.141\n",
              "49997     5677015   4.29                3.861\n",
              "49998     5887000   2.06                1.854\n",
              "49999     5772302   4.76                4.284\n",
              "\n",
              "[50000 rows x 3 columns]"
            ]
          },
          "execution_count": 107,
          "metadata": {},
          "output_type": "execute_result"
        }
      ],
      "source": [
        "loaded_df1 = pd.DataFrame(wks1.get_all_records())\n",
        "loaded_df1"
      ]
    },
    {
      "cell_type": "code",
      "execution_count": 108,
      "metadata": {},
      "outputs": [
        {
          "data": {
            "text/html": [
              "<div>\n",
              "<style scoped>\n",
              "    .dataframe tbody tr th:only-of-type {\n",
              "        vertical-align: middle;\n",
              "    }\n",
              "\n",
              "    .dataframe tbody tr th {\n",
              "        vertical-align: top;\n",
              "    }\n",
              "\n",
              "    .dataframe thead th {\n",
              "        text-align: right;\n",
              "    }\n",
              "</style>\n",
              "<table border=\"1\" class=\"dataframe\">\n",
              "  <thead>\n",
              "    <tr style=\"text-align: right;\">\n",
              "      <th></th>\n",
              "      <th>event_type</th>\n",
              "      <th>user_session</th>\n",
              "    </tr>\n",
              "  </thead>\n",
              "  <tbody>\n",
              "    <tr>\n",
              "      <th>0</th>\n",
              "      <td>view</td>\n",
              "      <td>2facb977-3e04-43cc-97cd-8dab7ca6fc66</td>\n",
              "    </tr>\n",
              "    <tr>\n",
              "      <th>1</th>\n",
              "      <td>view</td>\n",
              "      <td>4602efdb-6505-40ef-a0b7-989fd61be34c</td>\n",
              "    </tr>\n",
              "    <tr>\n",
              "      <th>2</th>\n",
              "      <td>cart</td>\n",
              "      <td>2877e64b-6d57-4c57-82fd-6f7be113aed7</td>\n",
              "    </tr>\n",
              "    <tr>\n",
              "      <th>3</th>\n",
              "      <td>cart</td>\n",
              "      <td>0bc61b76-0250-4bcf-a018-0fc347b9dfe7</td>\n",
              "    </tr>\n",
              "    <tr>\n",
              "      <th>4</th>\n",
              "      <td>view</td>\n",
              "      <td>d188fb42-3dba-416a-817c-4ae404782923</td>\n",
              "    </tr>\n",
              "    <tr>\n",
              "      <th>...</th>\n",
              "      <td>...</td>\n",
              "      <td>...</td>\n",
              "    </tr>\n",
              "    <tr>\n",
              "      <th>49995</th>\n",
              "      <td>view</td>\n",
              "      <td>490c5c50-46bb-4115-bb28-6648766461a2</td>\n",
              "    </tr>\n",
              "    <tr>\n",
              "      <th>49996</th>\n",
              "      <td>view</td>\n",
              "      <td>05b56381-e5f4-473c-9f88-bacc2467e870</td>\n",
              "    </tr>\n",
              "    <tr>\n",
              "      <th>49997</th>\n",
              "      <td>cart</td>\n",
              "      <td>5969dc84-5c24-4cf2-92da-809033467398</td>\n",
              "    </tr>\n",
              "    <tr>\n",
              "      <th>49998</th>\n",
              "      <td>cart</td>\n",
              "      <td>ef64975a-1d3b-4748-904c-b2ee21ff833f</td>\n",
              "    </tr>\n",
              "    <tr>\n",
              "      <th>49999</th>\n",
              "      <td>view</td>\n",
              "      <td>c4ce6b1e-8b57-4757-8a74-1d5809c91f6f</td>\n",
              "    </tr>\n",
              "  </tbody>\n",
              "</table>\n",
              "<p>50000 rows × 2 columns</p>\n",
              "</div>"
            ],
            "text/plain": [
              "      event_type                          user_session\n",
              "0           view  2facb977-3e04-43cc-97cd-8dab7ca6fc66\n",
              "1           view  4602efdb-6505-40ef-a0b7-989fd61be34c\n",
              "2           cart  2877e64b-6d57-4c57-82fd-6f7be113aed7\n",
              "3           cart  0bc61b76-0250-4bcf-a018-0fc347b9dfe7\n",
              "4           view  d188fb42-3dba-416a-817c-4ae404782923\n",
              "...          ...                                   ...\n",
              "49995       view  490c5c50-46bb-4115-bb28-6648766461a2\n",
              "49996       view  05b56381-e5f4-473c-9f88-bacc2467e870\n",
              "49997       cart  5969dc84-5c24-4cf2-92da-809033467398\n",
              "49998       cart  ef64975a-1d3b-4748-904c-b2ee21ff833f\n",
              "49999       view  c4ce6b1e-8b57-4757-8a74-1d5809c91f6f\n",
              "\n",
              "[50000 rows x 2 columns]"
            ]
          },
          "execution_count": 108,
          "metadata": {},
          "output_type": "execute_result"
        }
      ],
      "source": [
        "loaded_df2 = pd.DataFrame(wks2.get_all_records())\n",
        "loaded_df2"
      ]
    },
    {
      "cell_type": "code",
      "execution_count": null,
      "metadata": {},
      "outputs": [],
      "source": []
    }
  ],
  "metadata": {
    "colab": {
      "provenance": []
    },
    "kernelspec": {
      "display_name": ".venv",
      "language": "python",
      "name": "python3"
    },
    "language_info": {
      "codemirror_mode": {
        "name": "ipython",
        "version": 3
      },
      "file_extension": ".py",
      "mimetype": "text/x-python",
      "name": "python",
      "nbconvert_exporter": "python",
      "pygments_lexer": "ipython3",
      "version": "3.10.0"
    }
  },
  "nbformat": 4,
  "nbformat_minor": 0
}
