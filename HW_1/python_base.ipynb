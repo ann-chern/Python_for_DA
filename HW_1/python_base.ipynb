{
  "cells": [
    {
      "cell_type": "markdown",
      "metadata": {
        "id": "Kp9a1RuEoZQS"
      },
      "source": [
        "# Добро пожаловать на курс \"Python for DA\"!"
      ]
    },
    {
      "cell_type": "markdown",
      "metadata": {
        "id": "8iwt7BIdhOyF"
      },
      "source": [
        "## Задачи"
      ]
    },
    {
      "cell_type": "markdown",
      "source": [
        "### Задача 1.\n",
        "\n",
        "Выведите список в обратном порядке, используя срезы."
      ],
      "metadata": {
        "id": "D-qONW_Do9x0"
      }
    },
    {
      "cell_type": "code",
      "source": [
        "import numpy as np\n",
        "\n",
        "l = [i for i in range(10)]\n",
        "l"
      ],
      "metadata": {
        "colab": {
          "base_uri": "https://localhost:8080/"
        },
        "id": "uV6CZGmWpqHr",
        "outputId": "7bd121c9-e749-43be-eee4-ea9dd69f2271"
      },
      "execution_count": null,
      "outputs": [
        {
          "output_type": "execute_result",
          "data": {
            "text/plain": [
              "[0, 1, 2, 3, 4, 5, 6, 7, 8, 9]"
            ]
          },
          "metadata": {},
          "execution_count": 8
        }
      ]
    },
    {
      "cell_type": "code",
      "source": [
        "l[::-1]"
      ],
      "metadata": {
        "colab": {
          "base_uri": "https://localhost:8080/"
        },
        "id": "38jEqOZNp7gv",
        "outputId": "912b5910-f9cf-4f12-96f4-59aa5e263715"
      },
      "execution_count": null,
      "outputs": [
        {
          "output_type": "execute_result",
          "data": {
            "text/plain": [
              "[9, 8, 7, 6, 5, 4, 3, 2, 1, 0]"
            ]
          },
          "metadata": {},
          "execution_count": 9
        }
      ]
    },
    {
      "cell_type": "markdown",
      "source": [
        "### Задача 2.\n",
        "\n",
        "Выведите все уникальные элементы строки."
      ],
      "metadata": {
        "id": "aPDcAJufopVL"
      }
    },
    {
      "cell_type": "code",
      "source": [
        "s = 'With great power comes great responsibility'\n",
        "s = set(s.split())\n",
        "s"
      ],
      "metadata": {
        "colab": {
          "base_uri": "https://localhost:8080/"
        },
        "id": "u3Pm7wGfqZsK",
        "outputId": "c40656bc-727b-4fb4-e2df-47ffa470b64f"
      },
      "execution_count": null,
      "outputs": [
        {
          "output_type": "execute_result",
          "data": {
            "text/plain": [
              "{'With', 'comes', 'great', 'power', 'responsibility'}"
            ]
          },
          "metadata": {},
          "execution_count": 10
        }
      ]
    },
    {
      "cell_type": "markdown",
      "source": [
        "### Задача 3.\n",
        "\n",
        "Выведите лексикографически большую из двух строк, не используя условный оператор."
      ],
      "metadata": {
        "id": "-rxho2Neou1n"
      }
    },
    {
      "cell_type": "code",
      "source": [
        "s1 = 'to have a car'\n",
        "s2 = 'to have a friend who has a car'\n",
        "print(max(s1, s2, key=len))"
      ],
      "metadata": {
        "colab": {
          "base_uri": "https://localhost:8080/"
        },
        "id": "IYIRlacMrQJZ",
        "outputId": "04e2773a-830b-4511-de99-dcda44572635"
      },
      "execution_count": null,
      "outputs": [
        {
          "output_type": "stream",
          "name": "stdout",
          "text": [
            "to have a friend who has a car\n"
          ]
        }
      ]
    },
    {
      "cell_type": "code",
      "source": [
        "s1 = 'car'\n",
        "s2 = 'Car'\n",
        "print(max(s1, s2, key=len))"
      ],
      "metadata": {
        "colab": {
          "base_uri": "https://localhost:8080/"
        },
        "id": "h4sxk29NsCgS",
        "outputId": "e55470d4-332c-4e7f-db13-7d1fa60e5598"
      },
      "execution_count": null,
      "outputs": [
        {
          "output_type": "stream",
          "name": "stdout",
          "text": [
            "car\n"
          ]
        }
      ]
    },
    {
      "cell_type": "markdown",
      "source": [
        "или так"
      ],
      "metadata": {
        "id": "UCNQForyQjol"
      }
    },
    {
      "cell_type": "code",
      "source": [
        "print(s1 * (s1 > s2) + s2 * (s2 > s1))"
      ],
      "metadata": {
        "colab": {
          "base_uri": "https://localhost:8080/"
        },
        "id": "g-NktGKxQiaF",
        "outputId": "74ffc41c-5abd-454c-f6e0-277d4f312faa"
      },
      "execution_count": null,
      "outputs": [
        {
          "output_type": "stream",
          "name": "stdout",
          "text": [
            "car\n"
          ]
        }
      ]
    },
    {
      "cell_type": "markdown",
      "source": [
        "### Задача 4.\n",
        "\n",
        "Выведите список из 100 чисел через запятую. Чистыми циклами пользоваться нельзя. (list comprehensions можно)"
      ],
      "metadata": {
        "id": "9gGvJlqDo1aF"
      }
    },
    {
      "cell_type": "code",
      "source": [
        "numbers = [i for i in range(1, 101)]\n",
        "print(*numbers, sep=', ')"
      ],
      "metadata": {
        "colab": {
          "base_uri": "https://localhost:8080/"
        },
        "id": "A8nVpQpJoye9",
        "outputId": "c224e4db-c815-46a6-ff34-2700e993b82f"
      },
      "execution_count": null,
      "outputs": [
        {
          "output_type": "stream",
          "name": "stdout",
          "text": [
            "1, 2, 3, 4, 5, 6, 7, 8, 9, 10, 11, 12, 13, 14, 15, 16, 17, 18, 19, 20, 21, 22, 23, 24, 25, 26, 27, 28, 29, 30, 31, 32, 33, 34, 35, 36, 37, 38, 39, 40, 41, 42, 43, 44, 45, 46, 47, 48, 49, 50, 51, 52, 53, 54, 55, 56, 57, 58, 59, 60, 61, 62, 63, 64, 65, 66, 67, 68, 69, 70, 71, 72, 73, 74, 75, 76, 77, 78, 79, 80, 81, 82, 83, 84, 85, 86, 87, 88, 89, 90, 91, 92, 93, 94, 95, 96, 97, 98, 99, 100\n"
          ]
        }
      ]
    },
    {
      "cell_type": "markdown",
      "metadata": {
        "id": "GE9ejFl2h3kF"
      },
      "source": [
        "### Задача 5\n",
        "\n",
        "1. Дан массив строк: `['agfkd.,f', 'Qksdf;sb&..', 'asdoo*', 'bgf...d', 're54()kj[]].'] `\n",
        "2. Создайте список, состоящий из количества точек в каждой строке. Выведите его\n",
        "3. Создайте новый список, в котором будут **только строки, в которых более 2-х точек**. Выведите его  \n",
        "\n",
        "Циклами пользоваться нельзя."
      ]
    },
    {
      "cell_type": "code",
      "source": [
        "elems = ['agfkd.,f', 'Qksdf;sb&..', 'asdoo*', 'bgf...d', 're54()kj[]].']\n",
        "dots = [elem.count('.') for elem in elems]\n",
        "dots"
      ],
      "metadata": {
        "colab": {
          "base_uri": "https://localhost:8080/"
        },
        "id": "Ik6zom_btHVY",
        "outputId": "d264722c-ebe7-4543-a942-5529b3e2a6ac"
      },
      "execution_count": null,
      "outputs": [
        {
          "output_type": "execute_result",
          "data": {
            "text/plain": [
              "[1, 2, 0, 3, 1]"
            ]
          },
          "metadata": {},
          "execution_count": 19
        }
      ]
    },
    {
      "cell_type": "code",
      "source": [
        "new_elems = [elems[i] for i in range(len(elems)) if dots[i]>2]\n",
        "new_elems"
      ],
      "metadata": {
        "colab": {
          "base_uri": "https://localhost:8080/"
        },
        "id": "P6lhvdy0t3u0",
        "outputId": "932701e8-eca8-40b4-ccc6-c062beeaf6b0"
      },
      "execution_count": null,
      "outputs": [
        {
          "output_type": "execute_result",
          "data": {
            "text/plain": [
              "['bgf...d']"
            ]
          },
          "metadata": {},
          "execution_count": 20
        }
      ]
    },
    {
      "cell_type": "markdown",
      "metadata": {
        "id": "clSL0MRbin3o"
      },
      "source": [
        "### Задача 6\n",
        "\n",
        "1. Даны два списка одинаковых размеров из одинаковых элементов:  \n",
        "`items = [1 5 6 9 8 7 2 3 4]`  \n",
        "`shuffled_items = [2 3 4 1 6 5 7 9 8]`  \n",
        "\n",
        "2. Расставьте элементы (с помощью функции `sort()`) в списоке `items` так, чтобы получился список `shuffled_items`  "
      ]
    },
    {
      "cell_type": "code",
      "source": [
        "items = [1, 5, 6, 9, 8, 7, 2, 3, 4]\n",
        "shuffled_items = [2, 3, 4, 1, 6, 5, 7, 9, 8]\n",
        "\n",
        "items.sort()\n",
        "item_dict = dict(zip(shuffled_items, items))\n",
        "items.sort(key=lambda key: item_dict[key])\n",
        "items == shuffled_items"
      ],
      "metadata": {
        "colab": {
          "base_uri": "https://localhost:8080/"
        },
        "id": "uYwMUsTxuhKV",
        "outputId": "55370351-6d1f-42ad-f498-7dc19ce912c3"
      },
      "execution_count": null,
      "outputs": [
        {
          "output_type": "execute_result",
          "data": {
            "text/plain": [
              "True"
            ]
          },
          "metadata": {},
          "execution_count": 13
        }
      ]
    },
    {
      "cell_type": "markdown",
      "metadata": {
        "id": "g3WVELUkiwgj"
      },
      "source": [
        "### Задача 7\n",
        "\n",
        "За многие годы заточения узник замка Иф проделал в стене прямоугольное отверстие размером D×E. Замок Иф сложен из кирпичей, размером A×B×C. Определите, сможет ли узник выбрасывать кирпичи в море через это отверстие, если стороны кирпича должны быть параллельны сторонам отверстия.\n",
        "\n",
        "Программа получает на вход числа A, B, C, D, E. Программа должна вывести слово YES или NO."
      ]
    },
    {
      "cell_type": "code",
      "source": [
        "def escape(a, b, c, d, e):\n",
        "  if a <= d and b <= e or a <= e and b <= d: # можно выбрасывать кирпич гранью ab\n",
        "      print(\"YES\")\n",
        "  elif c <= d and b <= e or c <= e and b <= d: # можно выбрасывать кирпич гранью cb\n",
        "      print(\"YES\")\n",
        "  elif c <= d and a <= e or c <= e and a <= d: # можно выбрасывать кирпич гранью ca\n",
        "      print(\"YES\")\n",
        "  else:\n",
        "      print(\"NO\")\n",
        "\n",
        "a = int(input())\n",
        "b = int(input())\n",
        "c = int(input())\n",
        "d = int(input())\n",
        "e = int(input())\n",
        "\n",
        "escape(a, b, c, d, e)"
      ],
      "metadata": {
        "colab": {
          "base_uri": "https://localhost:8080/"
        },
        "id": "jGlO_UDYxp4f",
        "outputId": "305a5dca-0cbb-4182-967f-eac1d4720e3c"
      },
      "execution_count": null,
      "outputs": [
        {
          "output_type": "stream",
          "name": "stdout",
          "text": [
            "1\n",
            "1\n",
            "1\n",
            "1\n",
            "1\n",
            "YES\n"
          ]
        }
      ]
    },
    {
      "cell_type": "code",
      "source": [
        "a = int(input())\n",
        "b = int(input())\n",
        "c = int(input())\n",
        "d = int(input())\n",
        "e = int(input())\n",
        "\n",
        "escape(a, b, c, d, e)"
      ],
      "metadata": {
        "colab": {
          "base_uri": "https://localhost:8080/"
        },
        "id": "JKe-3Xe11hlB",
        "outputId": "4200a3f7-d1b1-4722-962c-2baa454e45e8"
      },
      "execution_count": null,
      "outputs": [
        {
          "output_type": "stream",
          "name": "stdout",
          "text": [
            "2\n",
            "2\n",
            "2\n",
            "1\n",
            "1\n",
            "NO\n"
          ]
        }
      ]
    },
    {
      "cell_type": "markdown",
      "metadata": {
        "id": "R0f9LFZ0gQxC"
      },
      "source": [
        "### Задача 8.\n",
        "\n",
        "Даны два числа, найти их наибольший общий делитель (НОД) - наибольшее число, на которые оба заданных числа делятся нацело."
      ]
    },
    {
      "cell_type": "code",
      "source": [
        "a = int(input())\n",
        "b = int(input())\n",
        "\n",
        "# алгоритм поиска НОД Евклида\n",
        "while a != 0 and b != 0:\n",
        "    if a > b:\n",
        "        a = a % b\n",
        "    else:\n",
        "        b = b % a\n",
        "\n",
        "print(a + b)"
      ],
      "metadata": {
        "colab": {
          "base_uri": "https://localhost:8080/"
        },
        "id": "Cwj04Ixc1tpT",
        "outputId": "f6c0217b-7e48-4208-f424-7aa6f947d4f9"
      },
      "execution_count": null,
      "outputs": [
        {
          "output_type": "stream",
          "name": "stdout",
          "text": [
            "24\n",
            "128\n",
            "8\n"
          ]
        }
      ]
    },
    {
      "cell_type": "markdown",
      "metadata": {
        "id": "gDtkj1GXhFHi"
      },
      "source": [
        "### Задача 9.\n",
        "\n",
        "На вход подаётся число N - вывести матрицу-спираль размера NxN. Пример для 3x3:\n",
        "\n",
        "1 2 3\n",
        "\n",
        "8 9 4\n",
        "\n",
        "7 6 5\n"
      ]
    },
    {
      "cell_type": "code",
      "source": [
        "n = int(input())\n",
        "matrix = [[0] * n for _ in range(n)]\n",
        "\n",
        "i = 1\n",
        "x = 0\n",
        "y = -1\n",
        "d_row = 0 # -1 если движение вверх, 0 в том же ряду, 1 движение вниз\n",
        "d_col = 1 # -1 если движение влево, 0 в той же колонке, 1 движение вправо\n",
        "while i <= n ** 2:\n",
        "  if 0 <= x + d_row < n and 0 <= y + d_col < n and matrix[x + d_row][y + d_col] == 0:\n",
        "    x += d_row\n",
        "    y += d_col\n",
        "    matrix[x][y] = i\n",
        "    i += 1\n",
        "  else: # cлучаи поворота спирали\n",
        "    if d_col == 1:\n",
        "      d_col = 0\n",
        "      d_row = 1\n",
        "    elif d_row == 1:\n",
        "      d_row = 0\n",
        "      d_col = -1\n",
        "    elif d_col == -1:\n",
        "      d_col = 0\n",
        "      d_row = -1\n",
        "    elif d_row == -1:\n",
        "      d_row = 0\n",
        "      d_col = 1\n",
        "\n",
        "for row in matrix:\n",
        "    print(*row)"
      ],
      "metadata": {
        "colab": {
          "base_uri": "https://localhost:8080/"
        },
        "id": "gaTH9Ur7Cz1e",
        "outputId": "7f04883f-8192-4820-84bb-1fff369a8a0c"
      },
      "execution_count": null,
      "outputs": [
        {
          "output_type": "stream",
          "name": "stdout",
          "text": [
            "4\n",
            "1 2 3 4\n",
            "12 13 14 5\n",
            "11 16 15 6\n",
            "10 9 8 7\n"
          ]
        }
      ]
    },
    {
      "cell_type": "markdown",
      "metadata": {
        "id": "N62SpxzQhFMI"
      },
      "source": [
        "### Задача 10.\n",
        "\n",
        "Обратить словарь (поменять местами ключи и значения)."
      ]
    },
    {
      "cell_type": "code",
      "source": [
        "got = {'Tyrion Lannister': ' Peter Dinklage', 'Daenerys Targaryen': 'Emilia Clarke', 'Jon Snow': 'Kit Harington', 'Sansa Stark': 'Sophie Turner'}"
      ],
      "metadata": {
        "id": "uAQ3rSc6Wnlc"
      },
      "execution_count": null,
      "outputs": []
    },
    {
      "cell_type": "code",
      "source": [
        "reversed_got = dict(zip(got.values(), got.keys()))\n",
        "reversed_got"
      ],
      "metadata": {
        "colab": {
          "base_uri": "https://localhost:8080/"
        },
        "id": "jFR3OmyVYDAt",
        "outputId": "0a45e6c2-59e5-4e25-be77-1462bc205256"
      },
      "execution_count": null,
      "outputs": [
        {
          "output_type": "execute_result",
          "data": {
            "text/plain": [
              "{' Peter Dinklage': 'Tyrion Lannister',\n",
              " 'Emilia Clarke': 'Daenerys Targaryen',\n",
              " 'Kit Harington': 'Jon Snow',\n",
              " 'Sophie Turner': 'Sansa Stark'}"
            ]
          },
          "metadata": {},
          "execution_count": 37
        }
      ]
    },
    {
      "cell_type": "markdown",
      "source": [
        "или можно сделать так"
      ],
      "metadata": {
        "id": "ZbpBlBDKUQ3o"
      }
    },
    {
      "cell_type": "code",
      "source": [
        "reversed_got2 = {v:k for k, v in got.items()}\n",
        "reversed_got2"
      ],
      "metadata": {
        "colab": {
          "base_uri": "https://localhost:8080/"
        },
        "id": "uclz5ZR1Yt8Z",
        "outputId": "13b7efae-b39d-45fa-b018-3f4e97ec8afc"
      },
      "execution_count": null,
      "outputs": [
        {
          "output_type": "execute_result",
          "data": {
            "text/plain": [
              "{' Peter Dinklage': 'Tyrion Lannister',\n",
              " 'Emilia Clarke': 'Daenerys Targaryen',\n",
              " 'Kit Harington': 'Jon Snow',\n",
              " 'Sophie Turner': 'Sansa Stark'}"
            ]
          },
          "metadata": {},
          "execution_count": 38
        }
      ]
    },
    {
      "cell_type": "markdown",
      "metadata": {
        "id": "NNDjpetYmf-K"
      },
      "source": [
        "### Задача 11.\n",
        "\n",
        "Дана строка в виде случайной последовательности цифр. Вывести словарь из 3-х самых часто встречающихся цифр."
      ]
    },
    {
      "cell_type": "code",
      "source": [
        "s = '4127419916130414'\n",
        "sorted_numbers = sorted(list(s), key = list(s).count, reverse = True)\n",
        "sorted_numbers_dict = {elem : sorted_numbers.count(elem) for elem in sorted_numbers}\n",
        "sorted_numbers_dict"
      ],
      "metadata": {
        "colab": {
          "base_uri": "https://localhost:8080/"
        },
        "id": "61k5qfcda0zU",
        "outputId": "40cc10b6-905a-4271-eec5-c14b3e01e236"
      },
      "execution_count": null,
      "outputs": [
        {
          "output_type": "execute_result",
          "data": {
            "text/plain": [
              "{'1': 5, '4': 4, '9': 2, '2': 1, '7': 1, '6': 1, '3': 1, '0': 1}"
            ]
          },
          "metadata": {},
          "execution_count": 64
        }
      ]
    },
    {
      "cell_type": "code",
      "source": [
        "list(sorted_numbers_dict.keys())[:3]"
      ],
      "metadata": {
        "colab": {
          "base_uri": "https://localhost:8080/"
        },
        "id": "sMm5Fd7ob2Kn",
        "outputId": "792c54a1-c29c-41d4-a121-d56c6320bbff"
      },
      "execution_count": null,
      "outputs": [
        {
          "output_type": "execute_result",
          "data": {
            "text/plain": [
              "['1', '4', '9']"
            ]
          },
          "metadata": {},
          "execution_count": 70
        }
      ]
    },
    {
      "cell_type": "code",
      "source": [
        "top3_numbers = {key: sorted_numbers_dict[key] for key in list(sorted_numbers_dict.keys())[:3]}\n",
        "top3_numbers"
      ],
      "metadata": {
        "colab": {
          "base_uri": "https://localhost:8080/"
        },
        "id": "UFtkwsA8aeBq",
        "outputId": "9adc9364-ee91-4ae2-cd88-391d22dddb54"
      },
      "execution_count": null,
      "outputs": [
        {
          "output_type": "execute_result",
          "data": {
            "text/plain": [
              "{'1': 5, '4': 4, '9': 2}"
            ]
          },
          "metadata": {},
          "execution_count": 73
        }
      ]
    },
    {
      "cell_type": "markdown",
      "metadata": {
        "id": "OUVEsMwsmf-K"
      },
      "source": [
        "### Задача 12.\n",
        "\n",
        "Даны 2 множества. Проверить их и вывести сообщение в зависимости от ситуации:\n",
        "\n",
        "«Супермножество не обнаружено»\n",
        "\n",
        "«Объект {X} является чистым супермножеством»\n",
        "\n",
        "«Множества равны»"
      ]
    },
    {
      "cell_type": "code",
      "source": [
        "def two_set_study(x, y):\n",
        "  if x == y:\n",
        "    print('Множества равны')\n",
        "  elif x > y:\n",
        "    print(f'Объект {x} является чистым супермножеством')\n",
        "  elif y > x:\n",
        "    print(f'Объект {y} является чистым супермножеством')\n",
        "  else:\n",
        "    print('Супермножество не обнаружено')\n",
        "\n",
        "x = {2, 11, 45, 63}\n",
        "y = {2, 45, 63}\n",
        "two_set_study(x, y)"
      ],
      "metadata": {
        "colab": {
          "base_uri": "https://localhost:8080/"
        },
        "id": "dLr7yTQ2hK3r",
        "outputId": "3a2e85ea-5cf0-4e20-88ce-cc7f05470000"
      },
      "execution_count": null,
      "outputs": [
        {
          "output_type": "stream",
          "name": "stdout",
          "text": [
            "Объект {2, 11, 45, 63} является чистым супермножеством\n"
          ]
        }
      ]
    },
    {
      "cell_type": "code",
      "source": [
        "w = {32, 23, 56}\n",
        "z = {65, 66}\n",
        "two_set_study(w, z)"
      ],
      "metadata": {
        "colab": {
          "base_uri": "https://localhost:8080/"
        },
        "id": "VdDL7iYalBu4",
        "outputId": "47da08fe-042d-4246-aa2f-97c97ca5d515"
      },
      "execution_count": null,
      "outputs": [
        {
          "output_type": "stream",
          "name": "stdout",
          "text": [
            "Супермножество не обнаружено\n"
          ]
        }
      ]
    },
    {
      "cell_type": "code",
      "source": [
        "q = {50, 60, 70}\n",
        "v = {50, 60, 70}\n",
        "two_set_study(q, v)"
      ],
      "metadata": {
        "colab": {
          "base_uri": "https://localhost:8080/"
        },
        "id": "6trJlaNTlaTJ",
        "outputId": "9eaf4c1c-99c1-4f2e-ad5b-5ede4b96f8bf"
      },
      "execution_count": null,
      "outputs": [
        {
          "output_type": "stream",
          "name": "stdout",
          "text": [
            "Множества равны\n"
          ]
        }
      ]
    },
    {
      "cell_type": "markdown",
      "metadata": {
        "id": "YgRYDcoPhFQ5"
      },
      "source": [
        "### Задача 13 (рекурсия!)\n",
        "\n",
        "Древняя задача про ханойские башни.\n",
        "Есть три стержня. На одном из них лежат колечки разного диаметра в порядке уменьшения диаметра. За один ход можно переложить одно колечко со стержня на стержень, причём можно положить колечко\n",
        "только на колечко большего диаметра. Написать последовательность перекладывания всех колечек с одного стержня на другой."
      ]
    },
    {
      "cell_type": "code",
      "source": [
        "def move(n, start, finish):\n",
        "  '''\n",
        "  n - число колец\n",
        "  start - номер стержня, с которого начинают перекладывать\n",
        "  finish - номер стержня, на который перекладывают\n",
        "  '''\n",
        "  if n > 0:\n",
        "    tmp = 6 - start - finish # стержни пронумерованы как 1, 2, 3, в сумме это 6\n",
        "    move(n - 1, start, tmp)\n",
        "    print(n, start, finish)\n",
        "    move(n - 1, tmp, finish)\n",
        "\n",
        "n = int(input())\n",
        "move(n, 1, 3) # строка 1 2 3 означает перемещение диска номер 1 со стержня 2 на стержень 3"
      ],
      "metadata": {
        "colab": {
          "base_uri": "https://localhost:8080/"
        },
        "id": "3Y4afbvgyxHA",
        "outputId": "d3f10ef0-1bd6-4024-b70a-743b06a44528"
      },
      "execution_count": null,
      "outputs": [
        {
          "output_type": "stream",
          "name": "stdout",
          "text": [
            "3\n",
            "1 1 3\n",
            "2 1 2\n",
            "1 3 2\n",
            "3 1 3\n",
            "1 2 1\n",
            "2 2 3\n",
            "1 1 3\n"
          ]
        }
      ]
    },
    {
      "cell_type": "markdown",
      "metadata": {
        "id": "SkXnGrLhmf-K"
      },
      "source": [
        "### Задача 14.\n",
        "\n",
        "Напишите функцию, которая на вход принимает два списка. Если они равны по длине, находит поэлементное произведение, иначе объединяет списки, при этом оставляя только те значения, которые встречаются 2 или более раза. И в первом и во втором случае функция должна вернуть отсортированный список."
      ]
    },
    {
      "cell_type": "code",
      "source": [
        "def func(a, b):\n",
        "  if len(a) == len(b):\n",
        "    product = [a[i] * b[i] for i in range(len(a))]\n",
        "    return sorted(product)\n",
        "  else:\n",
        "    joined = a + b\n",
        "    joined_filtered = [elem for elem in joined if joined.count(elem) >=2 ]\n",
        "    return sorted(joined_filtered)\n",
        "\n",
        "a = [2, 1, 0]\n",
        "b = [5, 4, 3]\n",
        "func(a, b)"
      ],
      "metadata": {
        "colab": {
          "base_uri": "https://localhost:8080/"
        },
        "id": "vpUluZrRlzGt",
        "outputId": "1ce5b4ea-a9df-49b6-b0cd-df7e54c2790b"
      },
      "execution_count": null,
      "outputs": [
        {
          "output_type": "execute_result",
          "data": {
            "text/plain": [
              "[0, 4, 10]"
            ]
          },
          "metadata": {},
          "execution_count": 86
        }
      ]
    },
    {
      "cell_type": "code",
      "source": [
        "c = [5, 1, 3, 1, 77, 6]\n",
        "d = [6, 45, 2, 1]\n",
        "func(c, d)"
      ],
      "metadata": {
        "colab": {
          "base_uri": "https://localhost:8080/"
        },
        "id": "HlSY7dzHoQ0G",
        "outputId": "dcfe05c1-0fb5-4837-d135-6ea0a8f93dde"
      },
      "execution_count": null,
      "outputs": [
        {
          "output_type": "execute_result",
          "data": {
            "text/plain": [
              "[1, 1, 1, 6, 6]"
            ]
          },
          "metadata": {},
          "execution_count": 87
        }
      ]
    },
    {
      "cell_type": "markdown",
      "metadata": {
        "id": "1GrsQJJ3mf-L"
      },
      "source": [
        "### Задача 15.\n",
        "\n",
        "Напишите функцию для нахождения самой длинной подстроки одинаковых подряд идущих букв в заданной строке."
      ]
    },
    {
      "cell_type": "code",
      "source": [
        "def long_seq(s):\n",
        "  max_count = 1\n",
        "  count = 1\n",
        "  max_ind = 0\n",
        "  for i in range(2, len(s)):\n",
        "      if s[i] == s[i-1]:\n",
        "          count += 1\n",
        "          if count > max_count:\n",
        "              max_count = count\n",
        "              max_ind = i\n",
        "      else:\n",
        "        count = 1\n",
        "  print(s[max_ind] * max_count)\n"
      ],
      "metadata": {
        "id": "wlnl15P8pSxn"
      },
      "execution_count": null,
      "outputs": []
    },
    {
      "cell_type": "code",
      "source": [
        "s = 'wfoooootthbaaaaaaaaaa'\n",
        "long_seq(s)"
      ],
      "metadata": {
        "colab": {
          "base_uri": "https://localhost:8080/"
        },
        "id": "iza16roB8jsE",
        "outputId": "c9b93b44-afad-4a18-b7ea-e7333b6d9fab"
      },
      "execution_count": null,
      "outputs": [
        {
          "output_type": "stream",
          "name": "stdout",
          "text": [
            "aaaaaaaaaa\n"
          ]
        }
      ]
    },
    {
      "cell_type": "markdown",
      "metadata": {
        "id": "4asqX1nMmf-L"
      },
      "source": [
        "### Задача 16.\n",
        "\n",
        "Напишите функцию, которая в качестве единственного аргумента принимает целое положительное число и поворачивает данное число, при этом удаляя ведущие нули."
      ]
    },
    {
      "cell_type": "code",
      "source": [
        "def reverse_number(x):\n",
        "  y = 0\n",
        "  while x > 0:\n",
        "    digit = x % 10\n",
        "    x = x // 10\n",
        "    y *= 10\n",
        "    y += digit\n",
        "  return y\n",
        "\n",
        "reverse_number(12340)"
      ],
      "metadata": {
        "colab": {
          "base_uri": "https://localhost:8080/"
        },
        "id": "oDy863dR8vOt",
        "outputId": "528f68c8-6a7d-4d9a-e091-bf9aa13232e7"
      },
      "execution_count": null,
      "outputs": [
        {
          "output_type": "execute_result",
          "data": {
            "text/plain": [
              "4321"
            ]
          },
          "metadata": {},
          "execution_count": 93
        }
      ]
    },
    {
      "cell_type": "code",
      "source": [
        "reverse_number(1000)"
      ],
      "metadata": {
        "colab": {
          "base_uri": "https://localhost:8080/"
        },
        "id": "iIQEbbvO-Xuy",
        "outputId": "e2aa79cc-77a6-4ff9-8469-abace127c5a7"
      },
      "execution_count": null,
      "outputs": [
        {
          "output_type": "execute_result",
          "data": {
            "text/plain": [
              "1"
            ]
          },
          "metadata": {},
          "execution_count": 94
        }
      ]
    },
    {
      "cell_type": "markdown",
      "source": [
        "### Задача 17."
      ],
      "metadata": {
        "id": "44tTdc4ihXhV"
      }
    },
    {
      "cell_type": "code",
      "execution_count": null,
      "metadata": {
        "id": "-S1s_o0pmf-L"
      },
      "outputs": [],
      "source": [
        "# Напишите класс Circle со следующим функционалом. Добавьте примеры использования реализованного функционала класса.\n",
        "\n",
        "# - поле радиуса\n",
        "# - конструктор ( __init__ ), инициализирующий радиус заданным числом\n",
        "# - метод, возвращающий радиус\n",
        "# - метод, возвращающий диаметр\n",
        "# - метод __len__, возвращающий длину окружности\n",
        "# - метод, возвращающий площадь круга\n",
        "# - метод, умножающий радиус на заданное число\n",
        "# - метод __mul__, реализующий оператор *, который принимает вещественное число и возвращает новую окружность с радиусом, умноженным на заданное число\n",
        "# - поля координат центра\n",
        "# - метод, возвращающий координаты центра\n",
        "# - метод, перемещающий центр на заданный вектор\n",
        "# - метод, возвращающий расстояние от центра окружности до начала координат\n",
        "# - метод __add__, реализующий оператор +, принимающий другую окружность и возвращающий новую окружность с центром в середине отрезка, соединяющего центры данных окружностей, и площадью, равной сумме площадей данных окружностей\n",
        "# - метод __str__, выписывающий уравнение окружности\n",
        "\n"
      ]
    },
    {
      "cell_type": "code",
      "source": [
        "import math\n",
        "\n",
        "class Circle(object):\n",
        "  def __init__(self, radius=1, center=(0,0)):\n",
        "    self.radius = radius\n",
        "    self.center = center\n",
        "\n",
        "  def get_radius(self):\n",
        "    return self.radius\n",
        "\n",
        "  def get_diameter(self):\n",
        "    return self.radius * 2\n",
        "  '''\n",
        "  def __len__(self):\n",
        "    return 2 * math.pi * self.radius\n",
        "  '''\n",
        "  def len(self):\n",
        "    return 2 * math.pi * self.radius\n",
        "\n",
        "  def get_square(self):\n",
        "    return math.pi * self.radius ** 2\n",
        "\n",
        "  def multiply(self, a):\n",
        "    self.radius =  a * self.radius\n",
        "\n",
        "  def __mul__(self, a):\n",
        "    return Circle(a * self.radius, self.center)\n",
        "\n",
        "  def get_center(self):\n",
        "    return self.center\n",
        "\n",
        "  def transfer(self, b):\n",
        "    self.center = (self.center[0] + b[0], self.center[1] + b[1])\n",
        "\n",
        "  def radius_vector(self):\n",
        "    return  (self.center[0] ** 2 + self.center[1] ** 2) ** 0.5\n",
        "\n",
        "  def __add__(self, circ):\n",
        "    new_radius=((self.get_square() + circ.get_square())/math.pi)**0.5\n",
        "    new_center = ((self.center[0] + circ.center[0])/2, (self.center[1] + circ.center[1])/2)\n",
        "    new_circle = Circle(new_radius, new_center)\n",
        "    return new_circle\n",
        "\n",
        "\n",
        "  def __str__(self):\n",
        "    return f'(x - {self.center[0]})^2 + (y - {self.center[1]})^2 = {self.radius ** 2}'"
      ],
      "metadata": {
        "id": "1UOKgP7m-fm-"
      },
      "execution_count": null,
      "outputs": []
    },
    {
      "cell_type": "code",
      "source": [
        "circ1 = Circle(3, (5, 0))\n",
        "print(circ1)\n",
        "print('Радиус:', circ1.get_radius())\n",
        "print('Диаметр:', circ1.get_diameter())\n",
        "print('Площадь:', circ1.get_square())\n",
        "print('Длина окружности:', len(circ1))"
      ],
      "metadata": {
        "colab": {
          "base_uri": "https://localhost:8080/",
          "height": 245
        },
        "id": "XlRcnpR4c2VF",
        "outputId": "92f615e3-7fd5-4ee3-db26-b19f999a6d14"
      },
      "execution_count": null,
      "outputs": [
        {
          "output_type": "stream",
          "name": "stdout",
          "text": [
            "(x - 5)^2 + (y - 0)^2 = 9\n",
            "Радиус: 3\n",
            "Диаметр: 6\n",
            "Площадь: 28.274333882308138\n"
          ]
        },
        {
          "output_type": "error",
          "ename": "TypeError",
          "evalue": "object of type 'Circle' has no len()",
          "traceback": [
            "\u001b[0;31m---------------------------------------------------------------------------\u001b[0m",
            "\u001b[0;31mTypeError\u001b[0m                                 Traceback (most recent call last)",
            "\u001b[0;32m<ipython-input-77-70b490e5c054>\u001b[0m in \u001b[0;36m<cell line: 6>\u001b[0;34m()\u001b[0m\n\u001b[1;32m      4\u001b[0m \u001b[0mprint\u001b[0m\u001b[0;34m(\u001b[0m\u001b[0;34m'Диаметр:'\u001b[0m\u001b[0;34m,\u001b[0m \u001b[0mcirc1\u001b[0m\u001b[0;34m.\u001b[0m\u001b[0mget_diameter\u001b[0m\u001b[0;34m(\u001b[0m\u001b[0;34m)\u001b[0m\u001b[0;34m)\u001b[0m\u001b[0;34m\u001b[0m\u001b[0;34m\u001b[0m\u001b[0m\n\u001b[1;32m      5\u001b[0m \u001b[0mprint\u001b[0m\u001b[0;34m(\u001b[0m\u001b[0;34m'Площадь:'\u001b[0m\u001b[0;34m,\u001b[0m \u001b[0mcirc1\u001b[0m\u001b[0;34m.\u001b[0m\u001b[0mget_square\u001b[0m\u001b[0;34m(\u001b[0m\u001b[0;34m)\u001b[0m\u001b[0;34m)\u001b[0m\u001b[0;34m\u001b[0m\u001b[0;34m\u001b[0m\u001b[0m\n\u001b[0;32m----> 6\u001b[0;31m \u001b[0mprint\u001b[0m\u001b[0;34m(\u001b[0m\u001b[0;34m'Длина окружности:'\u001b[0m\u001b[0;34m,\u001b[0m \u001b[0mlen\u001b[0m\u001b[0;34m(\u001b[0m\u001b[0mcirc1\u001b[0m\u001b[0;34m)\u001b[0m\u001b[0;34m)\u001b[0m\u001b[0;34m\u001b[0m\u001b[0;34m\u001b[0m\u001b[0m\n\u001b[0m",
            "\u001b[0;31mTypeError\u001b[0m: object of type 'Circle' has no len()"
          ]
        }
      ]
    },
    {
      "cell_type": "markdown",
      "source": [
        "переопределить len не получается"
      ],
      "metadata": {
        "id": "WnXQqovvegA-"
      }
    },
    {
      "cell_type": "code",
      "source": [
        "print('Длина окружности:', circ1.len())"
      ],
      "metadata": {
        "colab": {
          "base_uri": "https://localhost:8080/"
        },
        "id": "E7FnFaFpefts",
        "outputId": "e04d3e68-5673-4862-824b-5926cd3e64d1"
      },
      "execution_count": null,
      "outputs": [
        {
          "output_type": "stream",
          "name": "stdout",
          "text": [
            "Длина окружности: 18.84955592153876\n"
          ]
        }
      ]
    },
    {
      "cell_type": "code",
      "source": [
        "circ1.multiply(2)\n",
        "print(circ1)\n",
        "print('Радиус после растяжения:', circ1.get_radius())"
      ],
      "metadata": {
        "colab": {
          "base_uri": "https://localhost:8080/"
        },
        "id": "ouUq0LXVeWSf",
        "outputId": "5c776f60-5067-4c89-d260-f727d553f0f9"
      },
      "execution_count": null,
      "outputs": [
        {
          "output_type": "stream",
          "name": "stdout",
          "text": [
            "(x - 5)^2 + (y - 0)^2 = 36\n",
            "Радиус после растяжения: 6\n"
          ]
        }
      ]
    },
    {
      "cell_type": "code",
      "source": [
        "circ2 = circ1 * (2/3)\n",
        "print(circ2)\n",
        "print('Центр второй окружности:', circ2.get_center())\n",
        "circ2.transfer([-2, 1])\n",
        "print('Центр второй окружности после трансляции:', circ2.get_center())"
      ],
      "metadata": {
        "colab": {
          "base_uri": "https://localhost:8080/"
        },
        "id": "esWvjAGRdJWJ",
        "outputId": "296131d0-41e5-438e-ac28-6f3fa62111cd"
      },
      "execution_count": null,
      "outputs": [
        {
          "output_type": "stream",
          "name": "stdout",
          "text": [
            "(x - 5)^2 + (y - 0)^2 = 16.0\n",
            "Центр второй окружности: (5, 0)\n",
            "Центр второй окружности после трансляции: (3, 1)\n"
          ]
        }
      ]
    },
    {
      "cell_type": "code",
      "source": [
        "print('Расстояние до центра 1ой окр:', circ1.radius_vector())\n",
        "print('Расстояние до центра 2ой окр:', circ2.radius_vector())"
      ],
      "metadata": {
        "colab": {
          "base_uri": "https://localhost:8080/"
        },
        "id": "jaUhP2gRiNTq",
        "outputId": "b215e460-89e0-41e9-d347-6a5b177e5f3c"
      },
      "execution_count": null,
      "outputs": [
        {
          "output_type": "stream",
          "name": "stdout",
          "text": [
            "Расстояние до центра 1ой окр: 5.0\n",
            "Расстояние до центра 2ой окр: 3.1622776601683795\n"
          ]
        }
      ]
    },
    {
      "cell_type": "code",
      "source": [
        "circ3 = circ1 + circ2\n",
        "print(circ3)\n",
        "print('Площадь третьей окружности:', circ3.get_square(),'\\nСумма площадей первых двух окружностей:', circ1.get_square() + circ2.get_square())"
      ],
      "metadata": {
        "colab": {
          "base_uri": "https://localhost:8080/"
        },
        "id": "cyyh90_Nl1Vd",
        "outputId": "8e1a5863-3e5d-4c12-e374-08eeb95849cc"
      },
      "execution_count": null,
      "outputs": [
        {
          "output_type": "stream",
          "name": "stdout",
          "text": [
            "(x - 4.0)^2 + (y - 0.5)^2 = 52.00000000000001\n",
            "Площадь третьей окружности: 163.36281798666926 \n",
            "Сумма площадей первых двух окружностей: 163.36281798666926\n"
          ]
        }
      ]
    },
    {
      "cell_type": "markdown",
      "metadata": {
        "id": "N02JUIUPmf-L"
      },
      "source": [
        "### Задача 18.\n",
        "\n",
        "Запишите в файл sample.txt числа от 1 до 100 через пробел, закройте файл. Затем откройте файл на дозаписывание и допишите строку \"abrakadabra\"."
      ]
    },
    {
      "cell_type": "code",
      "execution_count": null,
      "metadata": {
        "id": "ZC5yjIb3mf-L",
        "colab": {
          "base_uri": "https://localhost:8080/"
        },
        "outputId": "a56d0fcb-ee50-40cc-ac34-d6ce382a5fc7"
      },
      "outputs": [
        {
          "output_type": "stream",
          "name": "stdout",
          "text": [
            "1 2 3 4 5 6 7 8 9 10 11 12 13 14 15 16 17 18 19 20 21 22 23 24 25 26 27 28 29 30 31 32 33 34 35 36 37 38 39 40 41 42 43 44 45 46 47 48 49 50 51 52 53 54 55 56 57 58 59 60 61 62 63 64 65 66 67 68 69 70 71 72 73 74 75 76 77 78 79 80 81 82 83 84 85 86 87 88 89 90 91 92 93 94 95 96 97 98 99 100\n"
          ]
        }
      ],
      "source": [
        "l = [i for i in range(1, 101)]\n",
        "print(*l)"
      ]
    },
    {
      "cell_type": "code",
      "source": [
        "f = open('sample.txt', 'w')\n",
        "for index in l:\n",
        "  f.write(str(index) + ' ')\n",
        "f.write('\\n')\n",
        "f.close()\n",
        "with open('sample.txt', 'a') as f:\n",
        "    f.write('abrakadabra')"
      ],
      "metadata": {
        "id": "FBHIUOmnNClo"
      },
      "execution_count": null,
      "outputs": []
    }
  ],
  "metadata": {
    "colab": {
      "provenance": [],
      "toc_visible": true
    },
    "kernelspec": {
      "display_name": "Python 3 (ipykernel)",
      "language": "python",
      "name": "python3"
    },
    "language_info": {
      "codemirror_mode": {
        "name": "ipython",
        "version": 3
      },
      "file_extension": ".py",
      "mimetype": "text/x-python",
      "name": "python",
      "nbconvert_exporter": "python",
      "pygments_lexer": "ipython3",
      "version": "3.10.12"
    }
  },
  "nbformat": 4,
  "nbformat_minor": 0
}